{
 "cells": [
  {
   "cell_type": "code",
   "execution_count": 9,
   "metadata": {},
   "outputs": [],
   "source": [
    "import glob, os, sys\n",
    "import datetime as dt\n",
    "from matplotlib.dates import date2num, num2date\n",
    "from calendar import monthrange\n",
    "import h5py\n",
    "import matplotlib.pylab as plt\n",
    "# from modest_image import imshow\n",
    "# import numpy as np   # already imported in zplsc_b\n",
    "\n",
    "sys.path.append('/Users/wujung/code/mi-instrument/')\n",
    "from mi.instrument.kut.ek60.ooicore.zplsc_b import *"
   ]
  },
  {
   "cell_type": "code",
   "execution_count": 2,
   "metadata": {},
   "outputs": [],
   "source": [
    "from concat_raw import *"
   ]
  },
  {
   "cell_type": "code",
   "execution_count": 3,
   "metadata": {},
   "outputs": [],
   "source": [
    "%matplotlib inline"
   ]
  },
  {
   "cell_type": "code",
   "execution_count": 4,
   "metadata": {},
   "outputs": [],
   "source": [
    "pname = '/Volumes/wjlee_apl_3/ooi_zplsc_600m/'\n",
    "mn = 8\n",
    "dd = 20\n",
    "files = glob.glob(os.path.join(pname,'OOI-D2017%02d%02d*.raw' % (mn,dd)))\n",
    "h5_fname = '/Volumes/wjlee_apl_3/ooi_zplsc_all_h5/CE04OSPS_2017%02d%02d.h5' % (mn,dd)"
   ]
  },
  {
   "cell_type": "code",
   "execution_count": 5,
   "metadata": {},
   "outputs": [
    {
     "data": {
      "text/plain": [
       "'/Volumes/wjlee_apl_2/ooi_zplsc_all_h5/CE04OSPS_20170822.h5'"
      ]
     },
     "execution_count": 5,
     "metadata": {},
     "output_type": "execute_result"
    }
   ],
   "source": [
    "h5_fname"
   ]
  },
  {
   "cell_type": "code",
   "execution_count": 6,
   "metadata": {},
   "outputs": [],
   "source": [
    "files.sort(key=os.path.getmtime)"
   ]
  },
  {
   "cell_type": "code",
   "execution_count": 7,
   "metadata": {},
   "outputs": [
    {
     "data": {
      "text/plain": [
       "['/Volumes/wjlee_apl_2/ooi_zplsc_600m/OOI-D20170822-T000000.raw',\n",
       " '/Volumes/wjlee_apl_2/ooi_zplsc_600m/OOI-D20170822-T013902.raw',\n",
       " '/Volumes/wjlee_apl_2/ooi_zplsc_600m/OOI-D20170822-T031804.raw',\n",
       " '/Volumes/wjlee_apl_2/ooi_zplsc_600m/OOI-D20170822-T045705.raw',\n",
       " '/Volumes/wjlee_apl_2/ooi_zplsc_600m/OOI-D20170822-T063606.raw',\n",
       " '/Volumes/wjlee_apl_2/ooi_zplsc_600m/OOI-D20170822-T081508.raw',\n",
       " '/Volumes/wjlee_apl_2/ooi_zplsc_600m/OOI-D20170822-T095414.raw',\n",
       " '/Volumes/wjlee_apl_2/ooi_zplsc_600m/OOI-D20170822-T113315.raw',\n",
       " '/Volumes/wjlee_apl_2/ooi_zplsc_600m/OOI-D20170822-T131217.raw',\n",
       " '/Volumes/wjlee_apl_2/ooi_zplsc_600m/OOI-D20170822-T145118.raw',\n",
       " '/Volumes/wjlee_apl_2/ooi_zplsc_600m/OOI-D20170822-T163019.raw',\n",
       " '/Volumes/wjlee_apl_2/ooi_zplsc_600m/OOI-D20170822-T180922.raw',\n",
       " '/Volumes/wjlee_apl_2/ooi_zplsc_600m/OOI-D20170822-T194823.raw',\n",
       " '/Volumes/wjlee_apl_2/ooi_zplsc_600m/OOI-D20170822-T212734.raw',\n",
       " '/Volumes/wjlee_apl_2/ooi_zplsc_600m/OOI-D20170822-T230642.raw']"
      ]
     },
     "execution_count": 7,
     "metadata": {},
     "output_type": "execute_result"
    }
   ],
   "source": [
    "files"
   ]
  },
  {
   "cell_type": "code",
   "execution_count": 8,
   "metadata": {},
   "outputs": [
    {
     "name": "stdout",
     "output_type": "stream",
     "text": [
      "Processing: /Volumes/wjlee_apl_2/ooi_zplsc_600m/OOI-D20170822-T000000.raw\n",
      "-- New H5 file, create new dataset...\n",
      "Processing: /Volumes/wjlee_apl_2/ooi_zplsc_600m/OOI-D20170822-T013902.raw\n",
      "-- H5 file exists, append new data mtx...\n",
      "Processing: /Volumes/wjlee_apl_2/ooi_zplsc_600m/OOI-D20170822-T031804.raw\n",
      "-- H5 file exists, append new data mtx...\n",
      "Processing: /Volumes/wjlee_apl_2/ooi_zplsc_600m/OOI-D20170822-T045705.raw\n",
      "-- H5 file exists, append new data mtx...\n",
      "Processing: /Volumes/wjlee_apl_2/ooi_zplsc_600m/OOI-D20170822-T063606.raw\n",
      "-- H5 file exists, append new data mtx...\n",
      "Processing: /Volumes/wjlee_apl_2/ooi_zplsc_600m/OOI-D20170822-T081508.raw\n",
      "-- H5 file exists, append new data mtx...\n",
      "Processing: /Volumes/wjlee_apl_2/ooi_zplsc_600m/OOI-D20170822-T095414.raw\n",
      "-- H5 file exists, append new data mtx...\n",
      "Processing: /Volumes/wjlee_apl_2/ooi_zplsc_600m/OOI-D20170822-T113315.raw\n",
      "-- H5 file exists, append new data mtx...\n",
      "Processing: /Volumes/wjlee_apl_2/ooi_zplsc_600m/OOI-D20170822-T131217.raw\n",
      "-- H5 file exists, append new data mtx...\n",
      "Processing: /Volumes/wjlee_apl_2/ooi_zplsc_600m/OOI-D20170822-T145118.raw\n",
      "-- H5 file exists, append new data mtx...\n",
      "Processing: /Volumes/wjlee_apl_2/ooi_zplsc_600m/OOI-D20170822-T163019.raw\n",
      "-- H5 file exists, append new data mtx...\n",
      "Processing: /Volumes/wjlee_apl_2/ooi_zplsc_600m/OOI-D20170822-T180922.raw\n",
      "-- H5 file exists, append new data mtx...\n",
      "Processing: /Volumes/wjlee_apl_2/ooi_zplsc_600m/OOI-D20170822-T194823.raw\n",
      "-- H5 file exists, append new data mtx...\n",
      "Processing: /Volumes/wjlee_apl_2/ooi_zplsc_600m/OOI-D20170822-T212734.raw\n",
      "-- H5 file exists, append new data mtx...\n",
      "Processing: /Volumes/wjlee_apl_2/ooi_zplsc_600m/OOI-D20170822-T230642.raw\n",
      "-- H5 file exists, append new data mtx...\n"
     ]
    }
   ],
   "source": [
    "for f in files:\n",
    "    unpack_raw_to_h5(f,h5_fname,deci_len=[])"
   ]
  },
  {
   "cell_type": "code",
   "execution_count": null,
   "metadata": {},
   "outputs": [],
   "source": []
  }
 ],
 "metadata": {
  "kernelspec": {
   "display_name": "Python [conda env:py27]",
   "language": "python",
   "name": "conda-env-py27-py"
  },
  "language_info": {
   "codemirror_mode": {
    "name": "ipython",
    "version": 2
   },
   "file_extension": ".py",
   "mimetype": "text/x-python",
   "name": "python",
   "nbconvert_exporter": "python",
   "pygments_lexer": "ipython2",
   "version": "2.7.12"
  }
 },
 "nbformat": 4,
 "nbformat_minor": 2
}
