{
 "cells": [
  {
   "cell_type": "code",
   "execution_count": 1,
   "metadata": {},
   "outputs": [
    {
     "name": "stderr",
     "output_type": "stream",
     "text": [
      "/Users/wujung/anaconda/envs/py27/lib/python2.7/site-packages/matplotlib/font_manager.py:273: UserWarning: Matplotlib is building the font cache using fc-list. This may take a moment.\n",
      "  warnings.warn('Matplotlib is building the font cache using fc-list. This may take a moment.')\n",
      "/Users/wujung/anaconda/envs/py27/lib/python2.7/site-packages/matplotlib/__init__.py:1357: UserWarning:  This call to matplotlib.use() has no effect\n",
      "because the backend has already been chosen;\n",
      "matplotlib.use() must be called *before* pylab, matplotlib.pyplot,\n",
      "or matplotlib.backends is imported for the first time.\n",
      "\n",
      "  warnings.warn(_use_error_msg)\n"
     ]
    }
   ],
   "source": [
    "import glob, os, sys\n",
    "import datetime as dt\n",
    "from matplotlib.dates import date2num, num2date\n",
    "from calendar import monthrange\n",
    "import h5py\n",
    "import matplotlib.pylab as plt\n",
    "# from modest_image import imshow\n",
    "# import numpy as np   # already imported in zplsc_b\n",
    "\n",
    "sys.path.append('/Users/wujung/code/mi-instrument/')\n",
    "from mi.instrument.kut.ek60.ooicore.zplsc_b import *"
   ]
  },
  {
   "cell_type": "code",
   "execution_count": 2,
   "metadata": {},
   "outputs": [],
   "source": [
    "from concat_raw import *"
   ]
  },
  {
   "cell_type": "code",
   "execution_count": 3,
   "metadata": {},
   "outputs": [],
   "source": [
    "%matplotlib inline"
   ]
  },
  {
   "cell_type": "code",
   "execution_count": 29,
   "metadata": {},
   "outputs": [],
   "source": [
    "ff = glob.glob('/Volumes/wjlee_apl_2/ooi_zplsc_600m/OOI-D20170821*.raw')"
   ]
  },
  {
   "cell_type": "code",
   "execution_count": 30,
   "metadata": {},
   "outputs": [
    {
     "data": {
      "text/plain": [
       "['/Volumes/wjlee_apl_2/ooi_zplsc_600m/OOI-D20170821-T000000.raw',\n",
       " '/Volumes/wjlee_apl_2/ooi_zplsc_600m/OOI-D20170821-T013914.raw',\n",
       " '/Volumes/wjlee_apl_2/ooi_zplsc_600m/OOI-D20170821-T031816.raw',\n",
       " '/Volumes/wjlee_apl_2/ooi_zplsc_600m/OOI-D20170821-T045717.raw',\n",
       " '/Volumes/wjlee_apl_2/ooi_zplsc_600m/OOI-D20170821-T063618.raw',\n",
       " '/Volumes/wjlee_apl_2/ooi_zplsc_600m/OOI-D20170821-T081522.raw',\n",
       " '/Volumes/wjlee_apl_2/ooi_zplsc_600m/OOI-D20170821-T095435.raw',\n",
       " '/Volumes/wjlee_apl_2/ooi_zplsc_600m/OOI-D20170821-T113343.raw',\n",
       " '/Volumes/wjlee_apl_2/ooi_zplsc_600m/OOI-D20170821-T131245.raw',\n",
       " '/Volumes/wjlee_apl_2/ooi_zplsc_600m/OOI-D20170821-T145147.raw',\n",
       " '/Volumes/wjlee_apl_2/ooi_zplsc_600m/OOI-D20170821-T163049.raw',\n",
       " '/Volumes/wjlee_apl_2/ooi_zplsc_600m/OOI-D20170821-T180952.raw',\n",
       " '/Volumes/wjlee_apl_2/ooi_zplsc_600m/OOI-D20170821-T194853.raw',\n",
       " '/Volumes/wjlee_apl_2/ooi_zplsc_600m/OOI-D20170821-T212802.raw',\n",
       " '/Volumes/wjlee_apl_2/ooi_zplsc_600m/OOI-D20170821-T230706.raw']"
      ]
     },
     "execution_count": 30,
     "metadata": {},
     "output_type": "execute_result"
    }
   ],
   "source": [
    "ff"
   ]
  },
  {
   "cell_type": "code",
   "execution_count": 31,
   "metadata": {},
   "outputs": [],
   "source": [
    "pname = '/Volumes/wjlee_apl_2/ooi_zplsc_600m/'\n",
    "mn = 8\n",
    "dd = 21\n",
    "files = glob.glob(os.path.join(pname,'OOI-D2017%02d%02d*.raw' % (mn,dd)))\n",
    "h5_fname = '/Volumes/wjlee_apl_2/ooi_zplsc_all_h5/CE04OSPS_20170%02d%02d.h5' % (mn,dd)"
   ]
  },
  {
   "cell_type": "code",
   "execution_count": 32,
   "metadata": {},
   "outputs": [
    {
     "data": {
      "text/plain": [
       "['/Volumes/wjlee_apl_2/ooi_zplsc_600m/OOI-D20170821-T000000.raw',\n",
       " '/Volumes/wjlee_apl_2/ooi_zplsc_600m/OOI-D20170821-T013914.raw',\n",
       " '/Volumes/wjlee_apl_2/ooi_zplsc_600m/OOI-D20170821-T031816.raw',\n",
       " '/Volumes/wjlee_apl_2/ooi_zplsc_600m/OOI-D20170821-T045717.raw',\n",
       " '/Volumes/wjlee_apl_2/ooi_zplsc_600m/OOI-D20170821-T063618.raw',\n",
       " '/Volumes/wjlee_apl_2/ooi_zplsc_600m/OOI-D20170821-T081522.raw',\n",
       " '/Volumes/wjlee_apl_2/ooi_zplsc_600m/OOI-D20170821-T095435.raw',\n",
       " '/Volumes/wjlee_apl_2/ooi_zplsc_600m/OOI-D20170821-T113343.raw',\n",
       " '/Volumes/wjlee_apl_2/ooi_zplsc_600m/OOI-D20170821-T131245.raw',\n",
       " '/Volumes/wjlee_apl_2/ooi_zplsc_600m/OOI-D20170821-T145147.raw',\n",
       " '/Volumes/wjlee_apl_2/ooi_zplsc_600m/OOI-D20170821-T163049.raw',\n",
       " '/Volumes/wjlee_apl_2/ooi_zplsc_600m/OOI-D20170821-T180952.raw',\n",
       " '/Volumes/wjlee_apl_2/ooi_zplsc_600m/OOI-D20170821-T194853.raw',\n",
       " '/Volumes/wjlee_apl_2/ooi_zplsc_600m/OOI-D20170821-T212802.raw',\n",
       " '/Volumes/wjlee_apl_2/ooi_zplsc_600m/OOI-D20170821-T230706.raw']"
      ]
     },
     "execution_count": 32,
     "metadata": {},
     "output_type": "execute_result"
    }
   ],
   "source": [
    "files"
   ]
  },
  {
   "cell_type": "code",
   "execution_count": 33,
   "metadata": {},
   "outputs": [
    {
     "name": "stdout",
     "output_type": "stream",
     "text": [
      "Processing: /Volumes/wjlee_apl_2/ooi_zplsc_600m/OOI-D20170821-T000000.raw\n",
      "-- New file time bad\n",
      "Processing: /Volumes/wjlee_apl_2/ooi_zplsc_600m/OOI-D20170821-T013914.raw\n",
      "-- New file time bad\n",
      "Processing: /Volumes/wjlee_apl_2/ooi_zplsc_600m/OOI-D20170821-T031816.raw\n",
      "-- New file time bad\n",
      "Processing: /Volumes/wjlee_apl_2/ooi_zplsc_600m/OOI-D20170821-T045717.raw\n",
      "-- New file time bad\n",
      "Processing: /Volumes/wjlee_apl_2/ooi_zplsc_600m/OOI-D20170821-T063618.raw\n",
      "-- New file time bad\n",
      "Processing: /Volumes/wjlee_apl_2/ooi_zplsc_600m/OOI-D20170821-T081522.raw\n",
      "-- New file time bad\n",
      "Processing: /Volumes/wjlee_apl_2/ooi_zplsc_600m/OOI-D20170821-T095435.raw\n",
      "-- New file time bad\n",
      "Processing: /Volumes/wjlee_apl_2/ooi_zplsc_600m/OOI-D20170821-T113343.raw\n",
      "-- New file time bad\n",
      "Processing: /Volumes/wjlee_apl_2/ooi_zplsc_600m/OOI-D20170821-T131245.raw\n",
      "-- New file time bad\n",
      "Processing: /Volumes/wjlee_apl_2/ooi_zplsc_600m/OOI-D20170821-T145147.raw\n",
      "-- New file time bad\n",
      "Processing: /Volumes/wjlee_apl_2/ooi_zplsc_600m/OOI-D20170821-T163049.raw\n",
      "-- New file time bad\n",
      "Processing: /Volumes/wjlee_apl_2/ooi_zplsc_600m/OOI-D20170821-T180952.raw\n",
      "-- New file time bad\n",
      "Processing: /Volumes/wjlee_apl_2/ooi_zplsc_600m/OOI-D20170821-T194853.raw\n",
      "-- New file time bad\n",
      "Processing: /Volumes/wjlee_apl_2/ooi_zplsc_600m/OOI-D20170821-T212802.raw\n",
      "-- H5 file exists, append new data mtx...\n",
      "Processing: /Volumes/wjlee_apl_2/ooi_zplsc_600m/OOI-D20170821-T230706.raw\n",
      "-- H5 file exists, append new data mtx...\n"
     ]
    }
   ],
   "source": [
    "for f in files:\n",
    "    unpack_raw_to_h5(f,h5_fname,deci_len=[])"
   ]
  },
  {
   "cell_type": "code",
   "execution_count": null,
   "metadata": {},
   "outputs": [],
   "source": []
  }
 ],
 "metadata": {
  "kernelspec": {
   "display_name": "Python [conda env:py27]",
   "language": "python",
   "name": "conda-env-py27-py"
  },
  "language_info": {
   "codemirror_mode": {
    "name": "ipython",
    "version": 2
   },
   "file_extension": ".py",
   "mimetype": "text/x-python",
   "name": "python",
   "nbconvert_exporter": "python",
   "pygments_lexer": "ipython2",
   "version": "2.7.12"
  }
 },
 "nbformat": 4,
 "nbformat_minor": 2
}
