{
 "cells": [
  {
   "cell_type": "code",
   "execution_count": 1,
   "metadata": {},
   "outputs": [
    {
     "name": "stderr",
     "output_type": "stream",
     "text": [
      "/Users/wujung/anaconda/envs/py27/lib/python2.7/site-packages/matplotlib/__init__.py:1357: UserWarning:  This call to matplotlib.use() has no effect\n",
      "because the backend has already been chosen;\n",
      "matplotlib.use() must be called *before* pylab, matplotlib.pyplot,\n",
      "or matplotlib.backends is imported for the first time.\n",
      "\n",
      "  warnings.warn(_use_error_msg)\n"
     ]
    }
   ],
   "source": [
    "import glob, os, sys\n",
    "import datetime as dt\n",
    "from matplotlib.dates import date2num, num2date\n",
    "from calendar import monthrange\n",
    "import h5py\n",
    "import matplotlib.pylab as plt\n",
    "# from modest_image import imshow\n",
    "# import numpy as np   # already imported in zplsc_b\n",
    "\n",
    "sys.path.append('/Users/wujung/code/mi-instrument/')\n",
    "from mi.instrument.kut.ek60.ooicore.zplsc_b import *"
   ]
  },
  {
   "cell_type": "code",
   "execution_count": 2,
   "metadata": {},
   "outputs": [],
   "source": [
    "from concat_raw import *"
   ]
  },
  {
   "cell_type": "code",
   "execution_count": 3,
   "metadata": {},
   "outputs": [],
   "source": [
    "%matplotlib inline"
   ]
  },
  {
   "cell_type": "code",
   "execution_count": 8,
   "metadata": {},
   "outputs": [],
   "source": [
    "pname = '/Volumes/wjlee_apl_2/ooi_zplsc_600m/'\n",
    "mn = 8\n",
    "dd = 22\n",
    "files = glob.glob(os.path.join(pname,'OOI-D2017%02d%02d*.raw' % (mn,dd)))\n",
    "h5_fname = '/Volumes/wjlee_apl_2/ooi_zplsc_all_h5/CE04OSPS_2017%02d%02d.h5' % (mn,dd)"
   ]
  },
  {
   "cell_type": "code",
   "execution_count": 9,
   "metadata": {},
   "outputs": [
    {
     "data": {
      "text/plain": [
       "'/Volumes/wjlee_apl_2/ooi_zplsc_all_h5/CE04OSPS_20170822.h5'"
      ]
     },
     "execution_count": 9,
     "metadata": {},
     "output_type": "execute_result"
    }
   ],
   "source": [
    "h5_fname"
   ]
  },
  {
   "cell_type": "code",
   "execution_count": 1,
   "metadata": {},
   "outputs": [
    {
     "ename": "NameError",
     "evalue": "name 'files' is not defined",
     "output_type": "error",
     "traceback": [
      "\u001b[0;31m---------------------------------------------------------------------------\u001b[0m",
      "\u001b[0;31mNameError\u001b[0m                                 Traceback (most recent call last)",
      "\u001b[0;32m<ipython-input-1-725a40a5a702>\u001b[0m in \u001b[0;36m<module>\u001b[0;34m()\u001b[0m\n\u001b[0;32m----> 1\u001b[0;31m \u001b[0mfiles\u001b[0m\u001b[0;34m.\u001b[0m\u001b[0msort\u001b[0m\u001b[0;34m(\u001b[0m\u001b[0mkey\u001b[0m\u001b[0;34m=\u001b[0m\u001b[0mos\u001b[0m\u001b[0;34m.\u001b[0m\u001b[0mpath\u001b[0m\u001b[0;34m.\u001b[0m\u001b[0mgetmtime\u001b[0m\u001b[0;34m)\u001b[0m\u001b[0;34m\u001b[0m\u001b[0m\n\u001b[0m",
      "\u001b[0;31mNameError\u001b[0m: name 'files' is not defined"
     ]
    }
   ],
   "source": [
    "files.sort(key=os.path.getmtime)"
   ]
  },
  {
   "cell_type": "code",
   "execution_count": 11,
   "metadata": {},
   "outputs": [
    {
     "name": "stdout",
     "output_type": "stream",
     "text": [
      "Processing: /Volumes/wjlee_apl_2/ooi_zplsc_600m/OOI-D20170822-T000000.raw\n",
      "-- New H5 file, create new dataset...\n",
      "Processing: /Volumes/wjlee_apl_2/ooi_zplsc_600m/OOI-D20170822-T045705.raw\n",
      "-- H5 file exists, append new data mtx...\n",
      "Processing: /Volumes/wjlee_apl_2/ooi_zplsc_600m/OOI-D20170822-T013902.raw\n",
      "-- New file time bad\n",
      "Processing: /Volumes/wjlee_apl_2/ooi_zplsc_600m/OOI-D20170822-T031804.raw\n",
      "-- New file time bad\n",
      "Processing: /Volumes/wjlee_apl_2/ooi_zplsc_600m/OOI-D20170822-T063606.raw\n",
      "-- H5 file exists, append new data mtx...\n",
      "Processing: /Volumes/wjlee_apl_2/ooi_zplsc_600m/OOI-D20170822-T081508.raw\n",
      "-- H5 file exists, append new data mtx...\n"
     ]
    }
   ],
   "source": [
    "for f in files:\n",
    "    unpack_raw_to_h5(f,h5_fname,deci_len=[])"
   ]
  },
  {
   "cell_type": "code",
   "execution_count": null,
   "metadata": {},
   "outputs": [],
   "source": []
  }
 ],
 "metadata": {
  "kernelspec": {
   "display_name": "Python [conda env:py27]",
   "language": "python",
   "name": "conda-env-py27-py"
  },
  "language_info": {
   "codemirror_mode": {
    "name": "ipython",
    "version": 2
   },
   "file_extension": ".py",
   "mimetype": "text/x-python",
   "name": "python",
   "nbconvert_exporter": "python",
   "pygments_lexer": "ipython2",
   "version": "2.7.12"
  }
 },
 "nbformat": 4,
 "nbformat_minor": 2
}
