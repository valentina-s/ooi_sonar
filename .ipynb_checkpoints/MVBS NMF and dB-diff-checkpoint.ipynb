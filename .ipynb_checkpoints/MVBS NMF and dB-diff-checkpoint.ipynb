{
 "cells": [
  {
   "cell_type": "code",
   "execution_count": 3,
   "metadata": {
    "collapsed": false
   },
   "outputs": [],
   "source": [
    "import os, sys, glob\n",
    "from datetime import datetime\n",
    "sys.path.insert(0,'/home/wu-jung/code_git/mi-instrument')\n",
    "\n",
    "from mi.instrument.kut.ek60.ooicore.zplsc_b import *\n",
    "from concat_raw import *\n",
    "from db_diff.py import *"
   ]
  },
  {
   "cell_type": "code",
   "execution_count": 5,
   "metadata": {
    "collapsed": false
   },
   "outputs": [
    {
     "name": "stdout",
     "output_type": "stream",
     "text": [
      "Variable                       Type                          Data/Info\n",
      "----------------------------------------------------------------------\n",
      "BLOCK_SIZE                     int                           4096\n",
      "BaseEnum                       type                          <class 'mi.core.common.BaseEnum'>\n",
      "CONFIG_HEADER_SIZE             int                           516\n",
      "CONFIG_TRANSDUCER_SIZE         int                           320\n",
      "DATAGRAM_HEADER_SIZE           int                           12\n",
      "DataParticle                   type                          <class 'mi.core.instrumen<...>a_particle.DataParticle'>\n",
      "DataParticleType               type                          <class 'mi.instrument.kut<...>plsc_b.DataParticleType'>\n",
      "FILE_NAME_MATCHER              SRE_Pattern                   <_sre.SRE_Pattern object at 0x7f42c0393350>\n",
      "FILE_NAME_REGEX                str                           (?P<Refdes>\\S*)_*OOI-D(?P<...>8})-T(?P<Time>\\d{6})\\.raw\n",
      "GET_CONFIG_TRANSDUCER          bool                          False\n",
      "InstrumentDataException        type                          <class 'mi.core.exception<...>InstrumentDataException'>\n",
      "InvalidTransducer              type                          <class 'mi.instrument.kut<...>lsc_b.InvalidTransducer'>\n",
      "LENGTH_SIZE                    int                           4\n",
      "METADATA_ENCODING_RULES        list                          n=12\n",
      "NTP_EPOCH                      datetime                      1900-01-01 00:00:00\n",
      "NTP_WINDOWS_DELTA              float                         9435484800.0\n",
      "REF_TIME                       float                         693596.0\n",
      "SAMPLE_MATCHER                 SRE_Pattern                   <_sre.SRE_Pattern object at 0x7f429cc4c100>\n",
      "TIMESTAMP_FORMAT               str                           %Y%m%d%H%M%S\n",
      "WINDOWS_EPOCH                  datetime                      1601-01-01 00:00:00\n",
      "ZplscBInstrumentDataParticle   type                          <class 'mi.instrument.kut<...>BInstrumentDataParticle'>\n",
      "ZplscBParticleKey              type                          <class 'mi.instrument.kut<...>lsc_b.ZplscBParticleKey'>\n",
      "angle_dtype                    dtype                         [('athwart', 'i1'), ('along', 'i1')]\n",
      "append_metadata                function                      <function append_metadata at 0x7f429cc30050>\n",
      "build_windows_time             function                      <function build_windows_time at 0x7f429cc28f50>\n",
      "colors                         module                        <module 'matplotlib.color<...>s/matplotlib/colors.pyc'>\n",
      "date2num                       function                      <function date2num at 0x7f429d22dcf8>\n",
      "datetime                       type                          <type 'datetime.datetime'>\n",
      "defaultdict                    type                          <type 'collections.defaultdict'>\n",
      "dt                             module                        <module 'datetime' from '<...>lib-dynload/datetime.so'>\n",
      "e_bounds                       ndarray                       14: 14 elems, type `float64`, 112 bytes\n",
      "e_cmap                         ListedColormap                <matplotlib.colors.Listed<...>object at 0x7f429f10d650>\n",
      "e_cmap_colors                  ndarray                       13x3: 39 elems, type `float64`, 312 bytes\n",
      "e_cmap_th                      list                          n=2\n",
      "e_norm                         BoundaryNorm                  <matplotlib.colors.Bounda<...>object at 0x7f429933fd10>\n",
      "extract_file_time              function                      <function extract_file_time at 0x7f429cc302a8>\n",
      "generate_image_file_path       function                      <function generate_image_<...>e_path at 0x7f429cc30230>\n",
      "generate_relative_file_path    function                      <function generate_relati<...>e_path at 0x7f429cc301b8>\n",
      "get_cal_params                 function                      <function get_cal_params at 0x7f429cc30488>\n",
      "get_data_from_h5               function                      <function get_data_from_h5 at 0x7f42993b35f0>\n",
      "get_data_mtx                   function                      <function get_data_mtx at 0x7f42993a9668>\n",
      "get_date_idx                   function                      <function get_date_idx at 0x7f42993b3410>\n",
      "get_logger                     function                      <function get_logger at 0x7f42b803bc80>\n",
      "get_noise                      function                      <function get_noise at 0x7f42c03d2b18>\n",
      "get_num_days_pings             function                      <function get_num_days_pings at 0x7f42993b3578>\n",
      "glob                           module                        <module 'glob' from '/hom<...>/lib/python2.7/glob.pyc'>\n",
      "h5py                           module                        <module 'h5py' from '/hom<...>kages/h5py/__init__.pyc'>\n",
      "log                            _ScopedLogger                 <mi.logging.logger._Scope<...>object at 0x7f42b8014950>\n",
      "mean_MVBS                      function                      <function mean_MVBS at 0x7f42993b3c08>\n",
      "mf_bounds                      list                          n=9\n",
      "mf_cmap                        ListedColormap                <matplotlib.colors.Listed<...>object at 0x7f429933fbd0>\n",
      "mf_norm                        BoundaryNorm                  <matplotlib.colors.Bounda<...>object at 0x7f429933fcd0>\n",
      "monthrange                     function                      <function monthrange at 0x7f42c462c410>\n",
      "multifreq_color_code           function                      <function multifreq_color_code at 0x7f42993b3c80>\n",
      "multifreq_th_colors            ndarray                       8x3: 24 elems, type `float64`, 192 bytes\n",
      "np                             module                        <module 'numpy' from '/ho<...>ages/numpy/__init__.pyc'>\n",
      "num2date                       function                      <function num2date at 0x7f429d22de60>\n",
      "numpy                          module                        <module 'numpy' from '/ho<...>ages/numpy/__init__.pyc'>\n",
      "os                             module                        <module 'os' from '/home/<...>27/lib/python2.7/os.pyc'>\n",
      "parse_echogram_file            function                      <function parse_echogram_file at 0x7f429cc30410>\n",
      "parse_echogram_file_wrapper    function                      <function parse_echogram_<...>rapper at 0x7f429cc30398>\n",
      "plot_Sv                        function                      <function plot_Sv at 0x7f42993b3500>\n",
      "plt                            module                        <module 'matplotlib.pylab<...>es/matplotlib/pylab.pyc'>\n",
      "power2Sv                       function                      <function power2Sv at 0x7f429cc30500>\n",
      "power_dtype                    dtype                         [('power_data', '<i2')]\n",
      "process_sample                 function                      <function process_sample at 0x7f429cc30140>\n",
      "re                             module                        <module 're' from '/home/<...>27/lib/python2.7/re.pyc'>\n",
      "read_config_header             function                      <function read_config_header at 0x7f429cc28500>\n",
      "read_config_transducer         function                      <function read_config_tra<...>sducer at 0x7f429cc28578>\n",
      "read_header                    function                      <function read_header at 0x7f429cc30320>\n",
      "remove_noise                   function                      <function remove_noise at 0x7f42993b3b90>\n",
      "sample_dtype                   dtype                         [('length1', '<i4'), ('da<...>'<i4'), ('count', '<i4')]\n",
      "sys                            module                        <module 'sys' (built-in)>\n",
      "unpack_from                    builtin_function_or_method    <built-in function unpack_from>\n",
      "unpack_raw_to_h5               function                      <function unpack_raw_to_h5 at 0x7f42993b3488>\n",
      "windows_to_ntp                 function                      <function windows_to_ntp at 0x7f429cc28ed8>\n"
     ]
    }
   ],
   "source": [
    "whos"
   ]
  },
  {
   "cell_type": "code",
   "execution_count": null,
   "metadata": {
    "collapsed": true
   },
   "outputs": [],
   "source": []
  }
 ],
 "metadata": {
  "kernelspec": {
   "display_name": "Python [conda env:py27]",
   "language": "python",
   "name": "conda-env-py27-py"
  },
  "language_info": {
   "codemirror_mode": {
    "name": "ipython",
    "version": 2
   },
   "file_extension": ".py",
   "mimetype": "text/x-python",
   "name": "python",
   "nbconvert_exporter": "python",
   "pygments_lexer": "ipython2",
   "version": "2.7.13"
  }
 },
 "nbformat": 4,
 "nbformat_minor": 2
}
