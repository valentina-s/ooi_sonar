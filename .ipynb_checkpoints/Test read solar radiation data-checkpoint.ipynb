{
 "cells": [
  {
   "cell_type": "code",
   "execution_count": 3,
   "metadata": {},
   "outputs": [],
   "source": [
    "import numpy as np\n",
    "import os\n",
    "import matplotlib.pylab as plt"
   ]
  },
  {
   "cell_type": "code",
   "execution_count": 4,
   "metadata": {},
   "outputs": [
    {
     "name": "stdout",
     "output_type": "stream",
     "text": [
      "Using matplotlib backend: MacOSX\n"
     ]
    }
   ],
   "source": [
    "%matplotlib"
   ]
  },
  {
   "cell_type": "code",
   "execution_count": 5,
   "metadata": {},
   "outputs": [],
   "source": [
    "path = '/Volumes/wjlee_apl_3/ooi_eao_buoy/'\n",
    "file = 'eao_buoy_solar_radiation_20170831download.txt'"
   ]
  },
  {
   "cell_type": "code",
   "execution_count": 136,
   "metadata": {},
   "outputs": [],
   "source": [
    "f = open(os.path.join(path,file), 'rU')"
   ]
  },
  {
   "cell_type": "code",
   "execution_count": 137,
   "metadata": {},
   "outputs": [],
   "source": [
    "header1 = f.readline().split()\n",
    "header2 = f.readline().split()\n",
    "data_block = f.readlines()"
   ]
  },
  {
   "cell_type": "code",
   "execution_count": 138,
   "metadata": {},
   "outputs": [
    {
     "data": {
      "text/plain": [
       "['#YY', 'MM', 'DD', 'hh', 'mm', 'SRAD1', 'SWRAD', 'LWRAD']"
      ]
     },
     "execution_count": 138,
     "metadata": {},
     "output_type": "execute_result"
    }
   ],
   "source": [
    "header1"
   ]
  },
  {
   "cell_type": "code",
   "execution_count": 139,
   "metadata": {},
   "outputs": [
    {
     "data": {
      "text/plain": [
       "['#yr', 'mo', 'dy', 'hr', 'mn', 'w/m2', 'w/m2', 'w/m2']"
      ]
     },
     "execution_count": 139,
     "metadata": {},
     "output_type": "execute_result"
    }
   ],
   "source": [
    "header2"
   ]
  },
  {
   "cell_type": "code",
   "execution_count": 140,
   "metadata": {},
   "outputs": [],
   "source": [
    "data = {}\n",
    "for col_name in header1:\n",
    "    data[col_name] = np.ma.zeros(len(data_block), 'f', fill_value = -999.999)"
   ]
  },
  {
   "cell_type": "code",
   "execution_count": 141,
   "metadata": {},
   "outputs": [
    {
     "data": {
      "text/plain": [
       "{'#YY': masked_array(data = [ 0.  0.  0. ...,  0.  0.  0.],\n",
       "              mask = False,\n",
       "        fill_value = -999.999),\n",
       " 'DD': masked_array(data = [ 0.  0.  0. ...,  0.  0.  0.],\n",
       "              mask = False,\n",
       "        fill_value = -999.999),\n",
       " 'LWRAD': masked_array(data = [ 0.  0.  0. ...,  0.  0.  0.],\n",
       "              mask = False,\n",
       "        fill_value = -999.999),\n",
       " 'MM': masked_array(data = [ 0.  0.  0. ...,  0.  0.  0.],\n",
       "              mask = False,\n",
       "        fill_value = -999.999),\n",
       " 'SRAD1': masked_array(data = [ 0.  0.  0. ...,  0.  0.  0.],\n",
       "              mask = False,\n",
       "        fill_value = -999.999),\n",
       " 'SWRAD': masked_array(data = [ 0.  0.  0. ...,  0.  0.  0.],\n",
       "              mask = False,\n",
       "        fill_value = -999.999),\n",
       " 'hh': masked_array(data = [ 0.  0.  0. ...,  0.  0.  0.],\n",
       "              mask = False,\n",
       "        fill_value = -999.999),\n",
       " 'mm': masked_array(data = [ 0.  0.  0. ...,  0.  0.  0.],\n",
       "              mask = False,\n",
       "        fill_value = -999.999)}"
      ]
     },
     "execution_count": 141,
     "metadata": {},
     "output_type": "execute_result"
    }
   ],
   "source": [
    "data"
   ]
  },
  {
   "cell_type": "code",
   "execution_count": 172,
   "metadata": {},
   "outputs": [],
   "source": [
    "for (line_count, line) in enumerate(data_block):\n",
    "    items = line.split()\n",
    "    \n",
    "    for (col_count, col_name) in enumerate(col_names1):\n",
    "        if col_count!=6:\n",
    "            value = items[col_count]\n",
    "            if value == \"MM\":\n",
    "                 value = np.ma.masked\n",
    "            else:\n",
    "                 value = float(value)\n",
    "            data[col_name][line_count] = value"
   ]
  },
  {
   "cell_type": "code",
   "execution_count": 174,
   "metadata": {},
   "outputs": [
    {
     "data": {
      "text/plain": [
       "[<matplotlib.lines.Line2D at 0x1139f6550>]"
      ]
     },
     "execution_count": 174,
     "metadata": {},
     "output_type": "execute_result"
    }
   ],
   "source": [
    "plt.plot(data['SRAD1'])"
   ]
  },
  {
   "cell_type": "code",
   "execution_count": 135,
   "metadata": {},
   "outputs": [],
   "source": [
    "f.close()"
   ]
  },
  {
   "cell_type": "code",
   "execution_count": null,
   "metadata": {},
   "outputs": [],
   "source": []
  },
  {
   "cell_type": "code",
   "execution_count": 6,
   "metadata": {},
   "outputs": [],
   "source": [
    "import read_srad"
   ]
  },
  {
   "cell_type": "code",
   "execution_count": 7,
   "metadata": {},
   "outputs": [],
   "source": [
    "data_unpack = read_srad.read_srad_file(os.path.join(path,file))"
   ]
  },
  {
   "cell_type": "code",
   "execution_count": 8,
   "metadata": {},
   "outputs": [
    {
     "data": {
      "text/plain": [
       "[<matplotlib.lines.Line2D at 0x1127e4e10>]"
      ]
     },
     "execution_count": 8,
     "metadata": {},
     "output_type": "execute_result"
    }
   ],
   "source": [
    "plt.plot(data_unpack['SRAD1'])"
   ]
  },
  {
   "cell_type": "code",
   "execution_count": null,
   "metadata": {},
   "outputs": [],
   "source": []
  }
 ],
 "metadata": {
  "kernelspec": {
   "display_name": "Python [conda env:py27]",
   "language": "python",
   "name": "conda-env-py27-py"
  },
  "language_info": {
   "codemirror_mode": {
    "name": "ipython",
    "version": 2
   },
   "file_extension": ".py",
   "mimetype": "text/x-python",
   "name": "python",
   "nbconvert_exporter": "python",
   "pygments_lexer": "ipython2",
   "version": "2.7.12"
  }
 },
 "nbformat": 4,
 "nbformat_minor": 2
}
