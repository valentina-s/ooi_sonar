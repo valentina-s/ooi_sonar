{
 "cells": [
  {
   "cell_type": "code",
   "execution_count": 1,
   "metadata": {
    "collapsed": true
   },
   "outputs": [],
   "source": [
    "import os, sys, glob\n",
    "from datetime import datetime\n",
    "sys.path.insert(0,'/Users/wujung/Desktop/mi-instrument-master/')\n",
    "\n",
    "from mi.instrument.kut.ek60.ooicore.zplsc_b import *\n",
    "from concat_raw_output import *\n",
    "\n",
    "data_path = '/Users/wujung/ooi_data_80m/'\n",
    "fname_form = 'OOI-D*.raw'  # index all files in 2015\n",
    "fname_all = glob.glob(os.path.join(data_path,fname_form))\n",
    "date_wanted = ['20150901']\n",
    "\n",
    "idx_date = get_date_idx(date_wanted,fname_all)"
   ]
  },
  {
   "cell_type": "code",
   "execution_count": 4,
   "metadata": {
    "collapsed": false
   },
   "outputs": [
    {
     "name": "stdout",
     "output_type": "stream",
     "text": [
      "2017-02-02 14:16:35,517 INFO     mi.instrument.kut.ek60.ooicore.zplsc_b Begin processing echogram data: '/Users/wujung/ooi_data_80m/OOI-D20150901-T000000.raw'\n",
      "2017-02-02 14:16:37,444 INFO     mi.instrument.kut.ek60.ooicore.zplsc_b Completed processing data. Generating echogram: '/Users/wujung/ooi_data_80m/OOI-D20150901-T000000.raw'\n",
      "2017-02-02 14:16:43,985 INFO     mi.instrument.kut.ek60.ooicore.zplsc_b Completed generating echogram: '/Users/wujung/ooi_data_80m/OOI-D20150901-T000000.raw'\n"
     ]
    }
   ],
   "source": [
    "particle_data, data_times, power_data_dict, freq, bin_size, config_header, config_transducer = parse_echogram_file(fname_all[idx_date[0]])\n",
    "data_mtx = get_data_mtx(power_data_dict,freq)"
   ]
  },
  {
   "cell_type": "code",
   "execution_count": 5,
   "metadata": {
    "collapsed": false
   },
   "outputs": [
    {
     "data": {
      "text/plain": [
       "(defaultdict(list,\n",
       "             {'filepath': 'OOI-D20150901-T000000.png',\n",
       "              'zplsc_absorption_coeff': [0.037440311,\n",
       "               0.0097852694,\n",
       "               0.052687589],\n",
       "              'zplsc_bandwidth': [3026.3916, 2425.1497, 3088.4004],\n",
       "              'zplsc_channel': [1, 2, 3],\n",
       "              'zplsc_frequency': [120000.0, 38000.0, 200000.0],\n",
       "              'zplsc_pulse_length': [0.001024, 0.001024, 0.001024],\n",
       "              'zplsc_sample_interval': [0.000256, 0.000256, 0.000256],\n",
       "              'zplsc_sound_velocity': [1493.8888, 1493.8888, 1493.8888],\n",
       "              'zplsc_temperature': [10.0, 10.0, 10.0],\n",
       "              'zplsc_timestamp': '20150901000000',\n",
       "              'zplsc_transducer_depth': [0.0, 0.0, 0.0],\n",
       "              'zplsc_transmit_power': [250.0, 500.0, 150.0]}),\n",
       " 3650054400.0753517)"
      ]
     },
     "execution_count": 5,
     "metadata": {},
     "output_type": "execute_result"
    }
   ],
   "source": [
    "particle_data"
   ]
  },
  {
   "cell_type": "code",
   "execution_count": 6,
   "metadata": {
    "collapsed": false
   },
   "outputs": [
    {
     "data": {
      "text/plain": [
       "{'sounder_name': 'ER60',\n",
       " 'survey_name': 'OOI',\n",
       " 'transducer_count': 3,\n",
       " 'transect_name': '',\n",
       " 'version': '2.4.3'}"
      ]
     },
     "execution_count": 6,
     "metadata": {},
     "output_type": "execute_result"
    }
   ],
   "source": [
    "config_header"
   ]
  },
  {
   "cell_type": "code",
   "execution_count": 7,
   "metadata": {
    "collapsed": false
   },
   "outputs": [
    {
     "data": {
      "text/plain": [
       "[{'angle_offset_alongship': 0.0,\n",
       "  'angle_offset_athwart': 0.0,\n",
       "  'angle_sensitivity_alongship': 23.0,\n",
       "  'angle_sensitivity_athwartship': 23.0,\n",
       "  'beam_type': 1,\n",
       "  'beam_width_alongship': 7.0,\n",
       "  'beam_width_athwartship': 7.0,\n",
       "  'channel_id': 'GPT 120 kHz 009072088a60 1-1 ES120-7CD',\n",
       "  'dir_x': 0.0,\n",
       "  'dir_y': 0.0,\n",
       "  'dir_z': 0.0,\n",
       "  'equiv_beam_angle': -20.700000762939453,\n",
       "  'frequency': 120000.0,\n",
       "  'gain': 25.0,\n",
       "  'gain_table': array([ 23.5       ,  24.79999924,  25.        ,  25.        ,  25.        ]),\n",
       "  'gpt_software_version': '070413',\n",
       "  'pos_x': 0.0,\n",
       "  'pos_y': 0.0,\n",
       "  'pos_z': 0.0,\n",
       "  'pulse_length_table': array([  6.39999998e-05,   1.28000000e-04,   2.55999999e-04,\n",
       "           5.11999999e-04,   1.02400000e-03]),\n",
       "  'sa_correction_table': array([ 0.,  0.,  0.,  0.,  0.])},\n",
       " {'angle_offset_alongship': 0.0,\n",
       "  'angle_offset_athwart': 0.0,\n",
       "  'angle_sensitivity_alongship': 21.899999618530273,\n",
       "  'angle_sensitivity_athwartship': 21.899999618530273,\n",
       "  'beam_type': 0,\n",
       "  'beam_width_alongship': 7.099999904632568,\n",
       "  'beam_width_athwartship': 7.099999904632568,\n",
       "  'channel_id': 'GPT  38 kHz 00907208dd19 2-1 OOI.38|200',\n",
       "  'dir_x': 0.0,\n",
       "  'dir_y': 0.0,\n",
       "  'dir_z': 0.0,\n",
       "  'equiv_beam_angle': -20.600000381469727,\n",
       "  'frequency': 38000.0,\n",
       "  'gain': 26.5,\n",
       "  'gain_table': array([ 24. ,  26. ,  26.5,  26.5,  26.5]),\n",
       "  'gpt_software_version': '150120',\n",
       "  'pos_x': 0.0,\n",
       "  'pos_y': 0.0,\n",
       "  'pos_z': 0.0,\n",
       "  'pulse_length_table': array([ 0.000256,  0.000512,  0.001024,  0.002048,  0.004096]),\n",
       "  'sa_correction_table': array([ 0.,  0.,  0.,  0.,  0.])},\n",
       " {'angle_offset_alongship': 0.0,\n",
       "  'angle_offset_athwart': 0.0,\n",
       "  'angle_sensitivity_alongship': 23.0,\n",
       "  'angle_sensitivity_athwartship': 23.0,\n",
       "  'beam_type': 0,\n",
       "  'beam_width_alongship': 7.0,\n",
       "  'beam_width_athwartship': 7.0,\n",
       "  'channel_id': 'GPT 200 kHz 00907208dd19 2-2 OOI38|200',\n",
       "  'dir_x': 0.0,\n",
       "  'dir_y': 0.0,\n",
       "  'dir_z': 0.0,\n",
       "  'equiv_beam_angle': -20.700000762939453,\n",
       "  'frequency': 200000.0,\n",
       "  'gain': 25.0,\n",
       "  'gain_table': array([ 23.5       ,  24.79999924,  25.        ,  25.        ,  25.        ]),\n",
       "  'gpt_software_version': '150120',\n",
       "  'pos_x': 0.0,\n",
       "  'pos_y': 0.0,\n",
       "  'pos_z': 0.0,\n",
       "  'pulse_length_table': array([  6.39999998e-05,   1.28000000e-04,   2.55999999e-04,\n",
       "           5.11999999e-04,   1.02400000e-03]),\n",
       "  'sa_correction_table': array([ 0.,  0.,  0.,  0.,  0.])}]"
      ]
     },
     "execution_count": 7,
     "metadata": {},
     "output_type": "execute_result"
    }
   ],
   "source": [
    "config_transducer"
   ]
  },
  {
   "cell_type": "code",
   "execution_count": 8,
   "metadata": {
    "collapsed": false
   },
   "outputs": [
    {
     "data": {
      "text/plain": [
       "3"
      ]
     },
     "execution_count": 8,
     "metadata": {},
     "output_type": "execute_result"
    }
   ],
   "source": [
    "len(power_data_dict)"
   ]
  },
  {
   "cell_type": "code",
   "execution_count": 11,
   "metadata": {
    "collapsed": false
   },
   "outputs": [
    {
     "data": {
      "text/plain": [
       "1493.8888"
      ]
     },
     "execution_count": 11,
     "metadata": {},
     "output_type": "execute_result"
    }
   ],
   "source": [
    "particle_data[0]['zplsc_sound_velocity'][0]"
   ]
  },
  {
   "cell_type": "code",
   "execution_count": 16,
   "metadata": {
    "collapsed": false
   },
   "outputs": [],
   "source": [
    "def get_cal_params(power_data_dict,particle_data,config_header,config_transducer):\n",
    "    \"\"\"\n",
    "    Get calibration params from the unpacked file\n",
    "    \"\"\"\n",
    "    cal_params_all = []\n",
    "    for ii in range(len(power_data_dict)):\n",
    "        cal_params = {}\n",
    "        cal_params['soundername'] = config_header['sounder_name'];\n",
    "        cal_params['frequency'] = config_transducer[ii]['frequency'];\n",
    "        cal_params['soundvelocity'] = particle_data[0]['zplsc_sound_velocity'][ii];\n",
    "        cal_params['sampleinterval'] = particle_data[0]['zplsc_sample_interval'][ii];\n",
    "        cal_params['absorptioncoefficient'] = particle_data[0]['zplsc_absorption_coeff'][ii];\n",
    "        cal_params['gain'] = config_transducer[ii]['gain']    # data.config(n).gain;\n",
    "        cal_params['equivalentbeamangle'] = config_transducer[ii]['equiv_beam_angle']   # data.config(n).equivalentbeamangle;\n",
    "        cal_params['pulselengthtable'] = config_transducer[ii]['pulse_length_table']   # data.config(n).pulselengthtable;\n",
    "        cal_params['gaintable']  = config_transducer[ii]['gain_table']   # data.config(n).gaintable;\n",
    "        cal_params['sacorrectiontable'] = config_transducer[ii]['sa_correction_table']   # data.config(n).sacorrectiontable;\n",
    "        cal_params['transmitpower'] = particle_data[0]['zplsc_transmit_power'][ii]   # data.pings(n).transmitpower(pingNo);\n",
    "        cal_params['pulselength'] = particle_data[0]['zplsc_pulse_length'][ii]   # data.pings(n).pulselength(pingNo);\n",
    "        cal_params['anglesensitivityalongship'] = config_transducer[ii]['angle_sensitivity_alongship']  # data.config(n).anglesensitivityalongship;\n",
    "        cal_params['anglesensitivityathwartship'] = config_transducer[ii]['angle_sensitivity_athwartship']   #data.config(n).anglesensitivityathwartship;\n",
    "        cal_params['anglesoffsetalongship'] = config_transducer[ii]['angle_offset_alongship']   # data.config(n).anglesoffsetalongship;\n",
    "        cal_params['angleoffsetathwartship'] = config_transducer[ii]['angle_offset_athwart']   # data.config(n).angleoffsetathwartship;\n",
    "        cal_params['transducerdepth'] = particle_data[0]['zplsc_transducer_depth'][ii]   # data.pings(n).transducerdepth(pingNo);\n",
    "        cal_params_all.append(cal_params)\n",
    "    return cal_params_all"
   ]
  },
  {
   "cell_type": "code",
   "execution_count": 17,
   "metadata": {
    "collapsed": false
   },
   "outputs": [
    {
     "ename": "NameError",
     "evalue": "global name 'cal_params' is not defined",
     "output_type": "error",
     "traceback": [
      "\u001b[0;31m---------------------------------------------------------------------------\u001b[0m",
      "\u001b[0;31mNameError\u001b[0m                                 Traceback (most recent call last)",
      "\u001b[0;32m<ipython-input-17-2702d50bb908>\u001b[0m in \u001b[0;36m<module>\u001b[0;34m()\u001b[0m\n\u001b[0;32m----> 1\u001b[0;31m \u001b[0mcal_params_all\u001b[0m \u001b[0;34m=\u001b[0m \u001b[0mget_cal_params\u001b[0m\u001b[0;34m(\u001b[0m\u001b[0mpower_data_dict\u001b[0m\u001b[0;34m,\u001b[0m\u001b[0mparticle_data\u001b[0m\u001b[0;34m,\u001b[0m\u001b[0mconfig_header\u001b[0m\u001b[0;34m,\u001b[0m\u001b[0mconfig_transducer\u001b[0m\u001b[0;34m)\u001b[0m\u001b[0;34m\u001b[0m\u001b[0m\n\u001b[0m",
      "\u001b[0;32m<ipython-input-16-f4af753d7483>\u001b[0m in \u001b[0;36mget_cal_params\u001b[0;34m(power_data_dict, particle_data, config_header, config_transducer)\u001b[0m\n\u001b[1;32m      5\u001b[0m     \u001b[0mcal_params_all\u001b[0m \u001b[0;34m=\u001b[0m \u001b[0;34m[\u001b[0m\u001b[0;34m]\u001b[0m\u001b[0;34m\u001b[0m\u001b[0m\n\u001b[1;32m      6\u001b[0m     \u001b[0;32mfor\u001b[0m \u001b[0mii\u001b[0m \u001b[0;32min\u001b[0m \u001b[0mrange\u001b[0m\u001b[0;34m(\u001b[0m\u001b[0mlen\u001b[0m\u001b[0;34m(\u001b[0m\u001b[0mpower_data_dict\u001b[0m\u001b[0;34m)\u001b[0m\u001b[0;34m)\u001b[0m\u001b[0;34m:\u001b[0m\u001b[0;34m\u001b[0m\u001b[0m\n\u001b[0;32m----> 7\u001b[0;31m         \u001b[0mcal_params\u001b[0m\u001b[0;34m[\u001b[0m\u001b[0;34m'soundername'\u001b[0m\u001b[0;34m]\u001b[0m \u001b[0;34m=\u001b[0m \u001b[0mconfig_header\u001b[0m\u001b[0;34m[\u001b[0m\u001b[0;34m'sounder_name'\u001b[0m\u001b[0;34m]\u001b[0m\u001b[0;34m;\u001b[0m\u001b[0;34m\u001b[0m\u001b[0m\n\u001b[0m\u001b[1;32m      8\u001b[0m         \u001b[0mcal_params\u001b[0m\u001b[0;34m[\u001b[0m\u001b[0;34m'frequency'\u001b[0m\u001b[0;34m]\u001b[0m \u001b[0;34m=\u001b[0m \u001b[0mconfig_transducer\u001b[0m\u001b[0;34m[\u001b[0m\u001b[0mii\u001b[0m\u001b[0;34m]\u001b[0m\u001b[0;34m[\u001b[0m\u001b[0;34m'frequency'\u001b[0m\u001b[0;34m]\u001b[0m\u001b[0;34m;\u001b[0m\u001b[0;34m\u001b[0m\u001b[0m\n\u001b[1;32m      9\u001b[0m         \u001b[0mcal_params\u001b[0m\u001b[0;34m[\u001b[0m\u001b[0;34m'soundvelocity'\u001b[0m\u001b[0;34m]\u001b[0m \u001b[0;34m=\u001b[0m \u001b[0mparticle_data\u001b[0m\u001b[0;34m[\u001b[0m\u001b[0;36m0\u001b[0m\u001b[0;34m]\u001b[0m\u001b[0;34m[\u001b[0m\u001b[0;34m'zplsc_sound_velocity'\u001b[0m\u001b[0;34m]\u001b[0m\u001b[0;34m[\u001b[0m\u001b[0mii\u001b[0m\u001b[0;34m]\u001b[0m\u001b[0;34m;\u001b[0m\u001b[0;34m\u001b[0m\u001b[0m\n",
      "\u001b[0;31mNameError\u001b[0m: global name 'cal_params' is not defined"
     ]
    }
   ],
   "source": [
    "cal_params_all = get_cal_params(power_data_dict,particle_data,config_header,config_transducer)"
   ]
  },
  {
   "cell_type": "code",
   "execution_count": null,
   "metadata": {
    "collapsed": true
   },
   "outputs": [],
   "source": []
  }
 ],
 "metadata": {
  "anaconda-cloud": {},
  "kernelspec": {
   "display_name": "Python [conda env:py27]",
   "language": "python",
   "name": "conda-env-py27-py"
  },
  "language_info": {
   "codemirror_mode": {
    "name": "ipython",
    "version": 2
   },
   "file_extension": ".py",
   "mimetype": "text/x-python",
   "name": "python",
   "nbconvert_exporter": "python",
   "pygments_lexer": "ipython2",
   "version": "2.7.12"
  }
 },
 "nbformat": 4,
 "nbformat_minor": 1
}
