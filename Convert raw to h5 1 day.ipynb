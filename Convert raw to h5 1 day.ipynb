{
 "cells": [
  {
   "cell_type": "code",
   "execution_count": 9,
   "metadata": {},
   "outputs": [],
   "source": [
    "import glob, os, sys\n",
    "import datetime as dt\n",
    "from matplotlib.dates import date2num, num2date\n",
    "from calendar import monthrange\n",
    "import h5py\n",
    "import matplotlib.pylab as plt\n",
    "# from modest_image import imshow\n",
    "# import numpy as np   # already imported in zplsc_b\n",
    "\n",
    "sys.path.append('/Users/wujung/code/mi-instrument/')\n",
    "from mi.instrument.kut.ek60.ooicore.zplsc_b import *"
   ]
  },
  {
   "cell_type": "code",
   "execution_count": 10,
   "metadata": {},
   "outputs": [],
   "source": [
    "from concat_raw import *"
   ]
  },
  {
   "cell_type": "code",
   "execution_count": 11,
   "metadata": {},
   "outputs": [],
   "source": [
    "%matplotlib inline"
   ]
  },
  {
   "cell_type": "code",
   "execution_count": 32,
   "metadata": {},
   "outputs": [],
   "source": [
    "pname = '/Volumes/wjlee_apl_3/ooi_zplsc_600m/'\n",
    "mn = 8\n",
    "dd = 24\n",
    "files = glob.glob(os.path.join(pname,'OOI-D2017%02d%02d*.raw' % (mn,dd)))\n",
    "h5_fname = '/Volumes/wjlee_apl_3/ooi_zplsc_all_h5/CE04OSPS_2017%02d%02d.h5' % (mn,dd)"
   ]
  },
  {
   "cell_type": "code",
   "execution_count": 33,
   "metadata": {},
   "outputs": [
    {
     "data": {
      "text/plain": [
       "'/Volumes/wjlee_apl_3/ooi_zplsc_all_h5/CE04OSPS_20170824.h5'"
      ]
     },
     "execution_count": 33,
     "metadata": {},
     "output_type": "execute_result"
    }
   ],
   "source": [
    "h5_fname"
   ]
  },
  {
   "cell_type": "code",
   "execution_count": 34,
   "metadata": {},
   "outputs": [],
   "source": [
    "files.sort(key=os.path.getmtime)"
   ]
  },
  {
   "cell_type": "code",
   "execution_count": 35,
   "metadata": {},
   "outputs": [
    {
     "data": {
      "text/plain": [
       "['/Volumes/wjlee_apl_3/ooi_zplsc_600m/OOI-D20170824-T000000.raw',\n",
       " '/Volumes/wjlee_apl_3/ooi_zplsc_600m/OOI-D20170824-T013908.raw',\n",
       " '/Volumes/wjlee_apl_3/ooi_zplsc_600m/OOI-D20170824-T031809.raw',\n",
       " '/Volumes/wjlee_apl_3/ooi_zplsc_600m/OOI-D20170824-T045715.raw',\n",
       " '/Volumes/wjlee_apl_3/ooi_zplsc_600m/OOI-D20170824-T063616.raw',\n",
       " '/Volumes/wjlee_apl_3/ooi_zplsc_600m/OOI-D20170824-T081517.raw',\n",
       " '/Volumes/wjlee_apl_3/ooi_zplsc_600m/OOI-D20170824-T095422.raw',\n",
       " '/Volumes/wjlee_apl_3/ooi_zplsc_600m/OOI-D20170824-T113323.raw',\n",
       " '/Volumes/wjlee_apl_3/ooi_zplsc_600m/OOI-D20170824-T131226.raw',\n",
       " '/Volumes/wjlee_apl_3/ooi_zplsc_600m/OOI-D20170824-T145131.raw',\n",
       " '/Volumes/wjlee_apl_3/ooi_zplsc_600m/OOI-D20170824-T163032.raw',\n",
       " '/Volumes/wjlee_apl_3/ooi_zplsc_600m/OOI-D20170824-T180936.raw',\n",
       " '/Volumes/wjlee_apl_3/ooi_zplsc_600m/OOI-D20170824-T194838.raw',\n",
       " '/Volumes/wjlee_apl_3/ooi_zplsc_600m/OOI-D20170824-T212739.raw',\n",
       " '/Volumes/wjlee_apl_3/ooi_zplsc_600m/OOI-D20170824-T230640.raw']"
      ]
     },
     "execution_count": 35,
     "metadata": {},
     "output_type": "execute_result"
    }
   ],
   "source": [
    "files"
   ]
  },
  {
   "cell_type": "code",
   "execution_count": 36,
   "metadata": {},
   "outputs": [
    {
     "name": "stdout",
     "output_type": "stream",
     "text": [
      "Processing: /Volumes/wjlee_apl_3/ooi_zplsc_600m/OOI-D20170824-T000000.raw\n",
      "-- New H5 file, create new dataset...\n",
      "Processing: /Volumes/wjlee_apl_3/ooi_zplsc_600m/OOI-D20170824-T013908.raw\n",
      "-- H5 file exists, append new data mtx...\n",
      "Processing: /Volumes/wjlee_apl_3/ooi_zplsc_600m/OOI-D20170824-T031809.raw\n",
      "-- H5 file exists, append new data mtx...\n",
      "Processing: /Volumes/wjlee_apl_3/ooi_zplsc_600m/OOI-D20170824-T045715.raw\n",
      "-- H5 file exists, append new data mtx...\n",
      "Processing: /Volumes/wjlee_apl_3/ooi_zplsc_600m/OOI-D20170824-T063616.raw\n",
      "-- H5 file exists, append new data mtx...\n",
      "Processing: /Volumes/wjlee_apl_3/ooi_zplsc_600m/OOI-D20170824-T081517.raw\n",
      "-- H5 file exists, append new data mtx...\n",
      "Processing: /Volumes/wjlee_apl_3/ooi_zplsc_600m/OOI-D20170824-T095422.raw\n",
      "-- H5 file exists, append new data mtx...\n",
      "Processing: /Volumes/wjlee_apl_3/ooi_zplsc_600m/OOI-D20170824-T113323.raw\n",
      "-- H5 file exists, append new data mtx...\n",
      "Processing: /Volumes/wjlee_apl_3/ooi_zplsc_600m/OOI-D20170824-T131226.raw\n",
      "-- H5 file exists, append new data mtx...\n",
      "Processing: /Volumes/wjlee_apl_3/ooi_zplsc_600m/OOI-D20170824-T145131.raw\n",
      "-- H5 file exists, append new data mtx...\n",
      "Processing: /Volumes/wjlee_apl_3/ooi_zplsc_600m/OOI-D20170824-T163032.raw\n",
      "-- H5 file exists, append new data mtx...\n",
      "Processing: /Volumes/wjlee_apl_3/ooi_zplsc_600m/OOI-D20170824-T180936.raw\n",
      "-- H5 file exists, append new data mtx...\n",
      "Processing: /Volumes/wjlee_apl_3/ooi_zplsc_600m/OOI-D20170824-T194838.raw\n",
      "-- H5 file exists, append new data mtx...\n",
      "Processing: /Volumes/wjlee_apl_3/ooi_zplsc_600m/OOI-D20170824-T212739.raw\n",
      "-- H5 file exists, append new data mtx...\n",
      "Processing: /Volumes/wjlee_apl_3/ooi_zplsc_600m/OOI-D20170824-T230640.raw\n",
      "-- H5 file exists, append new data mtx...\n"
     ]
    }
   ],
   "source": [
    "for f in files:\n",
    "    unpack_raw_to_h5(f,h5_fname,deci_len=[])"
   ]
  },
  {
   "cell_type": "code",
   "execution_count": null,
   "metadata": {},
   "outputs": [],
   "source": []
  },
  {
   "cell_type": "code",
   "execution_count": null,
   "metadata": {},
   "outputs": [],
   "source": []
  },
  {
   "cell_type": "code",
   "execution_count": null,
   "metadata": {},
   "outputs": [],
   "source": []
  }
 ],
 "metadata": {
  "kernelspec": {
   "display_name": "Python [conda env:py27]",
   "language": "python",
   "name": "conda-env-py27-py"
  },
  "language_info": {
   "codemirror_mode": {
    "name": "ipython",
    "version": 2
   },
   "file_extension": ".py",
   "mimetype": "text/x-python",
   "name": "python",
   "nbconvert_exporter": "python",
   "pygments_lexer": "ipython2",
   "version": "2.7.12"
  }
 },
 "nbformat": 4,
 "nbformat_minor": 2
}
