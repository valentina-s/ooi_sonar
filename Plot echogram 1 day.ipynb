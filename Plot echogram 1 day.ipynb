{
 "cells": [
  {
   "cell_type": "code",
   "execution_count": 1,
   "metadata": {},
   "outputs": [
    {
     "name": "stderr",
     "output_type": "stream",
     "text": [
      "/Users/wujung/anaconda/envs/py27/lib/python2.7/site-packages/matplotlib/font_manager.py:273: UserWarning: Matplotlib is building the font cache using fc-list. This may take a moment.\n",
      "  warnings.warn('Matplotlib is building the font cache using fc-list. This may take a moment.')\n",
      "/Users/wujung/anaconda/envs/py27/lib/python2.7/site-packages/matplotlib/__init__.py:1357: UserWarning:  This call to matplotlib.use() has no effect\n",
      "because the backend has already been chosen;\n",
      "matplotlib.use() must be called *before* pylab, matplotlib.pyplot,\n",
      "or matplotlib.backends is imported for the first time.\n",
      "\n",
      "  warnings.warn(_use_error_msg)\n"
     ]
    }
   ],
   "source": [
    "import os, sys, glob, re\n",
    "import datetime\n",
    "import numpy as np\n",
    "from calendar import monthrange\n",
    "import h5py\n",
    "\n",
    "sys.path.insert(0,'/home/wu-jung/code_git/mi-instrument/')\n",
    "from concat_raw import get_num_days_pings, get_data_from_h5\n",
    "from echogram_decomp import find_nearest_time_idx\n",
    "\n",
    "import matplotlib.pyplot as plt\n",
    "from modest_image import imshow\n",
    "from mpl_toolkits.axes_grid1 import make_axes_locatable\n",
    "\n",
    "# Set default colormap\n",
    "plt.rcParams['image.cmap'] = 'jet'"
   ]
  },
  {
   "cell_type": "code",
   "execution_count": 45,
   "metadata": {},
   "outputs": [],
   "source": [
    "%matplotlib inline"
   ]
  },
  {
   "cell_type": "code",
   "execution_count": 4,
   "metadata": {},
   "outputs": [],
   "source": [
    "pname = '/Volumes/wjlee_apl_2/ooi_zplsc_600m/'\n",
    "yr = 2017\n",
    "mn = 8\n",
    "dd = 21\n",
    "h5_fname = '/Volumes/wjlee_apl_2/ooi_zplsc_all_h5/CE04OSPS_20170%02d%02d.h5' % (mn,dd)"
   ]
  },
  {
   "cell_type": "code",
   "execution_count": 29,
   "metadata": {},
   "outputs": [],
   "source": [
    "all_hr = range(24)  # list of all hour: 0-23\n",
    "all_minutes = range(0,60)  # list of all minutes: 1-10\n",
    "every_ping = [datetime.datetime(yr,mn,dd,hr,minutes,0) \\\n",
    "                  for hr in all_hr for minutes in all_minutes]\n",
    "pings_per_day = len(all_hr)*len(all_minutes)\n",
    "pings_per_hr = len(all_minutes)"
   ]
  },
  {
   "cell_type": "code",
   "execution_count": 31,
   "metadata": {},
   "outputs": [
    {
     "data": {
      "text/plain": [
       "1440"
      ]
     },
     "execution_count": 31,
     "metadata": {},
     "output_type": "execute_result"
    }
   ],
   "source": [
    "pings_per_day"
   ]
  },
  {
   "cell_type": "code",
   "execution_count": 48,
   "metadata": {},
   "outputs": [],
   "source": [
    "# Open h5 file\n",
    "f = h5py.File(h5_fname,'r')"
   ]
  },
  {
   "cell_type": "code",
   "execution_count": null,
   "metadata": {},
   "outputs": [],
   "source": [
    "# Get f['data_times'] idx for every hour in all days in the month\n",
    "all_idx = [find_nearest_time_idx(f['data_times'],pp) for pp in every_ping]\n",
    "all_idx = np.array(all_idx)  # to allow numpy operation   "
   ]
  },
  {
   "cell_type": "code",
   "execution_count": null,
   "metadata": {},
   "outputs": [],
   "source": [
    "# Extract timing and Sv data\n",
    "notnanidx = np.int_(all_idx[~np.isnan(all_idx)])\n",
    "data_times = np.empty(all_idx.shape)  # initialize empty array\n",
    "data_times[~np.isnan(all_idx)] = f['data_times'][notnanidx.tolist()]\n",
    "    \n",
    "Sv_tmp = f['Sv'][:,:,0]\n",
    "Sv_mtx = np.empty((Sv_tmp.shape[0],Sv_tmp.shape[1],all_idx.shape[0]))\n",
    "Sv_mtx[:] = np.nan\n",
    "Sv_mtx[:,:,~np.isnan(all_idx)] = f['Sv'][:,:,notnanidx.tolist()]\n",
    "\n",
    "bin_size = f['bin_size'][0]      # size of each depth bin "
   ]
  },
  {
   "cell_type": "code",
   "execution_count": null,
   "metadata": {},
   "outputs": [],
   "source": [
    "f.close()"
   ]
  },
  {
   "cell_type": "code",
   "execution_count": null,
   "metadata": {},
   "outputs": [],
   "source": [
    "Sv_mtx.shape"
   ]
  },
  {
   "cell_type": "code",
   "execution_count": null,
   "metadata": {},
   "outputs": [],
   "source": [
    "# Set xtick and labels\n",
    "ping_idx = range(0,24*pings_per_hr,pings_per_hr)\n",
    "ping_labels = [str(x) for x in range(24)]"
   ]
  },
  {
   "cell_type": "code",
   "execution_count": null,
   "metadata": {},
   "outputs": [],
   "source": [
    "fig,ax = plt.subplots(3,sharex=True,sharey=True)\n",
    "for ff in range(3):\n",
    "    im = ax[ff].imshow(Sv_mtx[ff,:,:],aspect='auto',\\\n",
    "                    extent=[0,Sv_mtx.shape[2],-Sv_mtx.shape[1]*bin_size,0],\\\n",
    "                    vmax=-30,vmin=-80)\n",
    "    ax[ff].set_xticks(ping_idx)\n",
    "    ax[ff].set_xticklabels(ping_labels)\n",
    "    ax[ff].set_ylabel('Depth (m)',fontsize=20)\n",
    "    if ff==0:\n",
    "        ax[ff].set_title('38 kHz',fontsize=20)\n",
    "    elif ff==1:\n",
    "        ax[ff].set_title('120 kHz',fontsize=20)\n",
    "    elif ff==2:\n",
    "        ax[ff].set_title('200 kHz',fontsize=20)\n",
    "    divider = make_axes_locatable(ax[ff])\n",
    "    cax = divider.append_axes(\"right\", size=\"1%\", pad=0.05)\n",
    "    cbar = plt.colorbar(im,cax=cax)\n",
    "    cbar.ax.tick_params(labelsize=14)\n",
    "    ax[2].set_xlabel('Day',fontsize=20)\n",
    "fig.set_figwidth(12)\n",
    "fig.set_figheight(9)\n",
    "#plt.savefig(os.path.join(save_path,save_fname),dpi=300)\n",
    "#plt.close(fig)"
   ]
  },
  {
   "cell_type": "code",
   "execution_count": null,
   "metadata": {},
   "outputs": [],
   "source": []
  },
  {
   "cell_type": "code",
   "execution_count": null,
   "metadata": {},
   "outputs": [],
   "source": []
  },
  {
   "cell_type": "code",
   "execution_count": null,
   "metadata": {},
   "outputs": [],
   "source": []
  },
  {
   "cell_type": "code",
   "execution_count": null,
   "metadata": {},
   "outputs": [],
   "source": []
  },
  {
   "cell_type": "code",
   "execution_count": null,
   "metadata": {},
   "outputs": [],
   "source": []
  }
 ],
 "metadata": {
  "kernelspec": {
   "display_name": "Python [conda env:py27]",
   "language": "python",
   "name": "conda-env-py27-py"
  },
  "language_info": {
   "codemirror_mode": {
    "name": "ipython",
    "version": 2
   },
   "file_extension": ".py",
   "mimetype": "text/x-python",
   "name": "python",
   "nbconvert_exporter": "python",
   "pygments_lexer": "ipython2",
   "version": "2.7.12"
  }
 },
 "nbformat": 4,
 "nbformat_minor": 2
}
