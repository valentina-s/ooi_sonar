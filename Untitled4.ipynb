{
 "cells": [
  {
   "cell_type": "code",
   "execution_count": 1,
   "metadata": {
    "collapsed": true
   },
   "outputs": [],
   "source": [
    "from datetime import datetime\n",
    "from matplotlib.dates import date2num, num2date\n",
    "import h5py\n",
    "import matplotlib.pylab as plt\n",
    "from modest_image import imshow\n",
    "import numpy as np\n",
    "import os"
   ]
  },
  {
   "cell_type": "code",
   "execution_count": 9,
   "metadata": {
    "collapsed": true
   },
   "outputs": [],
   "source": [
    "def plot_Sv(h5_fname,save_path,deci_len):\n",
    "\n",
    "    f = h5py.File(h5_fname,\"r\")\n",
    "\n",
    "    # Get time stamp\n",
    "    time_format = '%Y-%m-%d\\n%H:%M:%S'\n",
    "    time_length = f['data_times'].size/deci_len\n",
    "    # X axis label\n",
    "    # subset the xticks so that we don't plot every one\n",
    "    xticks = np.linspace(0, time_length, 11)\n",
    "    xstep = int(round(xticks[1]))\n",
    "    # format trans_array_time array so that it can be used to label the x-axis\n",
    "    xticklabels = [i for i in num2date(f['data_times'][::(xstep*deci_len)])] + [num2date(f['data_times'][-1])]\n",
    "    xticklabels = [i.strftime(time_format) for i in xticklabels]\n",
    "\n",
    "    # Plot figure\n",
    "    print 'plotting figure...'\n",
    "    fig, ax = plt.subplots(3, sharex=True)\n",
    "    for ff in range(f['Sv'].shape[0]):\n",
    "        imshow(ax[ff],f['Sv'][ff,:,::deci_len],aspect='auto',vmax=-34,vmin=-80,interpolation='none')\n",
    "    ax[-1].set_xlabel('time (UTC)')\n",
    "    ax[-1].set_xticks(xticks)\n",
    "    ax[-1].set_xticklabels(xticklabels, rotation=45, horizontalalignment='center')\n",
    "    #ax[-1].set_xlim(0, time_length)\n",
    "    fig.set_figwidth(16)\n",
    "    fig.set_figheight(10)\n",
    "\n",
    "    # Save figure\n",
    "    save_fname = os.path.join(save_path,h5_fname+'.png')\n",
    "    print 'saving figure...'\n",
    "    fig.savefig(save_fname)\n",
    "    plt.close(fig)"
   ]
  },
  {
   "cell_type": "code",
   "execution_count": 10,
   "metadata": {
    "collapsed": true
   },
   "outputs": [],
   "source": [
    "h5_fname='/Volumes/wjlee_apl_2/2015_0901-10_80m.h5'"
   ]
  },
  {
   "cell_type": "code",
   "execution_count": 11,
   "metadata": {
    "collapsed": true
   },
   "outputs": [],
   "source": [
    "save_path='/Volumes/wjlee_apl_2/'"
   ]
  },
  {
   "cell_type": "code",
   "execution_count": 13,
   "metadata": {
    "collapsed": false
   },
   "outputs": [
    {
     "name": "stdout",
     "output_type": "stream",
     "text": [
      "plotting figure...\n",
      "saving figure...\n"
     ]
    }
   ],
   "source": [
    "plot_Sv(h5_fname,save_path,50)"
   ]
  },
  {
   "cell_type": "code",
   "execution_count": null,
   "metadata": {
    "collapsed": true
   },
   "outputs": [],
   "source": []
  }
 ],
 "metadata": {
  "anaconda-cloud": {},
  "kernelspec": {
   "display_name": "Python [conda env:py27]",
   "language": "python",
   "name": "conda-env-py27-py"
  },
  "language_info": {
   "codemirror_mode": {
    "name": "ipython",
    "version": 2
   },
   "file_extension": ".py",
   "mimetype": "text/x-python",
   "name": "python",
   "nbconvert_exporter": "python",
   "pygments_lexer": "ipython2",
   "version": "2.7.12"
  }
 },
 "nbformat": 4,
 "nbformat_minor": 1
}
