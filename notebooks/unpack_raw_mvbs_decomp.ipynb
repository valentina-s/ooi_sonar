{
 "cells": [
  {
   "cell_type": "code",
   "execution_count": 1,
   "metadata": {
    "collapsed": true
   },
   "outputs": [],
   "source": [
    "import os, sys, glob, re\n",
    "import datetime as dt\n",
    "import numpy as np\n",
    "from matplotlib.dates import date2num\n",
    "import h5py\n",
    "\n",
    "# from modest_image import imshow\n",
    "#from calendar import monthrange"
   ]
  },
  {
   "cell_type": "code",
   "execution_count": 2,
   "metadata": {
    "collapsed": false
   },
   "outputs": [],
   "source": [
    "sys.path.insert(0,'./mi_instrument')\n",
    "from mi.instrument.kut.ek60.ooicore import zplsc_b"
   ]
  },
  {
   "cell_type": "code",
   "execution_count": 3,
   "metadata": {
    "collapsed": false
   },
   "outputs": [],
   "source": [
    "import db_diff"
   ]
  },
  {
   "cell_type": "code",
   "execution_count": 4,
   "metadata": {
    "collapsed": true
   },
   "outputs": [],
   "source": [
    "import matplotlib.pyplot as plt\n",
    "from mpl_toolkits.axes_grid1 import make_axes_locatable"
   ]
  },
  {
   "cell_type": "code",
   "execution_count": 5,
   "metadata": {
    "collapsed": true
   },
   "outputs": [],
   "source": [
    "%matplotlib inline"
   ]
  },
  {
   "cell_type": "markdown",
   "metadata": {},
   "source": [
    "## Set up range of date to load data"
   ]
  },
  {
   "cell_type": "code",
   "execution_count": 6,
   "metadata": {
    "collapsed": true
   },
   "outputs": [],
   "source": [
    "date_start = dt.date(2015,8,17)\n",
    "date_end = dt.date(2015,10,17)\n",
    "date_wanted = [(date_start+dt.timedelta(days=xx)).strftime('%Y%m%d') for xx in range((date_end-date_start).days + 1)]"
   ]
  },
  {
   "cell_type": "code",
   "execution_count": 7,
   "metadata": {
    "collapsed": true
   },
   "outputs": [],
   "source": [
    "data_path = '/media/wu-jung/wjlee_apl_2/ooi_zplsc_600m/'\n",
    "save_path = '/media/wu-jung/wjlee_apl_2/ooi_zplsc_new/'\n",
    "save_fname = '%s-%s_new' % (date_start.strftime('%Y%m%d'),date_end.strftime('%Y%m%d'))"
   ]
  },
  {
   "cell_type": "code",
   "execution_count": 8,
   "metadata": {
    "collapsed": true
   },
   "outputs": [],
   "source": [
    "# Set param\n",
    "ping_time_param_names = [\"hour_all\",\"min_all\",\"sec_all\"]\n",
    "ping_time_param_vals = (range(24),range(20),range(0,60,5))\n",
    "ping_time_param = dict(zip(ping_time_param_names,ping_time_param_vals))\n",
    "ping_per_day = len(ping_time_param['hour_all'])*len(ping_time_param['min_all'])*len(ping_time_param['sec_all'])\n",
    "\n",
    "ping_bin_range = 40\n",
    "depth_bin_range = 10\n",
    "tvg_correction_factor = 2\n",
    "\n",
    "ping_per_day_mvbs = ping_per_day/ping_bin_range"
   ]
  },
  {
   "cell_type": "markdown",
   "metadata": {},
   "source": [
    "## Compile data"
   ]
  },
  {
   "cell_type": "markdown",
   "metadata": {},
   "source": [
    "Compile data by the following:\n",
    "- Unpack .raw file\n",
    "- Estimate noise and clean up data\n",
    "- Extract designated pings\n",
    "- Calculate MVBS"
   ]
  },
  {
   "cell_type": "code",
   "execution_count": 9,
   "metadata": {
    "collapsed": false
   },
   "outputs": [
    {
     "name": "stdout",
     "output_type": "stream",
     "text": [
      "11:30:20  unpacking file: /media/wu-jung/wjlee_apl_2/ooi_zplsc_600m/OOI-D20150817-T000000.raw\n"
     ]
    },
    {
     "name": "stderr",
     "output_type": "stream",
     "text": [
      "db_diff.py:176: RuntimeWarning: invalid value encountered in log10\n",
      "  tmp = 10*np.log10(np.ma.masked_less_equal(subtract,0))\n"
     ]
    },
    {
     "name": "stdout",
     "output_type": "stream",
     "text": [
      "-- New H5 file, create new dataset...\n",
      "-- New H5 file, create new dataset...\n",
      "11:30:56  unpacking file: /media/wu-jung/wjlee_apl_2/ooi_zplsc_600m/OOI-D20150818-T000000.raw\n",
      "-- H5 file exists, append new data mtx...\n",
      "-- H5 file exists, append new data mtx...\n",
      "11:31:27  unpacking file: /media/wu-jung/wjlee_apl_2/ooi_zplsc_600m/OOI-D20150819-T000000.raw\n",
      "-- H5 file exists, append new data mtx...\n",
      "-- H5 file exists, append new data mtx...\n",
      "11:31:58  unpacking file: /media/wu-jung/wjlee_apl_2/ooi_zplsc_600m/OOI-D20150820-T000000.raw\n",
      "-- H5 file exists, append new data mtx...\n",
      "-- H5 file exists, append new data mtx...\n",
      "11:32:28  unpacking file: /media/wu-jung/wjlee_apl_2/ooi_zplsc_600m/OOI-D20150821-T000000.raw\n",
      "-- H5 file exists, append new data mtx...\n",
      "-- H5 file exists, append new data mtx...\n",
      "11:32:58  unpacking file: /media/wu-jung/wjlee_apl_2/ooi_zplsc_600m/OOI-D20150822-T000000.raw\n",
      "-- H5 file exists, append new data mtx...\n",
      "-- H5 file exists, append new data mtx...\n",
      "11:33:28  unpacking file: /media/wu-jung/wjlee_apl_2/ooi_zplsc_600m/OOI-D20150823-T000000.raw\n",
      "-- H5 file exists, append new data mtx...\n",
      "-- H5 file exists, append new data mtx...\n",
      "11:33:59  unpacking file: /media/wu-jung/wjlee_apl_2/ooi_zplsc_600m/OOI-D20150824-T000000.raw\n",
      "-- H5 file exists, append new data mtx...\n",
      "-- H5 file exists, append new data mtx...\n",
      "11:34:29  unpacking file: /media/wu-jung/wjlee_apl_2/ooi_zplsc_600m/OOI-D20150825-T000000.raw\n",
      "-- H5 file exists, append new data mtx...\n",
      "-- H5 file exists, append new data mtx...\n",
      "11:34:59  unpacking file: /media/wu-jung/wjlee_apl_2/ooi_zplsc_600m/OOI-D20150826-T000000.raw\n",
      "-- H5 file exists, append new data mtx...\n",
      "-- H5 file exists, append new data mtx...\n",
      "11:35:28  unpacking file: /media/wu-jung/wjlee_apl_2/ooi_zplsc_600m/OOI-D20150827-T000000.raw\n",
      "-- H5 file exists, append new data mtx...\n",
      "-- H5 file exists, append new data mtx...\n",
      "11:35:58  unpacking file: /media/wu-jung/wjlee_apl_2/ooi_zplsc_600m/OOI-D20150828-T000000.raw\n",
      "-- H5 file exists, append new data mtx...\n",
      "-- H5 file exists, append new data mtx...\n",
      "11:36:29  unpacking file: /media/wu-jung/wjlee_apl_2/ooi_zplsc_600m/OOI-D20150829-T000000.raw\n",
      "-- H5 file exists, append new data mtx...\n",
      "-- H5 file exists, append new data mtx...\n",
      "11:36:59  unpacking file: /media/wu-jung/wjlee_apl_2/ooi_zplsc_600m/OOI-D20150830-T000000.raw\n",
      "-- H5 file exists, append new data mtx...\n",
      "-- H5 file exists, append new data mtx...\n",
      "11:37:29  unpacking file: /media/wu-jung/wjlee_apl_2/ooi_zplsc_600m/OOI-D20150831-T000000.raw\n",
      "-- H5 file exists, append new data mtx...\n",
      "-- H5 file exists, append new data mtx...\n",
      "11:37:58  unpacking file: /media/wu-jung/wjlee_apl_2/ooi_zplsc_600m/OOI-D20150901-T000000.raw\n",
      "-- H5 file exists, append new data mtx...\n",
      "-- H5 file exists, append new data mtx...\n",
      "11:38:28  unpacking file: /media/wu-jung/wjlee_apl_2/ooi_zplsc_600m/OOI-D20150902-T000000.raw\n",
      "-- H5 file exists, append new data mtx...\n",
      "-- H5 file exists, append new data mtx...\n",
      "11:38:57  unpacking file: /media/wu-jung/wjlee_apl_2/ooi_zplsc_600m/OOI-D20150903-T000000.raw\n",
      "-- H5 file exists, append new data mtx...\n",
      "-- H5 file exists, append new data mtx...\n",
      "11:39:27  unpacking file: /media/wu-jung/wjlee_apl_2/ooi_zplsc_600m/OOI-D20150904-T000000.raw\n",
      "-- H5 file exists, append new data mtx...\n",
      "-- H5 file exists, append new data mtx...\n",
      "11:39:56  unpacking file: /media/wu-jung/wjlee_apl_2/ooi_zplsc_600m/OOI-D20150905-T000000.raw\n",
      "-- H5 file exists, append new data mtx...\n"
     ]
    },
    {
     "ename": "KeyboardInterrupt",
     "evalue": "",
     "output_type": "error",
     "traceback": [
      "\u001b[0;31m---------------------------------------------------------------------------\u001b[0m",
      "\u001b[0;31mKeyboardInterrupt\u001b[0m                         Traceback (most recent call last)",
      "\u001b[0;32m<ipython-input-9-f7290f34a740>\u001b[0m in \u001b[0;36m<module>\u001b[0;34m()\u001b[0m\n\u001b[0;32m----> 1\u001b[0;31m \u001b[0mdb_diff\u001b[0m\u001b[0;34m.\u001b[0m\u001b[0mraw2MVBS_daterange\u001b[0m\u001b[0;34m(\u001b[0m\u001b[0mdate_wanted\u001b[0m\u001b[0;34m,\u001b[0m\u001b[0mdata_path\u001b[0m\u001b[0;34m,\u001b[0m\u001b[0msave_path\u001b[0m\u001b[0;34m,\u001b[0m\u001b[0msave_fname\u001b[0m\u001b[0;34m,\u001b[0m\u001b[0mping_time_param\u001b[0m\u001b[0;34m,\u001b[0m\u001b[0mping_bin_range\u001b[0m\u001b[0;34m,\u001b[0m\u001b[0mdepth_bin_range\u001b[0m\u001b[0;34m,\u001b[0m\u001b[0mtvg_correction_factor\u001b[0m\u001b[0;34m)\u001b[0m\u001b[0;34m\u001b[0m\u001b[0m\n\u001b[0m",
      "\u001b[0;32m/home/wu-jung/internal_2tb/ooi_sonar/ooi_sonar_code/db_diff.py\u001b[0m in \u001b[0;36mraw2MVBS_daterange\u001b[0;34m(date_wanted, data_path, save_path, save_fname, ping_time_param, ping_bin_range, depth_bin_range, tvg_correction_factor)\u001b[0m\n\u001b[1;32m    307\u001b[0m \u001b[0;34m\u001b[0m\u001b[0m\n\u001b[1;32m    308\u001b[0m         \u001b[0;31m# get MVBS\u001b[0m\u001b[0;34m\u001b[0m\u001b[0;34m\u001b[0m\u001b[0m\n\u001b[0;32m--> 309\u001b[0;31m         \u001b[0mMVBS\u001b[0m \u001b[0;34m=\u001b[0m \u001b[0mget_MVBS\u001b[0m\u001b[0;34m(\u001b[0m\u001b[0mSv_corr\u001b[0m\u001b[0;34m,\u001b[0m\u001b[0mbin_size\u001b[0m\u001b[0;34m,\u001b[0m\u001b[0mping_bin_range\u001b[0m\u001b[0;34m,\u001b[0m\u001b[0mdepth_bin_range\u001b[0m\u001b[0;34m=\u001b[0m\u001b[0;36m5\u001b[0m\u001b[0;34m)\u001b[0m\u001b[0;34m\u001b[0m\u001b[0m\n\u001b[0m\u001b[1;32m    310\u001b[0m \u001b[0;34m\u001b[0m\u001b[0m\n\u001b[1;32m    311\u001b[0m         \u001b[0;31m# save into h5 file\u001b[0m\u001b[0;34m\u001b[0m\u001b[0;34m\u001b[0m\u001b[0m\n",
      "\u001b[0;32m/home/wu-jung/internal_2tb/ooi_sonar/ooi_sonar_code/db_diff.py\u001b[0m in \u001b[0;36mget_MVBS\u001b[0;34m(Sv, depth_bin_size, ping_bin_range, depth_bin_range)\u001b[0m\n\u001b[1;32m    222\u001b[0m                 \u001b[0mdepth_idx\u001b[0m \u001b[0;34m=\u001b[0m \u001b[0mnp\u001b[0m\u001b[0;34m.\u001b[0m\u001b[0marange\u001b[0m\u001b[0;34m(\u001b[0m\u001b[0mN\u001b[0m\u001b[0;34m)\u001b[0m \u001b[0;34m+\u001b[0m \u001b[0mN\u001b[0m\u001b[0;34m*\u001b[0m\u001b[0miD\u001b[0m\u001b[0;34m\u001b[0m\u001b[0m\n\u001b[1;32m    223\u001b[0m                 \u001b[0mping_idx\u001b[0m \u001b[0;34m=\u001b[0m \u001b[0mnp\u001b[0m\u001b[0;34m.\u001b[0m\u001b[0marange\u001b[0m\u001b[0;34m(\u001b[0m\u001b[0mping_bin_range\u001b[0m\u001b[0;34m)\u001b[0m \u001b[0;34m+\u001b[0m \u001b[0mping_bin_range\u001b[0m\u001b[0;34m*\u001b[0m\u001b[0miP\u001b[0m\u001b[0;34m\u001b[0m\u001b[0m\n\u001b[0;32m--> 224\u001b[0;31m                 \u001b[0mMVBS\u001b[0m\u001b[0;34m[\u001b[0m\u001b[0miF\u001b[0m\u001b[0;34m,\u001b[0m\u001b[0miD\u001b[0m\u001b[0;34m,\u001b[0m\u001b[0miP\u001b[0m\u001b[0;34m]\u001b[0m \u001b[0;34m=\u001b[0m \u001b[0;36m10\u001b[0m\u001b[0;34m*\u001b[0m\u001b[0mnp\u001b[0m\u001b[0;34m.\u001b[0m\u001b[0mlog10\u001b[0m\u001b[0;34m(\u001b[0m \u001b[0mnp\u001b[0m\u001b[0;34m.\u001b[0m\u001b[0mnanmean\u001b[0m\u001b[0;34m(\u001b[0m\u001b[0;36m10\u001b[0m\u001b[0;34m**\u001b[0m\u001b[0;34m(\u001b[0m\u001b[0mSv\u001b[0m\u001b[0;34m[\u001b[0m\u001b[0mnp\u001b[0m\u001b[0;34m.\u001b[0m\u001b[0mix_\u001b[0m\u001b[0;34m(\u001b[0m\u001b[0;34m(\u001b[0m\u001b[0miF\u001b[0m\u001b[0;34m,\u001b[0m\u001b[0;34m)\u001b[0m\u001b[0;34m,\u001b[0m\u001b[0mdepth_idx\u001b[0m\u001b[0;34m,\u001b[0m\u001b[0mping_idx\u001b[0m\u001b[0;34m)\u001b[0m\u001b[0;34m]\u001b[0m\u001b[0;34m/\u001b[0m\u001b[0;36m10\u001b[0m\u001b[0;34m)\u001b[0m\u001b[0;34m)\u001b[0m \u001b[0;34m)\u001b[0m\u001b[0;34m\u001b[0m\u001b[0m\n\u001b[0m\u001b[1;32m    225\u001b[0m     \u001b[0;32mreturn\u001b[0m \u001b[0mMVBS\u001b[0m\u001b[0;34m\u001b[0m\u001b[0m\n\u001b[1;32m    226\u001b[0m \u001b[0;34m\u001b[0m\u001b[0m\n",
      "\u001b[0;32m/home/wu-jung/anaconda3/envs/py27/lib/python2.7/site-packages/numpy/lib/nanfunctions.pyc\u001b[0m in \u001b[0;36mnanmean\u001b[0;34m(a, axis, dtype, out, keepdims)\u001b[0m\n\u001b[1;32m    681\u001b[0m \u001b[0;34m\u001b[0m\u001b[0m\n\u001b[1;32m    682\u001b[0m     \"\"\"\n\u001b[0;32m--> 683\u001b[0;31m     \u001b[0marr\u001b[0m\u001b[0;34m,\u001b[0m \u001b[0mmask\u001b[0m \u001b[0;34m=\u001b[0m \u001b[0m_replace_nan\u001b[0m\u001b[0;34m(\u001b[0m\u001b[0ma\u001b[0m\u001b[0;34m,\u001b[0m \u001b[0;36m0\u001b[0m\u001b[0;34m)\u001b[0m\u001b[0;34m\u001b[0m\u001b[0m\n\u001b[0m\u001b[1;32m    684\u001b[0m     \u001b[0;32mif\u001b[0m \u001b[0mmask\u001b[0m \u001b[0;32mis\u001b[0m \u001b[0mNone\u001b[0m\u001b[0;34m:\u001b[0m\u001b[0;34m\u001b[0m\u001b[0m\n\u001b[1;32m    685\u001b[0m         \u001b[0;32mreturn\u001b[0m \u001b[0mnp\u001b[0m\u001b[0;34m.\u001b[0m\u001b[0mmean\u001b[0m\u001b[0;34m(\u001b[0m\u001b[0marr\u001b[0m\u001b[0;34m,\u001b[0m \u001b[0maxis\u001b[0m\u001b[0;34m=\u001b[0m\u001b[0maxis\u001b[0m\u001b[0;34m,\u001b[0m \u001b[0mdtype\u001b[0m\u001b[0;34m=\u001b[0m\u001b[0mdtype\u001b[0m\u001b[0;34m,\u001b[0m \u001b[0mout\u001b[0m\u001b[0;34m=\u001b[0m\u001b[0mout\u001b[0m\u001b[0;34m,\u001b[0m \u001b[0mkeepdims\u001b[0m\u001b[0;34m=\u001b[0m\u001b[0mkeepdims\u001b[0m\u001b[0;34m)\u001b[0m\u001b[0;34m\u001b[0m\u001b[0m\n",
      "\u001b[0;32m/home/wu-jung/anaconda3/envs/py27/lib/python2.7/site-packages/numpy/lib/nanfunctions.pyc\u001b[0m in \u001b[0;36m_replace_nan\u001b[0;34m(a, val)\u001b[0m\n\u001b[1;32m     66\u001b[0m     \u001b[0;32mif\u001b[0m \u001b[0;32mnot\u001b[0m \u001b[0mis_new\u001b[0m\u001b[0;34m:\u001b[0m\u001b[0;34m\u001b[0m\u001b[0m\n\u001b[1;32m     67\u001b[0m         \u001b[0;31m# need copy\u001b[0m\u001b[0;34m\u001b[0m\u001b[0;34m\u001b[0m\u001b[0m\n\u001b[0;32m---> 68\u001b[0;31m         \u001b[0ma\u001b[0m \u001b[0;34m=\u001b[0m \u001b[0mnp\u001b[0m\u001b[0;34m.\u001b[0m\u001b[0marray\u001b[0m\u001b[0;34m(\u001b[0m\u001b[0ma\u001b[0m\u001b[0;34m,\u001b[0m \u001b[0msubok\u001b[0m\u001b[0;34m=\u001b[0m\u001b[0mTrue\u001b[0m\u001b[0;34m)\u001b[0m\u001b[0;34m\u001b[0m\u001b[0m\n\u001b[0m\u001b[1;32m     69\u001b[0m \u001b[0;34m\u001b[0m\u001b[0m\n\u001b[1;32m     70\u001b[0m     \u001b[0mmask\u001b[0m \u001b[0;34m=\u001b[0m \u001b[0mnp\u001b[0m\u001b[0;34m.\u001b[0m\u001b[0misnan\u001b[0m\u001b[0;34m(\u001b[0m\u001b[0ma\u001b[0m\u001b[0;34m)\u001b[0m\u001b[0;34m\u001b[0m\u001b[0m\n",
      "\u001b[0;32m/home/wu-jung/anaconda3/envs/py27/lib/python2.7/site-packages/numpy/ma/core.pyc\u001b[0m in \u001b[0;36m__array_finalize__\u001b[0;34m(self, obj)\u001b[0m\n\u001b[1;32m   2912\u001b[0m         \"\"\"\n\u001b[1;32m   2913\u001b[0m         \u001b[0;31m# Get main attributes.\u001b[0m\u001b[0;34m\u001b[0m\u001b[0;34m\u001b[0m\u001b[0m\n\u001b[0;32m-> 2914\u001b[0;31m         \u001b[0mself\u001b[0m\u001b[0;34m.\u001b[0m\u001b[0m_update_from\u001b[0m\u001b[0;34m(\u001b[0m\u001b[0mobj\u001b[0m\u001b[0;34m)\u001b[0m\u001b[0;34m\u001b[0m\u001b[0m\n\u001b[0m\u001b[1;32m   2915\u001b[0m \u001b[0;34m\u001b[0m\u001b[0m\n\u001b[1;32m   2916\u001b[0m         \u001b[0;31m# We have to decide how to initialize self.mask, based on\u001b[0m\u001b[0;34m\u001b[0m\u001b[0;34m\u001b[0m\u001b[0m\n",
      "\u001b[0;32m/home/wu-jung/anaconda3/envs/py27/lib/python2.7/site-packages/numpy/ma/core.pyc\u001b[0m in \u001b[0;36m_update_from\u001b[0;34m(self, obj)\u001b[0m\n\u001b[1;32m   2891\u001b[0m         \u001b[0;31m# We need to copy the _basedict to avoid backward propagation\u001b[0m\u001b[0;34m\u001b[0m\u001b[0;34m\u001b[0m\u001b[0m\n\u001b[1;32m   2892\u001b[0m         \u001b[0m_optinfo\u001b[0m \u001b[0;34m=\u001b[0m \u001b[0;34m{\u001b[0m\u001b[0;34m}\u001b[0m\u001b[0;34m\u001b[0m\u001b[0m\n\u001b[0;32m-> 2893\u001b[0;31m         \u001b[0m_optinfo\u001b[0m\u001b[0;34m.\u001b[0m\u001b[0mupdate\u001b[0m\u001b[0;34m(\u001b[0m\u001b[0mgetattr\u001b[0m\u001b[0;34m(\u001b[0m\u001b[0mobj\u001b[0m\u001b[0;34m,\u001b[0m \u001b[0;34m'_optinfo'\u001b[0m\u001b[0;34m,\u001b[0m \u001b[0;34m{\u001b[0m\u001b[0;34m}\u001b[0m\u001b[0;34m)\u001b[0m\u001b[0;34m)\u001b[0m\u001b[0;34m\u001b[0m\u001b[0m\n\u001b[0m\u001b[1;32m   2894\u001b[0m         \u001b[0m_optinfo\u001b[0m\u001b[0;34m.\u001b[0m\u001b[0mupdate\u001b[0m\u001b[0;34m(\u001b[0m\u001b[0mgetattr\u001b[0m\u001b[0;34m(\u001b[0m\u001b[0mobj\u001b[0m\u001b[0;34m,\u001b[0m \u001b[0;34m'_basedict'\u001b[0m\u001b[0;34m,\u001b[0m \u001b[0;34m{\u001b[0m\u001b[0;34m}\u001b[0m\u001b[0;34m)\u001b[0m\u001b[0;34m)\u001b[0m\u001b[0;34m\u001b[0m\u001b[0m\n\u001b[1;32m   2895\u001b[0m         \u001b[0;32mif\u001b[0m \u001b[0;32mnot\u001b[0m \u001b[0misinstance\u001b[0m\u001b[0;34m(\u001b[0m\u001b[0mobj\u001b[0m\u001b[0;34m,\u001b[0m \u001b[0mMaskedArray\u001b[0m\u001b[0;34m)\u001b[0m\u001b[0;34m:\u001b[0m\u001b[0;34m\u001b[0m\u001b[0m\n",
      "\u001b[0;31mKeyboardInterrupt\u001b[0m: "
     ]
    }
   ],
   "source": [
    "db_diff.raw2MVBS_daterange(date_wanted,data_path,save_path,save_fname,ping_time_param,ping_bin_range,depth_bin_range,tvg_correction_factor)"
   ]
  },
  {
   "cell_type": "code",
   "execution_count": null,
   "metadata": {
    "collapsed": true
   },
   "outputs": [],
   "source": []
  },
  {
   "cell_type": "code",
   "execution_count": 9,
   "metadata": {
    "collapsed": false
   },
   "outputs": [
    {
     "name": "stdout",
     "output_type": "stream",
     "text": [
      "00:15:52  unpacking file: /media/wu-jung/wjlee_apl_2/ooi_zplsc_600m/OOI-D20150817-T000000.raw\n"
     ]
    },
    {
     "name": "stderr",
     "output_type": "stream",
     "text": [
      "db_diff.py:171: RuntimeWarning: invalid value encountered in log10\n",
      "  tmp = 10*np.log10(np.ma.masked_less_equal(subtract,0))\n"
     ]
    },
    {
     "name": "stdout",
     "output_type": "stream",
     "text": [
      "-- H5 file exists, append new data mtx...\n",
      "-- H5 file exists, append new data mtx...\n",
      "00:16:23  unpacking file: /media/wu-jung/wjlee_apl_2/ooi_zplsc_600m/OOI-D20150818-T000000.raw\n"
     ]
    },
    {
     "ename": "KeyboardInterrupt",
     "evalue": "",
     "output_type": "error",
     "traceback": [
      "\u001b[0;31m---------------------------------------------------------------------------\u001b[0m",
      "\u001b[0;31mKeyboardInterrupt\u001b[0m                         Traceback (most recent call last)",
      "\u001b[0;32m<ipython-input-9-4528aad1e281>\u001b[0m in \u001b[0;36m<module>\u001b[0;34m()\u001b[0m\n\u001b[1;32m     15\u001b[0m     \u001b[0mSv_noise_tmp\u001b[0m \u001b[0;34m=\u001b[0m \u001b[0mnp\u001b[0m\u001b[0;34m.\u001b[0m\u001b[0mma\u001b[0m\u001b[0;34m.\u001b[0m\u001b[0mempty\u001b[0m\u001b[0;34m(\u001b[0m\u001b[0;34m(\u001b[0m\u001b[0mpower_data\u001b[0m\u001b[0;34m.\u001b[0m\u001b[0mshape\u001b[0m\u001b[0;34m[\u001b[0m\u001b[0;36m0\u001b[0m\u001b[0;34m:\u001b[0m\u001b[0;36m2\u001b[0m\u001b[0;34m]\u001b[0m\u001b[0;34m)\u001b[0m\u001b[0;34m)\u001b[0m\u001b[0;34m\u001b[0m\u001b[0m\n\u001b[1;32m     16\u001b[0m     \u001b[0;32mfor\u001b[0m \u001b[0mfn\u001b[0m \u001b[0;32min\u001b[0m \u001b[0mrange\u001b[0m\u001b[0;34m(\u001b[0m\u001b[0mpower_data\u001b[0m\u001b[0;34m.\u001b[0m\u001b[0mshape\u001b[0m\u001b[0;34m[\u001b[0m\u001b[0;36m0\u001b[0m\u001b[0;34m]\u001b[0m\u001b[0;34m)\u001b[0m\u001b[0;34m:\u001b[0m\u001b[0;34m\u001b[0m\u001b[0m\n\u001b[0;32m---> 17\u001b[0;31m         \u001b[0mnoise_est\u001b[0m\u001b[0;34m,\u001b[0m\u001b[0mping_bin_num\u001b[0m \u001b[0;34m=\u001b[0m \u001b[0mdb_diff\u001b[0m\u001b[0;34m.\u001b[0m\u001b[0mget_noise\u001b[0m\u001b[0;34m(\u001b[0m\u001b[0mpower_data\u001b[0m\u001b[0;34m[\u001b[0m\u001b[0mfn\u001b[0m\u001b[0;34m,\u001b[0m\u001b[0;34m:\u001b[0m\u001b[0;34m,\u001b[0m\u001b[0;34m:\u001b[0m\u001b[0;34m]\u001b[0m\u001b[0;34m,\u001b[0m\u001b[0mbin_size\u001b[0m\u001b[0;34m,\u001b[0m\u001b[0mping_bin_range\u001b[0m\u001b[0;34m,\u001b[0m\u001b[0mdepth_bin_range\u001b[0m\u001b[0;34m)\u001b[0m\u001b[0;34m\u001b[0m\u001b[0m\n\u001b[0m\u001b[1;32m     18\u001b[0m         \u001b[0mSv_raw_tmp\u001b[0m\u001b[0;34m[\u001b[0m\u001b[0mfn\u001b[0m\u001b[0;34m,\u001b[0m\u001b[0;34m:\u001b[0m\u001b[0;34m,\u001b[0m\u001b[0;34m:\u001b[0m\u001b[0;34m]\u001b[0m\u001b[0;34m,\u001b[0m\u001b[0mSv_corr_tmp\u001b[0m\u001b[0;34m[\u001b[0m\u001b[0mfn\u001b[0m\u001b[0;34m,\u001b[0m\u001b[0;34m:\u001b[0m\u001b[0;34m,\u001b[0m\u001b[0;34m:\u001b[0m\u001b[0;34m]\u001b[0m\u001b[0;34m,\u001b[0m\u001b[0mSv_noise_tmp\u001b[0m\u001b[0;34m[\u001b[0m\u001b[0mfn\u001b[0m\u001b[0;34m,\u001b[0m\u001b[0;34m:\u001b[0m\u001b[0;34m]\u001b[0m \u001b[0;34m=\u001b[0m                 \u001b[0mdb_diff\u001b[0m\u001b[0;34m.\u001b[0m\u001b[0mremove_noise\u001b[0m\u001b[0;34m(\u001b[0m\u001b[0mpower_data\u001b[0m\u001b[0;34m[\u001b[0m\u001b[0mfn\u001b[0m\u001b[0;34m,\u001b[0m\u001b[0;34m:\u001b[0m\u001b[0;34m,\u001b[0m\u001b[0;34m:\u001b[0m\u001b[0;34m]\u001b[0m\u001b[0;34m,\u001b[0m\u001b[0mcal_params\u001b[0m\u001b[0;34m[\u001b[0m\u001b[0mfn\u001b[0m\u001b[0;34m]\u001b[0m\u001b[0;34m,\u001b[0m\u001b[0mnoise_est\u001b[0m\u001b[0;34m.\u001b[0m\u001b[0mmin\u001b[0m\u001b[0;34m(\u001b[0m\u001b[0;34m)\u001b[0m\u001b[0;34m,\u001b[0m\u001b[0mping_bin_range\u001b[0m\u001b[0;34m,\u001b[0m\u001b[0mtvg_correction_factor\u001b[0m\u001b[0;34m)\u001b[0m\u001b[0;34m\u001b[0m\u001b[0m\n\u001b[1;32m     19\u001b[0m \u001b[0;34m\u001b[0m\u001b[0m\n",
      "\u001b[0;32m/home/wu-jung/internal_2tb/ooi_sonar/ooi_sonar_code/db_diff.py\u001b[0m in \u001b[0;36mget_noise\u001b[0;34m(power_data, depth_bin_size, ping_bin_range, depth_bin_range, tvgCorrectionFactor)\u001b[0m\n\u001b[1;32m    103\u001b[0m             \u001b[0mdepth_idx\u001b[0m \u001b[0;34m=\u001b[0m \u001b[0mnp\u001b[0m\u001b[0;34m.\u001b[0m\u001b[0marange\u001b[0m\u001b[0;34m(\u001b[0m\u001b[0mN\u001b[0m\u001b[0;34m)\u001b[0m\u001b[0;34m+\u001b[0m\u001b[0mN\u001b[0m\u001b[0;34m*\u001b[0m\u001b[0miD\u001b[0m\u001b[0;34m+\u001b[0m\u001b[0mtvgCorrectionFactor\u001b[0m  \u001b[0;31m# match the 2-sample offset\u001b[0m\u001b[0;34m\u001b[0m\u001b[0m\n\u001b[1;32m    104\u001b[0m             \u001b[0mping_idx\u001b[0m \u001b[0;34m=\u001b[0m \u001b[0mnp\u001b[0m\u001b[0;34m.\u001b[0m\u001b[0marange\u001b[0m\u001b[0;34m(\u001b[0m\u001b[0mping_bin_range\u001b[0m\u001b[0;34m)\u001b[0m\u001b[0;34m+\u001b[0m\u001b[0mping_bin_range\u001b[0m\u001b[0;34m*\u001b[0m\u001b[0miP\u001b[0m\u001b[0;34m\u001b[0m\u001b[0m\n\u001b[0;32m--> 105\u001b[0;31m             \u001b[0mpower_bin\u001b[0m\u001b[0;34m[\u001b[0m\u001b[0miD\u001b[0m\u001b[0;34m,\u001b[0m\u001b[0miP\u001b[0m\u001b[0;34m]\u001b[0m \u001b[0;34m=\u001b[0m \u001b[0mnp\u001b[0m\u001b[0;34m.\u001b[0m\u001b[0mmean\u001b[0m\u001b[0;34m(\u001b[0m\u001b[0;36m10\u001b[0m\u001b[0;34m**\u001b[0m\u001b[0;34m(\u001b[0m\u001b[0mpower_data\u001b[0m\u001b[0;34m[\u001b[0m\u001b[0mnp\u001b[0m\u001b[0;34m.\u001b[0m\u001b[0mix_\u001b[0m\u001b[0;34m(\u001b[0m\u001b[0mdepth_idx\u001b[0m\u001b[0;34m,\u001b[0m\u001b[0mping_idx\u001b[0m\u001b[0;34m)\u001b[0m\u001b[0;34m]\u001b[0m\u001b[0;34m/\u001b[0m\u001b[0;36m10\u001b[0m\u001b[0;34m)\u001b[0m\u001b[0;34m)\u001b[0m\u001b[0;34m\u001b[0m\u001b[0m\n\u001b[0m\u001b[1;32m    106\u001b[0m \u001b[0;34m\u001b[0m\u001b[0m\n\u001b[1;32m    107\u001b[0m     \u001b[0;31m# Noise = minimum value for each averaged ping\u001b[0m\u001b[0;34m\u001b[0m\u001b[0;34m\u001b[0m\u001b[0m\n",
      "\u001b[0;31mKeyboardInterrupt\u001b[0m: "
     ]
    }
   ],
   "source": [
    "for iD,dd in zip(range(len(date_wanted)),date_wanted):\n",
    "\n",
    "    # load files and get calibration params\n",
    "    fname = glob.glob(os.path.join(data_path,'OOI-D%s*.raw' %dd))[0]\n",
    "    particle_data, data_times, power_data, freq, bin_size, config_header, config_transducer = \\\n",
    "        zplsc_b.parse_echogram_file(fname)\n",
    "    cal_params = db_diff.get_cal_params(power_data,particle_data,config_header,config_transducer)\n",
    "\n",
    "    # swap sequence of 120 kHz and 38 kHz cal_params and data\n",
    "    cal_params = [cal_params[fn] for fn in [1,0,2]]\n",
    "    power_data = db_diff.get_power_data_mtx(power_data,freq)\n",
    "\n",
    "    # clean data\n",
    "    Sv_raw_tmp = np.ma.empty((power_data.shape))\n",
    "    Sv_corr_tmp = np.ma.empty((power_data.shape))\n",
    "    Sv_noise_tmp = np.ma.empty((power_data.shape[0:2]))\n",
    "    for fn in range(power_data.shape[0]):\n",
    "        noise_est,ping_bin_num = db_diff.get_noise(power_data[fn,:,:],bin_size,ping_bin_range,depth_bin_range)\n",
    "        Sv_raw_tmp[fn,:,:],Sv_corr_tmp[fn,:,:],Sv_noise_tmp[fn,:] = \\\n",
    "                db_diff.remove_noise(power_data[fn,:,:],cal_params[fn],noise_est.min(),ping_bin_range,tvg_correction_factor)\n",
    "\n",
    "    # set up indexing to get wanted pings\n",
    "    dd = dt.datetime.strptime(dd,'%Y%m%d')\n",
    "    time_wanted = [dt.datetime(dd.year,dd.month,dd.day,hh,mm,ss) for hh in hour_all for mm in min_all for ss in sec_all]\n",
    "    idx_wanted = [db_diff.find_nearest_time_idx(data_times,tt,2) for tt in time_wanted]\n",
    "    notnanidx = np.argwhere(~np.isnan(idx_wanted)).flatten()\n",
    "    notnanidx_in_all = np.array(idx_wanted)[notnanidx].astype(int)\n",
    "\n",
    "    # get data to be saved\n",
    "    Sv_raw = np.ma.empty((Sv_raw_tmp.shape[0],Sv_raw_tmp.shape[1],ping_per_day))\n",
    "    Sv_corr = np.ma.empty((Sv_raw_tmp.shape[0],Sv_raw_tmp.shape[1],ping_per_day))\n",
    "    Sv_noise = np.ma.empty((Sv_raw_tmp.shape[0],Sv_raw_tmp.shape[1],1))\n",
    "    \n",
    "    Sv_raw[:,:,notnanidx] = Sv_raw_tmp[:,:,notnanidx_in_all]\n",
    "    Sv_corr[:,:,notnanidx] = Sv_corr_tmp[:,:,notnanidx_in_all]\n",
    "    Sv_noise[:,:,0] = Sv_noise_tmp\n",
    "    ping_time = date2num(time_wanted)\n",
    "\n",
    "    idx_save_mask = np.argwhere(np.isnan(idx_wanted))\n",
    "    Sv_raw[:,:,idx_save_mask] = np.ma.masked\n",
    "    Sv_corr[:,:,idx_save_mask] = np.ma.masked\n",
    "    \n",
    "    # save into h5 file\n",
    "    sz = Sv_raw.shape\n",
    "    f = h5py.File(os.path.join(save_path,'%s_Sv.h5' %save_fname),\"a\")\n",
    "    if \"Sv_raw\" in f:  # if file alread exist and contains Sv mtx\n",
    "        print '-- H5 file exists, append new data mtx...'\n",
    "        # append new data\n",
    "        sz_exist = f['Sv_raw'].shape  # shape of existing Sv mtx\n",
    "        f['Sv_raw'].resize((sz_exist[0],sz_exist[1],sz_exist[2]+sz[2]))\n",
    "        f['Sv_raw'][:,:,sz_exist[2]:] = Sv_raw\n",
    "        f['Sv_corr'].resize((sz_exist[0],sz_exist[1],sz_exist[2]+sz[2]))\n",
    "        f['Sv_corr'][:,:,sz_exist[2]:] = Sv_corr\n",
    "        f['Sv_noise'].resize((sz_exist[0],sz_exist[1],sz_exist[2]+1))\n",
    "        f['Sv_noise'][:,:,sz_exist[2]:] = Sv_noise\n",
    "        f['ping_time'].resize((sz_exist[2]+sz[2],))\n",
    "        f['ping_time'][sz_exist[2]:] = ping_time\n",
    "    else:\n",
    "        print '-- New H5 file, create new dataset...'\n",
    "        # create dataset and save\n",
    "        f.create_dataset(\"Sv_raw\", sz, maxshape=(sz[0],sz[1],None), data=Sv_raw, chunks=True)\n",
    "        f.create_dataset(\"Sv_corr\", sz, maxshape=(sz[0],sz[1],None), data=Sv_corr, chunks=True)\n",
    "        f.create_dataset(\"Sv_noise\", (Sv_raw.shape[0],Sv_raw.shape[1],1), maxshape=(sz[0],sz[1],None), data=Sv_noise, chunks=True)\n",
    "        f.create_dataset(\"ping_time\", (sz[2],), maxshape=(None,), data=ping_time, chunks=True)\n",
    "        f.create_dataset(\"depth_bin_size\",data=bin_size)\n",
    "    f.close()\n",
    "\n",
    "    # get MVBS\n",
    "    MVBS = db_diff.get_MVBS(Sv_corr,bin_size,ping_bin_range,depth_bin_range=5)\n",
    "    \n",
    "    # save into h5 file\n",
    "    sz = MVBS.shape\n",
    "    ping_time_MVBS = ping_time[0::ping_bin_range]  # get ping time every ping_bin_range for MVBS\n",
    "    \n",
    "    f = h5py.File(os.path.join(save_path,'%s_MVBS.h5' %save_fname),\"a\")\n",
    "    if \"MVBS\" in f:  # if file alread exist and contains Sv mtx\n",
    "        print '-- H5 file exists, append new data mtx...'\n",
    "        # append new data\n",
    "        sz_exist = f['MVBS'].shape  # shape of existing Sv mtx\n",
    "        f['MVBS'].resize((sz_exist[0],sz_exist[1],sz_exist[2]+sz[2]))\n",
    "        f['MVBS'][:,:,sz_exist[2]:] = MVBS\n",
    "        f['ping_time'].resize((sz_exist[2]+sz[2],))\n",
    "        f['ping_time'][sz_exist[2]:] = ping_time_MVBS\n",
    "    else:\n",
    "        print '-- New H5 file, create new dataset...'\n",
    "        # create dataset and save\n",
    "        f.create_dataset(\"MVBS\", sz, maxshape=(sz[0],sz[1],None), data=MVBS, chunks=True)\n",
    "        f.create_dataset(\"ping_time\", (sz[2],), maxshape=(None,), data=ping_time_MVBS, chunks=True)\n",
    "        f.create_dataset(\"depth_bin_size\",data=depth_bin_range)\n",
    "    f.close()"
   ]
  },
  {
   "cell_type": "code",
   "execution_count": null,
   "metadata": {
    "collapsed": true
   },
   "outputs": [],
   "source": []
  },
  {
   "cell_type": "code",
   "execution_count": null,
   "metadata": {
    "collapsed": true
   },
   "outputs": [],
   "source": []
  },
  {
   "cell_type": "code",
   "execution_count": null,
   "metadata": {
    "collapsed": true
   },
   "outputs": [],
   "source": []
  },
  {
   "cell_type": "code",
   "execution_count": null,
   "metadata": {
    "collapsed": true
   },
   "outputs": [],
   "source": []
  },
  {
   "cell_type": "code",
   "execution_count": null,
   "metadata": {
    "collapsed": true
   },
   "outputs": [],
   "source": []
  },
  {
   "cell_type": "code",
   "execution_count": null,
   "metadata": {
    "collapsed": true
   },
   "outputs": [],
   "source": []
  },
  {
   "cell_type": "code",
   "execution_count": null,
   "metadata": {
    "collapsed": true
   },
   "outputs": [],
   "source": []
  },
  {
   "cell_type": "code",
   "execution_count": null,
   "metadata": {
    "collapsed": true
   },
   "outputs": [],
   "source": []
  },
  {
   "cell_type": "code",
   "execution_count": null,
   "metadata": {
    "collapsed": true
   },
   "outputs": [],
   "source": [
    "from sklearn import decomposition\n",
    "import nimfa\n",
    "from scipy import signal\n"
   ]
  }
 ],
 "metadata": {
  "anaconda-cloud": {},
  "kernelspec": {
   "display_name": "Python [conda env:py27]",
   "language": "python",
   "name": "conda-env-py27-py"
  },
  "language_info": {
   "codemirror_mode": {
    "name": "ipython",
    "version": 2
   },
   "file_extension": ".py",
   "mimetype": "text/x-python",
   "name": "python",
   "nbconvert_exporter": "python",
   "pygments_lexer": "ipython2",
   "version": "2.7.13"
  }
 },
 "nbformat": 4,
 "nbformat_minor": 2
}
