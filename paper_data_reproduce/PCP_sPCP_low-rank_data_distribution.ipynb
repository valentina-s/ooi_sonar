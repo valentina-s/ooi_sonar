{
 "cells": [
  {
   "cell_type": "markdown",
   "metadata": {},
   "source": [
    "# Check PCP and sPCP low-rank component data distributions"
   ]
  },
  {
   "cell_type": "code",
   "execution_count": 1,
   "metadata": {},
   "outputs": [],
   "source": [
    "import os\n",
    "import xarray as xr\n",
    "import matplotlib.pyplot as plt\n",
    "import numpy as np"
   ]
  },
  {
   "cell_type": "markdown",
   "metadata": {},
   "source": [
    "## Load MVBS data"
   ]
  },
  {
   "cell_type": "code",
   "execution_count": 2,
   "metadata": {},
   "outputs": [],
   "source": [
    "MVBS_path = '/Users/wu-jung/code_git/ooi_sonar/zplsc_data_2015fall/nc_MVBS_envFromFile/'\n",
    "MVBS_file = '20150817-20151017_MVBS_time_from_Sv_rangeBin5_all.nc'"
   ]
  },
  {
   "cell_type": "code",
   "execution_count": 3,
   "metadata": {},
   "outputs": [
    {
     "data": {
      "text/html": [
       "<pre>&lt;xarray.Dataset&gt;\n",
       "Dimensions:    (frequency: 3, ping_time: 8928, range_bin: 41)\n",
       "Coordinates:\n",
       "  * range_bin  (range_bin) int64 0 1 2 3 4 5 6 7 8 ... 33 34 35 36 37 38 39 40\n",
       "  * frequency  (frequency) float32 120000.0 38000.0 200000.0\n",
       "  * ping_time  (ping_time) datetime64[ns] 2015-08-17 ... 2015-10-17T23:16:40\n",
       "Data variables:\n",
       "    MVBS       (range_bin, ping_time, frequency) float64 ...\n",
       "    range      (ping_time, range_bin) float64 ...</pre>"
      ],
      "text/plain": [
       "<xarray.Dataset>\n",
       "Dimensions:    (frequency: 3, ping_time: 8928, range_bin: 41)\n",
       "Coordinates:\n",
       "  * range_bin  (range_bin) int64 0 1 2 3 4 5 6 7 8 ... 33 34 35 36 37 38 39 40\n",
       "  * frequency  (frequency) float32 120000.0 38000.0 200000.0\n",
       "  * ping_time  (ping_time) datetime64[ns] 2015-08-17 ... 2015-10-17T23:16:40\n",
       "Data variables:\n",
       "    MVBS       (range_bin, ping_time, frequency) float64 ...\n",
       "    range      (ping_time, range_bin) float64 ..."
      ]
     },
     "execution_count": 3,
     "metadata": {},
     "output_type": "execute_result"
    }
   ],
   "source": [
    "MVBS = xr.open_dataset(os.path.join(MVBS_path, MVBS_file))\n",
    "MVBS"
   ]
  },
  {
   "cell_type": "markdown",
   "metadata": {},
   "source": [
    "### MVBS data distribution"
   ]
  },
  {
   "cell_type": "code",
   "execution_count": 23,
   "metadata": {},
   "outputs": [
    {
     "data": {
      "image/png": "[encoded data removed]",
      "text/plain": [
       "<Figure size 1080x216 with 3 Axes>"
      ]
     },
     "metadata": {
      "needs_background": "light"
     },
     "output_type": "display_data"
    }
   ],
   "source": [
    "fig, ax = plt.subplots(1,3,figsize=(15,3))\n",
    "for ifreq, freq in enumerate([38000, 120000, 200000]):\n",
    "    MVBS['MVBS'].sel(frequency=freq).isel(range_bin=slice(1,38)).plot.hist(ax=ax[ifreq], bins=100)\n",
    "    ax[ifreq].set_title(freq)"
   ]
  },
  {
   "cell_type": "code",
   "execution_count": 18,
   "metadata": {},
   "outputs": [
    {
     "data": {
      "text/html": [
       "<pre>&lt;xarray.DataArray &#x27;MVBS&#x27; (range_bin: 37, ping_time: 8928)&gt;\n",
       "[330336 values with dtype=float64]\n",
       "Coordinates:\n",
       "  * range_bin  (range_bin) int64 1 2 3 4 5 6 7 8 9 ... 30 31 32 33 34 35 36 37\n",
       "    frequency  float32 200000.0\n",
       "  * ping_time  (ping_time) datetime64[ns] 2015-08-17 ... 2015-10-17T23:16:40</pre>"
      ],
      "text/plain": [
       "<xarray.DataArray 'MVBS' (range_bin: 37, ping_time: 8928)>\n",
       "[330336 values with dtype=float64]\n",
       "Coordinates:\n",
       "  * range_bin  (range_bin) int64 1 2 3 4 5 6 7 8 9 ... 30 31 32 33 34 35 36 37\n",
       "    frequency  float32 200000.0\n",
       "  * ping_time  (ping_time) datetime64[ns] 2015-08-17 ... 2015-10-17T23:16:40"
      ]
     },
     "execution_count": 18,
     "metadata": {},
     "output_type": "execute_result"
    }
   ],
   "source": [
    "MVBS['MVBS'].sel(frequency=freq).isel(range_bin=slice(1,38))"
   ]
  },
  {
   "cell_type": "markdown",
   "metadata": {},
   "source": [
    "## Load PCP and sPCP results"
   ]
  },
  {
   "cell_type": "code",
   "execution_count": 26,
   "metadata": {},
   "outputs": [],
   "source": [
    "MVBS_PCP_path = '/Users/wu-jung/code_git/ooi_sonar/zplsc_data_2015fall/nc_PCP_envFromFile/'\n",
    "MVBS_rpca_file = '20150817-20151017_MVBS_time_from_Sv_rangeBin5_rpca.nc'\n",
    "MVBS_spcp_file = '20150817-20151017_MVBS_time_from_Sv_rangeBin5_spcp.nc'"
   ]
  },
  {
   "cell_type": "code",
   "execution_count": 27,
   "metadata": {},
   "outputs": [
    {
     "data": {
      "text/html": [
       "<pre>&lt;xarray.Dataset&gt;\n",
       "Dimensions:    (date: 62, depth: 37, frequency: 3, hour: 144)\n",
       "Coordinates:\n",
       "  * date       (date) datetime64[ns] 2015-08-17 2015-08-18 ... 2015-10-17\n",
       "  * frequency  (frequency) int64 38000 120000 200000\n",
       "  * depth      (depth) float64 184.0 179.0 174.0 169.0 ... 14.91 9.943 4.972\n",
       "  * hour       (hour) float64 0.0 0.1667 0.3333 0.5 ... 23.33 23.5 23.67 23.83\n",
       "Data variables:\n",
       "    low_rank   (date, frequency, depth, hour) float64 ...\n",
       "    sparse     (date, frequency, depth, hour) float64 ...</pre>"
      ],
      "text/plain": [
       "<xarray.Dataset>\n",
       "Dimensions:    (date: 62, depth: 37, frequency: 3, hour: 144)\n",
       "Coordinates:\n",
       "  * date       (date) datetime64[ns] 2015-08-17 2015-08-18 ... 2015-10-17\n",
       "  * frequency  (frequency) int64 38000 120000 200000\n",
       "  * depth      (depth) float64 184.0 179.0 174.0 169.0 ... 14.91 9.943 4.972\n",
       "  * hour       (hour) float64 0.0 0.1667 0.3333 0.5 ... 23.33 23.5 23.67 23.83\n",
       "Data variables:\n",
       "    low_rank   (date, frequency, depth, hour) float64 ...\n",
       "    sparse     (date, frequency, depth, hour) float64 ..."
      ]
     },
     "execution_count": 27,
     "metadata": {},
     "output_type": "execute_result"
    }
   ],
   "source": [
    "MVBS_rpca = xr.open_dataset(os.path.join(MVBS_PCP_path, MVBS_rpca_file))\n",
    "MVBS_rpca"
   ]
  },
  {
   "cell_type": "code",
   "execution_count": 28,
   "metadata": {},
   "outputs": [
    {
     "data": {
      "text/html": [
       "<pre>&lt;xarray.Dataset&gt;\n",
       "Dimensions:    (date: 62, depth: 37, frequency: 3, hour: 144)\n",
       "Coordinates:\n",
       "  * date       (date) datetime64[ns] 2015-08-17 2015-08-18 ... 2015-10-17\n",
       "  * frequency  (frequency) int64 38000 120000 200000\n",
       "  * depth      (depth) float64 184.0 179.0 174.0 169.0 ... 14.91 9.943 4.972\n",
       "  * hour       (hour) float64 0.0 0.1667 0.3333 0.5 ... 23.33 23.5 23.67 23.83\n",
       "Data variables:\n",
       "    low_rank   (date, frequency, depth, hour) float64 ...\n",
       "    sparse     (date, frequency, depth, hour) float64 ...</pre>"
      ],
      "text/plain": [
       "<xarray.Dataset>\n",
       "Dimensions:    (date: 62, depth: 37, frequency: 3, hour: 144)\n",
       "Coordinates:\n",
       "  * date       (date) datetime64[ns] 2015-08-17 2015-08-18 ... 2015-10-17\n",
       "  * frequency  (frequency) int64 38000 120000 200000\n",
       "  * depth      (depth) float64 184.0 179.0 174.0 169.0 ... 14.91 9.943 4.972\n",
       "  * hour       (hour) float64 0.0 0.1667 0.3333 0.5 ... 23.33 23.5 23.67 23.83\n",
       "Data variables:\n",
       "    low_rank   (date, frequency, depth, hour) float64 ...\n",
       "    sparse     (date, frequency, depth, hour) float64 ..."
      ]
     },
     "execution_count": 28,
     "metadata": {},
     "output_type": "execute_result"
    }
   ],
   "source": [
    "MVBS_spcp = xr.open_dataset(os.path.join(MVBS_PCP_path, MVBS_spcp_file))\n",
    "MVBS_spcp"
   ]
  },
  {
   "cell_type": "markdown",
   "metadata": {},
   "source": [
    "### PCP low-rank component distribution"
   ]
  },
  {
   "cell_type": "code",
   "execution_count": 32,
   "metadata": {},
   "outputs": [
    {
     "data": {
      "image/png": "[encoded data removed]",
      "text/plain": [
       "<Figure size 1080x216 with 3 Axes>"
      ]
     },
     "metadata": {
      "needs_background": "light"
     },
     "output_type": "display_data"
    }
   ],
   "source": [
    "fig, ax = plt.subplots(1,3,figsize=(15,3))\n",
    "for ifreq, freq in enumerate([38000, 120000, 200000]):\n",
    "    (MVBS_spcp['low_rank']-MVBS_spcp['low_rank'].min()).sel(frequency=freq).plot.hist(ax=ax[ifreq], bins=100)\n",
    "    ax[ifreq].set_title(freq)"
   ]
  },
  {
   "cell_type": "markdown",
   "metadata": {},
   "source": [
    "### sPCP low-rank component distribution"
   ]
  },
  {
   "cell_type": "code",
   "execution_count": 33,
   "metadata": {},
   "outputs": [
    {
     "data": {
      "image/png": "[encoded data removed]",
      "text/plain": [
       "<Figure size 1080x216 with 3 Axes>"
      ]
     },
     "metadata": {
      "needs_background": "light"
     },
     "output_type": "display_data"
    }
   ],
   "source": [
    "fig, ax = plt.subplots(1,3,figsize=(15,3))\n",
    "for ifreq, freq in enumerate([38000, 120000, 200000]):\n",
    "    (MVBS_rpca['low_rank']-MVBS_rpca['low_rank'].min()).sel(frequency=freq).plot.hist(ax=ax[ifreq], bins=100)\n",
    "    ax[ifreq].set_title(freq)"
   ]
  },
  {
   "cell_type": "code",
   "execution_count": null,
   "metadata": {},
   "outputs": [],
   "source": []
  }
 ],
 "metadata": {
  "kernelspec": {
   "display_name": "ooi_sonar",
   "language": "python",
   "name": "ooi_sonar"
  },
  "language_info": {
   "codemirror_mode": {
    "name": "ipython",
    "version": 3
   },
   "file_extension": ".py",
   "mimetype": "text/x-python",
   "name": "python",
   "nbconvert_exporter": "python",
   "pygments_lexer": "ipython3",
   "version": "3.7.3"
  }
 },
 "nbformat": 4,
 "nbformat_minor": 2
}
