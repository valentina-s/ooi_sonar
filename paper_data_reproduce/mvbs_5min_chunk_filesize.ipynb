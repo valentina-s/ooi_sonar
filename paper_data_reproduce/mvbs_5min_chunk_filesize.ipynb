{
 "cells": [
  {
   "cell_type": "markdown",
   "metadata": {},
   "source": [
    "# Computing MVBS based on time\n",
    "\n",
    "For calculating MVBS based on time, when the desired temporal resolution is fine (~seconds), the xarray resample operation can be really slow. It is most likely a balance between the number of pings in each file and the number of pings that go into each temporal interval. \n",
    "\n",
    "In this notebook we use each file size as a chunk and try to do 5-min resample and see what happens. Note that the same operation is not possible with chunk=4000. The file size makes each chunk ~28700."
   ]
  },
  {
   "cell_type": "code",
   "execution_count": 1,
   "metadata": {},
   "outputs": [],
   "source": [
    "import os\n",
    "import glob\n",
    "import xarray as xr\n",
    "import numpy as np\n",
    "import matplotlib.pyplot as plt"
   ]
  },
  {
   "cell_type": "code",
   "execution_count": 2,
   "metadata": {},
   "outputs": [],
   "source": [
    "from dask.distributed import Client\n",
    "client = Client()"
   ]
  },
  {
   "cell_type": "code",
   "execution_count": 3,
   "metadata": {},
   "outputs": [],
   "source": [
    "from dask.distributed import performance_report"
   ]
  },
  {
   "cell_type": "markdown",
   "metadata": {},
   "source": [
    "## Load multiple data files"
   ]
  },
  {
   "cell_type": "code",
   "execution_count": 4,
   "metadata": {},
   "outputs": [],
   "source": [
    "nc_path = '/Users/wu-jung/code_git/ooi_sonar/zplsc_data_2015fall/nc_raw/'\n",
    "nc_files = sorted(glob.glob(nc_path+'*.nc'))   # sort to order by date in filename\n",
    "nc_Sv_path = '/Users/wu-jung/code_git/ooi_sonar/zplsc_data_2015fall/nc_raw/'\n",
    "nc_Sv_files = sorted(glob.glob(nc_Sv_path+'*_Sv.nc'))   # sort to order by date in filename"
   ]
  },
  {
   "cell_type": "code",
   "execution_count": 22,
   "metadata": {},
   "outputs": [
    {
     "data": {
      "text/html": [
       "<pre>&lt;xarray.Dataset&gt;\n",
       "Dimensions:    (frequency: 3, ping_time: 143564, range_bin: 1046)\n",
       "Coordinates:\n",
       "  * range_bin  (range_bin) int64 0 1 2 3 4 5 6 ... 1040 1041 1042 1043 1044 1045\n",
       "  * frequency  (frequency) float32 120000.0 38000.0 200000.0\n",
       "  * ping_time  (ping_time) datetime64[ns] 2015-08-17T00:00:00.088000 ... 2015-08-21T23:19:59.682000\n",
       "Data variables:\n",
       "    Sv         (frequency, ping_time, range_bin) float64 dask.array&lt;chunksize=(3, 28718, 1046), meta=np.ndarray&gt;\n",
       "    range      (ping_time, frequency, range_bin) float64 dask.array&lt;chunksize=(28718, 3, 1046), meta=np.ndarray&gt;</pre>"
      ],
      "text/plain": [
       "<xarray.Dataset>\n",
       "Dimensions:    (frequency: 3, ping_time: 143564, range_bin: 1046)\n",
       "Coordinates:\n",
       "  * range_bin  (range_bin) int64 0 1 2 3 4 5 6 ... 1040 1041 1042 1043 1044 1045\n",
       "  * frequency  (frequency) float32 120000.0 38000.0 200000.0\n",
       "  * ping_time  (ping_time) datetime64[ns] 2015-08-17T00:00:00.088000 ... 2015-08-21T23:19:59.682000\n",
       "Data variables:\n",
       "    Sv         (frequency, ping_time, range_bin) float64 dask.array<chunksize=(3, 28718, 1046), meta=np.ndarray>\n",
       "    range      (ping_time, frequency, range_bin) float64 dask.array<chunksize=(28718, 3, 1046), meta=np.ndarray>"
      ]
     },
     "execution_count": 22,
     "metadata": {},
     "output_type": "execute_result"
    }
   ],
   "source": [
    "ds = xr.open_mfdataset(nc_Sv_files[:5], combine='by_coords')\n",
    "ds"
   ]
  },
  {
   "cell_type": "code",
   "execution_count": 23,
   "metadata": {},
   "outputs": [
    {
     "data": {
      "text/plain": [
       "Frozen(SortedKeysDict({'frequency': (3,), 'ping_time': (28718, 28717, 28714, 28703, 28712), 'range_bin': (1046,)}))"
      ]
     },
     "execution_count": 23,
     "metadata": {},
     "output_type": "execute_result"
    }
   ],
   "source": [
    "ds.chunks"
   ]
  },
  {
   "cell_type": "code",
   "execution_count": 24,
   "metadata": {},
   "outputs": [
    {
     "data": {
      "text/html": [
       "<table>\n",
       "<tr>\n",
       "<td>\n",
       "<table>\n",
       "  <thead>\n",
       "    <tr><td> </td><th> Array </th><th> Chunk </th></tr>\n",
       "  </thead>\n",
       "  <tbody>\n",
       "    <tr><th> Bytes </th><td> 3.60 GB </td> <td> 720.94 MB </td></tr>\n",
       "    <tr><th> Shape </th><td> (3, 143564, 1046) </td> <td> (3, 28718, 1046) </td></tr>\n",
       "    <tr><th> Count </th><td> 15 Tasks </td><td> 5 Chunks </td></tr>\n",
       "    <tr><th> Type </th><td> float64 </td><td> numpy.ndarray </td></tr>\n",
       "  </tbody>\n",
       "</table>\n",
       "</td>\n",
       "<td>\n",
       "<svg width=\"100\" height=\"184\" style=\"stroke:rgb(0,0,0);stroke-width:1\" >\n",
       "\n",
       "  <!-- Horizontal lines -->\n",
       "  <line x1=\"10\" y1=\"0\" x2=\"24\" y2=\"14\" style=\"stroke-width:2\" />\n",
       "  <line x1=\"10\" y1=\"24\" x2=\"24\" y2=\"38\" />\n",
       "  <line x1=\"10\" y1=\"48\" x2=\"24\" y2=\"62\" />\n",
       "  <line x1=\"10\" y1=\"72\" x2=\"24\" y2=\"86\" />\n",
       "  <line x1=\"10\" y1=\"96\" x2=\"24\" y2=\"110\" />\n",
       "  <line x1=\"10\" y1=\"120\" x2=\"24\" y2=\"134\" style=\"stroke-width:2\" />\n",
       "\n",
       "  <!-- Vertical lines -->\n",
       "  <line x1=\"10\" y1=\"0\" x2=\"10\" y2=\"120\" style=\"stroke-width:2\" />\n",
       "  <line x1=\"24\" y1=\"14\" x2=\"24\" y2=\"134\" style=\"stroke-width:2\" />\n",
       "\n",
       "  <!-- Colored Rectangle -->\n",
       "  <polygon points=\"10.000000,0.000000 24.948598,14.948598 24.948598,134.948598 10.000000,120.000000\" style=\"fill:#ECB172A0;stroke-width:0\"/>\n",
       "\n",
       "  <!-- Horizontal lines -->\n",
       "  <line x1=\"10\" y1=\"0\" x2=\"35\" y2=\"0\" style=\"stroke-width:2\" />\n",
       "  <line x1=\"24\" y1=\"14\" x2=\"50\" y2=\"14\" style=\"stroke-width:2\" />\n",
       "\n",
       "  <!-- Vertical lines -->\n",
       "  <line x1=\"10\" y1=\"0\" x2=\"24\" y2=\"14\" style=\"stroke-width:2\" />\n",
       "  <line x1=\"35\" y1=\"0\" x2=\"50\" y2=\"14\" style=\"stroke-width:2\" />\n",
       "\n",
       "  <!-- Colored Rectangle -->\n",
       "  <polygon points=\"10.000000,0.000000 35.412617,0.000000 50.361214,14.948598 24.948598,14.948598\" style=\"fill:#ECB172A0;stroke-width:0\"/>\n",
       "\n",
       "  <!-- Horizontal lines -->\n",
       "  <line x1=\"24\" y1=\"14\" x2=\"50\" y2=\"14\" style=\"stroke-width:2\" />\n",
       "  <line x1=\"24\" y1=\"38\" x2=\"50\" y2=\"38\" />\n",
       "  <line x1=\"24\" y1=\"62\" x2=\"50\" y2=\"62\" />\n",
       "  <line x1=\"24\" y1=\"86\" x2=\"50\" y2=\"86\" />\n",
       "  <line x1=\"24\" y1=\"110\" x2=\"50\" y2=\"110\" />\n",
       "  <line x1=\"24\" y1=\"134\" x2=\"50\" y2=\"134\" style=\"stroke-width:2\" />\n",
       "\n",
       "  <!-- Vertical lines -->\n",
       "  <line x1=\"24\" y1=\"14\" x2=\"24\" y2=\"134\" style=\"stroke-width:2\" />\n",
       "  <line x1=\"50\" y1=\"14\" x2=\"50\" y2=\"134\" style=\"stroke-width:2\" />\n",
       "\n",
       "  <!-- Colored Rectangle -->\n",
       "  <polygon points=\"24.948598,14.948598 50.361214,14.948598 50.361214,134.948598 24.948598,134.948598\" style=\"fill:#ECB172A0;stroke-width:0\"/>\n",
       "\n",
       "  <!-- Text -->\n",
       "  <text x=\"37.654906\" y=\"154.948598\" font-size=\"1.0rem\" font-weight=\"100\" text-anchor=\"middle\" >1046</text>\n",
       "  <text x=\"70.361214\" y=\"74.948598\" font-size=\"1.0rem\" font-weight=\"100\" text-anchor=\"middle\" transform=\"rotate(-90,70.361214,74.948598)\">143564</text>\n",
       "  <text x=\"7.474299\" y=\"147.474299\" font-size=\"1.0rem\" font-weight=\"100\" text-anchor=\"middle\" transform=\"rotate(45,7.474299,147.474299)\">3</text>\n",
       "</svg>\n",
       "</td>\n",
       "</tr>\n",
       "</table>"
      ],
      "text/plain": [
       "dask.array<concatenate, shape=(3, 143564, 1046), dtype=float64, chunksize=(3, 28718, 1046), chunktype=numpy.ndarray>"
      ]
     },
     "execution_count": 24,
     "metadata": {},
     "output_type": "execute_result"
    }
   ],
   "source": [
    "ds.Sv.data"
   ]
  },
  {
   "cell_type": "markdown",
   "metadata": {},
   "source": [
    "## Set MVBS params and output file path and filename"
   ]
  },
  {
   "cell_type": "code",
   "execution_count": 25,
   "metadata": {},
   "outputs": [],
   "source": [
    "MVBS_range_bin_size = 5  # [m]"
   ]
  },
  {
   "cell_type": "code",
   "execution_count": 26,
   "metadata": {},
   "outputs": [],
   "source": [
    "save_path = '/Users/wu-jung/code_git/ooi_sonar/zplsc_data_2015fall/nc_MVBS/'\n",
    "MVBS_fname_from_Sv_time_prefix = (f'20150817-20151017_MVBS_time_from_Sv'\n",
    "                                  f'_rangeBin{MVBS_range_bin_size}_')"
   ]
  },
  {
   "cell_type": "code",
   "execution_count": 27,
   "metadata": {},
   "outputs": [
    {
     "data": {
      "text/plain": [
       "'20150817-20151017_MVBS_time_from_Sv_rangeBin5_'"
      ]
     },
     "execution_count": 27,
     "metadata": {},
     "output_type": "execute_result"
    }
   ],
   "source": [
    "MVBS_fname_from_Sv_time_prefix"
   ]
  },
  {
   "cell_type": "markdown",
   "metadata": {},
   "source": [
    "## Get various variables for MVBS calculation"
   ]
  },
  {
   "cell_type": "markdown",
   "metadata": {},
   "source": [
    "Calculating sample thickness, which will be used to determine the number of range bins used for each MVBS tile."
   ]
  },
  {
   "cell_type": "code",
   "execution_count": 28,
   "metadata": {},
   "outputs": [
    {
     "data": {
      "text/html": [
       "<pre>&lt;xarray.DataArray (frequency: 3)&gt;\n",
       "array([0.19121777, 0.19121777, 0.19121777], dtype=float32)\n",
       "Coordinates:\n",
       "  * frequency  (frequency) float32 120000.0 38000.0 200000.0</pre>"
      ],
      "text/plain": [
       "<xarray.DataArray (frequency: 3)>\n",
       "array([0.19121777, 0.19121777, 0.19121777], dtype=float32)\n",
       "Coordinates:\n",
       "  * frequency  (frequency) float32 120000.0 38000.0 200000.0"
      ]
     },
     "execution_count": 28,
     "metadata": {},
     "output_type": "execute_result"
    }
   ],
   "source": [
    "with xr.open_dataset(nc_files[0], group=\"Beam\") as ds_beam:\n",
    "    with xr.open_dataset(nc_files[0], group=\"Environment\") as ds_env:\n",
    "        sample_thickness = ds_env.sound_speed_indicative * ds_beam.sample_interval / 2  # sample thickness\n",
    "sample_thickness"
   ]
  },
  {
   "cell_type": "markdown",
   "metadata": {},
   "source": [
    "Set range bin (depth) and ping number sizes for each MVBS tile."
   ]
  },
  {
   "cell_type": "markdown",
   "metadata": {},
   "source": [
    "Adjust tile range bin size so that it is an integer multiple of the sample thickness."
   ]
  },
  {
   "cell_type": "code",
   "execution_count": 29,
   "metadata": {},
   "outputs": [
    {
     "name": "stdout",
     "output_type": "stream",
     "text": [
      "There are 26 range bins in each MVBS tile.\n",
      "There are a total of 41 range_bin bins for each Sv tile.\n"
     ]
    }
   ],
   "source": [
    "# Adjust noise_est_range_bin_size because range_bin_size may be an inconvenient value\n",
    "r_data_sz = ds['range_bin'].size   # dimension of range_bin in data file\n",
    "num_r_per_tile = (np.round(MVBS_range_bin_size / sample_thickness).\n",
    "                  astype(int)).values.max()  # num of range_bin per tile\n",
    "MVBS_range_bin_size = (num_r_per_tile * sample_thickness).values\n",
    "\n",
    "num_tile_range_bin = np.ceil(r_data_sz / num_r_per_tile).astype(int)\n",
    "\n",
    "print(f'There are {num_r_per_tile} range bins in each MVBS tile.')\n",
    "print(f'There are a total of {num_tile_range_bin} range_bin bins for each Sv tile.')"
   ]
  },
  {
   "cell_type": "markdown",
   "metadata": {},
   "source": [
    "Below are the bin edges we will use to group values along the `range_bin` dimension:"
   ]
  },
  {
   "cell_type": "code",
   "execution_count": 30,
   "metadata": {},
   "outputs": [
    {
     "data": {
      "text/plain": [
       "array([  -1,   25,   51,   77,  103,  129,  155,  181,  207,  233,  259,\n",
       "        285,  311,  337,  363,  389,  415,  441,  467,  493,  519,  545,\n",
       "        571,  597,  623,  649,  675,  701,  727,  753,  779,  805,  831,\n",
       "        857,  883,  909,  935,  961,  987, 1013, 1039, 1065])"
      ]
     },
     "execution_count": 30,
     "metadata": {},
     "output_type": "execute_result"
    }
   ],
   "source": [
    "r_tile_bin_edge = np.arange(num_tile_range_bin+1) * num_r_per_tile - 1\n",
    "r_tile_bin_edge"
   ]
  },
  {
   "cell_type": "markdown",
   "metadata": {},
   "source": [
    "## MVBS computation"
   ]
  },
  {
   "cell_type": "code",
   "execution_count": 31,
   "metadata": {},
   "outputs": [
    {
     "data": {
      "text/html": [
       "<pre>&lt;xarray.Dataset&gt;\n",
       "Dimensions:    (frequency: 3, ping_time: 143564, range_bin: 1046)\n",
       "Coordinates:\n",
       "  * ping_time  (ping_time) datetime64[ns] 2015-08-17T00:00:00.088000 ... 2015-08-21T23:19:59.682000\n",
       "  * range_bin  (range_bin) int64 0 1 2 3 4 5 6 ... 1040 1041 1042 1043 1044 1045\n",
       "  * frequency  (frequency) float32 120000.0 38000.0 200000.0\n",
       "Data variables:\n",
       "    Sv         (frequency, ping_time, range_bin) float64 dask.array&lt;chunksize=(3, 28718, 1046), meta=np.ndarray&gt;\n",
       "    range      (ping_time, frequency, range_bin) float64 dask.array&lt;chunksize=(28718, 3, 1046), meta=np.ndarray&gt;</pre>"
      ],
      "text/plain": [
       "<xarray.Dataset>\n",
       "Dimensions:    (frequency: 3, ping_time: 143564, range_bin: 1046)\n",
       "Coordinates:\n",
       "  * ping_time  (ping_time) datetime64[ns] 2015-08-17T00:00:00.088000 ... 2015-08-21T23:19:59.682000\n",
       "  * range_bin  (range_bin) int64 0 1 2 3 4 5 6 ... 1040 1041 1042 1043 1044 1045\n",
       "  * frequency  (frequency) float32 120000.0 38000.0 200000.0\n",
       "Data variables:\n",
       "    Sv         (frequency, ping_time, range_bin) float64 dask.array<chunksize=(3, 28718, 1046), meta=np.ndarray>\n",
       "    range      (ping_time, frequency, range_bin) float64 dask.array<chunksize=(28718, 3, 1046), meta=np.ndarray>"
      ]
     },
     "execution_count": 31,
     "metadata": {},
     "output_type": "execute_result"
    }
   ],
   "source": [
    "ds_linear = 10**(ds/10)  # convert to linear domain\n",
    "ds_linear"
   ]
  },
  {
   "cell_type": "markdown",
   "metadata": {},
   "source": [
    "### Based on time along ping_time"
   ]
  },
  {
   "cell_type": "markdown",
   "metadata": {},
   "source": [
    "The coarsen operation can only be based on index, so to compute MVBS based on the actual timestamp, we will need to combined `resample` and `groupby_bins` along the `ping_time` and `range_bin` dimensions, respectively.\n",
    "\n",
    "Let's do this by trying to produce MVBS with a cell size of 20 min x ~5 m."
   ]
  },
  {
   "cell_type": "code",
   "execution_count": 32,
   "metadata": {},
   "outputs": [
    {
     "data": {
      "text/html": [
       "<pre>&lt;xarray.Dataset&gt;\n",
       "Dimensions:    (frequency: 3, ping_time: 480, range_bin: 1046)\n",
       "Coordinates:\n",
       "  * ping_time  (ping_time) datetime64[ns] 2015-08-17 ... 2015-08-21T23:15:00\n",
       "  * range_bin  (range_bin) int64 0 1 2 3 4 5 6 ... 1040 1041 1042 1043 1044 1045\n",
       "  * frequency  (frequency) float32 120000.0 38000.0 200000.0\n",
       "Data variables:\n",
       "    Sv         (ping_time, frequency, range_bin) float64 dask.array&lt;chunksize=(1, 3, 1046), meta=np.ndarray&gt;\n",
       "    range      (ping_time, frequency, range_bin) float64 dask.array&lt;chunksize=(1, 3, 1046), meta=np.ndarray&gt;</pre>"
      ],
      "text/plain": [
       "<xarray.Dataset>\n",
       "Dimensions:    (frequency: 3, ping_time: 480, range_bin: 1046)\n",
       "Coordinates:\n",
       "  * ping_time  (ping_time) datetime64[ns] 2015-08-17 ... 2015-08-21T23:15:00\n",
       "  * range_bin  (range_bin) int64 0 1 2 3 4 5 6 ... 1040 1041 1042 1043 1044 1045\n",
       "  * frequency  (frequency) float32 120000.0 38000.0 200000.0\n",
       "Data variables:\n",
       "    Sv         (ping_time, frequency, range_bin) float64 dask.array<chunksize=(1, 3, 1046), meta=np.ndarray>\n",
       "    range      (ping_time, frequency, range_bin) float64 dask.array<chunksize=(1, 3, 1046), meta=np.ndarray>"
      ]
     },
     "execution_count": 32,
     "metadata": {},
     "output_type": "execute_result"
    }
   ],
   "source": [
    "ds_linear_time = ds_linear.resample(ping_time='5min',skipna=True).\\\n",
    "                 mean().dropna(dim='ping_time')\n",
    "ds_linear_time"
   ]
  },
  {
   "cell_type": "markdown",
   "metadata": {},
   "source": [
    "Let's check the ping time to make sure results of the resampling operation makes sens:"
   ]
  },
  {
   "cell_type": "code",
   "execution_count": 33,
   "metadata": {
    "scrolled": true
   },
   "outputs": [
    {
     "data": {
      "text/html": [
       "<pre>&lt;xarray.DataArray &#x27;ping_time&#x27; (ping_time: 480)&gt;\n",
       "array([&#x27;2015-08-17T00:00:00.000000000&#x27;, &#x27;2015-08-17T00:05:00.000000000&#x27;,\n",
       "       &#x27;2015-08-17T00:10:00.000000000&#x27;, ..., &#x27;2015-08-21T23:05:00.000000000&#x27;,\n",
       "       &#x27;2015-08-21T23:10:00.000000000&#x27;, &#x27;2015-08-21T23:15:00.000000000&#x27;],\n",
       "      dtype=&#x27;datetime64[ns]&#x27;)\n",
       "Coordinates:\n",
       "  * ping_time  (ping_time) datetime64[ns] 2015-08-17 ... 2015-08-21T23:15:00</pre>"
      ],
      "text/plain": [
       "<xarray.DataArray 'ping_time' (ping_time: 480)>\n",
       "array(['2015-08-17T00:00:00.000000000', '2015-08-17T00:05:00.000000000',\n",
       "       '2015-08-17T00:10:00.000000000', ..., '2015-08-21T23:05:00.000000000',\n",
       "       '2015-08-21T23:10:00.000000000', '2015-08-21T23:15:00.000000000'],\n",
       "      dtype='datetime64[ns]')\n",
       "Coordinates:\n",
       "  * ping_time  (ping_time) datetime64[ns] 2015-08-17 ... 2015-08-21T23:15:00"
      ]
     },
     "execution_count": 33,
     "metadata": {},
     "output_type": "execute_result"
    }
   ],
   "source": [
    "ds_linear_time['ping_time']"
   ]
  },
  {
   "cell_type": "code",
   "execution_count": 34,
   "metadata": {},
   "outputs": [
    {
     "data": {
      "text/html": [
       "<pre>&lt;xarray.Dataset&gt;\n",
       "Dimensions:         (frequency: 3, ping_time: 480, range_bin_bins: 41)\n",
       "Coordinates:\n",
       "  * ping_time       (ping_time) datetime64[ns] 2015-08-17 ... 2015-08-21T23:15:00\n",
       "  * frequency       (frequency) float32 120000.0 38000.0 200000.0\n",
       "  * range_bin_bins  (range_bin_bins) object (-1, 25] (25, 51] ... (1039, 1065]\n",
       "Data variables:\n",
       "    MVBS            (range_bin_bins, ping_time, frequency) float64 dask.array&lt;chunksize=(1, 1, 3), meta=np.ndarray&gt;\n",
       "    range           (range_bin_bins, ping_time, frequency) float64 dask.array&lt;chunksize=(1, 1, 3), meta=np.ndarray&gt;</pre>"
      ],
      "text/plain": [
       "<xarray.Dataset>\n",
       "Dimensions:         (frequency: 3, ping_time: 480, range_bin_bins: 41)\n",
       "Coordinates:\n",
       "  * ping_time       (ping_time) datetime64[ns] 2015-08-17 ... 2015-08-21T23:15:00\n",
       "  * frequency       (frequency) float32 120000.0 38000.0 200000.0\n",
       "  * range_bin_bins  (range_bin_bins) object (-1, 25] (25, 51] ... (1039, 1065]\n",
       "Data variables:\n",
       "    MVBS            (range_bin_bins, ping_time, frequency) float64 dask.array<chunksize=(1, 1, 3), meta=np.ndarray>\n",
       "    range           (range_bin_bins, ping_time, frequency) float64 dask.array<chunksize=(1, 1, 3), meta=np.ndarray>"
      ]
     },
     "execution_count": 34,
     "metadata": {},
     "output_type": "execute_result"
    }
   ],
   "source": [
    "MVBS_time = 10*np.log10(  # convert back to log domain\n",
    "    ds_linear_time.groupby_bins('range_bin',r_tile_bin_edge).mean())\n",
    "MVBS_time = MVBS_time.rename({'Sv': 'MVBS'})\n",
    "MVBS_time"
   ]
  },
  {
   "cell_type": "code",
   "execution_count": 35,
   "metadata": {},
   "outputs": [],
   "source": [
    "MVBS_time['range'] = ('range_bin_bins',\n",
    "                      np.arange(MVBS_time['range_bin_bins'].size)*np.unique(MVBS_range_bin_size))\n",
    "MVBS_time.coords['range_bin'] = ('range_bin_bins',\n",
    "                                 np.arange(MVBS_time['range_bin_bins'].size))\n",
    "MVBS_time = MVBS_time.swap_dims({'range_bin_bins': 'range_bin'}).\\\n",
    "                      drop_vars('range_bin_bins')"
   ]
  },
  {
   "cell_type": "code",
   "execution_count": 36,
   "metadata": {},
   "outputs": [
    {
     "data": {
      "text/html": [
       "<pre>&lt;xarray.Dataset&gt;\n",
       "Dimensions:    (frequency: 3, ping_time: 480, range_bin: 41)\n",
       "Coordinates:\n",
       "  * ping_time  (ping_time) datetime64[ns] 2015-08-17 ... 2015-08-21T23:15:00\n",
       "  * frequency  (frequency) float32 120000.0 38000.0 200000.0\n",
       "  * range_bin  (range_bin) int64 0 1 2 3 4 5 6 7 8 ... 33 34 35 36 37 38 39 40\n",
       "Data variables:\n",
       "    MVBS       (range_bin, ping_time, frequency) float64 dask.array&lt;chunksize=(1, 1, 3), meta=np.ndarray&gt;\n",
       "    range      (range_bin) float64 0.0 4.972 9.943 14.91 ... 188.9 193.9 198.9</pre>"
      ],
      "text/plain": [
       "<xarray.Dataset>\n",
       "Dimensions:    (frequency: 3, ping_time: 480, range_bin: 41)\n",
       "Coordinates:\n",
       "  * ping_time  (ping_time) datetime64[ns] 2015-08-17 ... 2015-08-21T23:15:00\n",
       "  * frequency  (frequency) float32 120000.0 38000.0 200000.0\n",
       "  * range_bin  (range_bin) int64 0 1 2 3 4 5 6 7 8 ... 33 34 35 36 37 38 39 40\n",
       "Data variables:\n",
       "    MVBS       (range_bin, ping_time, frequency) float64 dask.array<chunksize=(1, 1, 3), meta=np.ndarray>\n",
       "    range      (range_bin) float64 0.0 4.972 9.943 14.91 ... 188.9 193.9 198.9"
      ]
     },
     "execution_count": 36,
     "metadata": {},
     "output_type": "execute_result"
    }
   ],
   "source": [
    "MVBS_time"
   ]
  },
  {
   "cell_type": "code",
   "execution_count": 37,
   "metadata": {
    "scrolled": true
   },
   "outputs": [
    {
     "name": "stderr",
     "output_type": "stream",
     "text": [
      "distributed.utils_perf - WARNING - full garbage collections took 10% CPU time recently (threshold: 10%)\n"
     ]
    }
   ],
   "source": [
    "MVBS_time.to_netcdf(os.path.join(save_path,MVBS_fname_from_Sv_time))"
   ]
  },
  {
   "cell_type": "markdown",
   "metadata": {},
   "source": [
    "## Compare MVBS based on ping number index and actual ping time"
   ]
  },
  {
   "cell_type": "code",
   "execution_count": 38,
   "metadata": {},
   "outputs": [
    {
     "data": {
      "text/html": [
       "<pre>&lt;xarray.Dataset&gt;\n",
       "Dimensions:    (frequency: 3, ping_time: 480, range_bin: 41)\n",
       "Coordinates:\n",
       "  * ping_time  (ping_time) datetime64[ns] 2015-08-17 ... 2015-08-21T23:15:00\n",
       "  * frequency  (frequency) float32 120000.0 38000.0 200000.0\n",
       "  * range_bin  (range_bin) int64 0 1 2 3 4 5 6 7 8 ... 33 34 35 36 37 38 39 40\n",
       "Data variables:\n",
       "    MVBS       (range_bin, ping_time, frequency) float64 ...\n",
       "    range      (range_bin) float64 ...</pre>"
      ],
      "text/plain": [
       "<xarray.Dataset>\n",
       "Dimensions:    (frequency: 3, ping_time: 480, range_bin: 41)\n",
       "Coordinates:\n",
       "  * ping_time  (ping_time) datetime64[ns] 2015-08-17 ... 2015-08-21T23:15:00\n",
       "  * frequency  (frequency) float32 120000.0 38000.0 200000.0\n",
       "  * range_bin  (range_bin) int64 0 1 2 3 4 5 6 7 8 ... 33 34 35 36 37 38 39 40\n",
       "Data variables:\n",
       "    MVBS       (range_bin, ping_time, frequency) float64 ...\n",
       "    range      (range_bin) float64 ..."
      ]
     },
     "execution_count": 38,
     "metadata": {},
     "output_type": "execute_result"
    }
   ],
   "source": [
    "ds_mvbs_time = xr.open_dataset(os.path.join(save_path,MVBS_fname_from_Sv_time))\n",
    "ds_mvbs_time"
   ]
  },
  {
   "cell_type": "code",
   "execution_count": 39,
   "metadata": {},
   "outputs": [
    {
     "data": {
      "image/png": "[encoded data removed]",
      "text/plain": [
       "<Figure size 1080x144 with 2 Axes>"
      ]
     },
     "metadata": {
      "needs_background": "light"
     },
     "output_type": "display_data"
    }
   ],
   "source": [
    "fig, ax = plt.subplots(figsize=(15,2))\n",
    "ds_mvbs_time['MVBS'].sel(frequency=38000).isel(range_bin=slice(1,38)).\\\n",
    "    plot(ax=ax, x='ping_time',cmap='magma',vmin=-80,vmax=-50)\n",
    "plt.show()"
   ]
  },
  {
   "cell_type": "code",
   "execution_count": 40,
   "metadata": {},
   "outputs": [
    {
     "data": {
      "text/html": [
       "<pre>&lt;xarray.DataArray &#x27;ping_time&#x27; (ping_time: 5)&gt;\n",
       "array([&#x27;2015-08-17T00:00:00.000000000&#x27;, &#x27;2015-08-17T00:05:00.000000000&#x27;,\n",
       "       &#x27;2015-08-17T00:10:00.000000000&#x27;, &#x27;2015-08-17T00:15:00.000000000&#x27;,\n",
       "       &#x27;2015-08-17T01:00:00.000000000&#x27;], dtype=&#x27;datetime64[ns]&#x27;)\n",
       "Coordinates:\n",
       "  * ping_time  (ping_time) datetime64[ns] 2015-08-17 ... 2015-08-17T01:00:00</pre>"
      ],
      "text/plain": [
       "<xarray.DataArray 'ping_time' (ping_time: 5)>\n",
       "array(['2015-08-17T00:00:00.000000000', '2015-08-17T00:05:00.000000000',\n",
       "       '2015-08-17T00:10:00.000000000', '2015-08-17T00:15:00.000000000',\n",
       "       '2015-08-17T01:00:00.000000000'], dtype='datetime64[ns]')\n",
       "Coordinates:\n",
       "  * ping_time  (ping_time) datetime64[ns] 2015-08-17 ... 2015-08-17T01:00:00"
      ]
     },
     "execution_count": 40,
     "metadata": {},
     "output_type": "execute_result"
    }
   ],
   "source": [
    "ds_mvbs_time['ping_time'].isel(ping_time=slice(0,5))"
   ]
  },
  {
   "cell_type": "code",
   "execution_count": null,
   "metadata": {},
   "outputs": [],
   "source": []
  }
 ],
 "metadata": {
  "kernelspec": {
   "display_name": "Python 3",
   "language": "python",
   "name": "python3"
  },
  "language_info": {
   "codemirror_mode": {
    "name": "ipython",
    "version": 3
   },
   "file_extension": ".py",
   "mimetype": "text/x-python",
   "name": "python",
   "nbconvert_exporter": "python",
   "pygments_lexer": "ipython3",
   "version": "3.7.3"
  }
 },
 "nbformat": 4,
 "nbformat_minor": 2
}
