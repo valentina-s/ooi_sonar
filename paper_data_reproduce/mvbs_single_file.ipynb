{
 "cells": [
  {
   "cell_type": "markdown",
   "metadata": {},
   "source": [
    "# MVBS from 1 raw data file, compare `coarsen` and brute force\n",
    "\n",
    "Compare using `coarsen` (based on index) and brute force MVBS calculation --> verified that the results are the same up to 1e-14.\n",
    "\n",
    "Also tested MVBS calculation using `resample` (based on time) + `groupby_bins`, with 1-hour intervel."
   ]
  },
  {
   "cell_type": "code",
   "execution_count": 1,
   "metadata": {},
   "outputs": [],
   "source": [
    "import os\n",
    "import glob\n",
    "import xarray as xr"
   ]
  },
  {
   "cell_type": "code",
   "execution_count": 2,
   "metadata": {},
   "outputs": [],
   "source": [
    "import time"
   ]
  },
  {
   "cell_type": "code",
   "execution_count": 3,
   "metadata": {},
   "outputs": [],
   "source": [
    "import numpy as np\n",
    "import matplotlib.pyplot as plt"
   ]
  },
  {
   "cell_type": "code",
   "execution_count": 4,
   "metadata": {},
   "outputs": [],
   "source": [
    "from dask.distributed import Client\n",
    "client = Client()"
   ]
  },
  {
   "cell_type": "code",
   "execution_count": 5,
   "metadata": {},
   "outputs": [],
   "source": [
    "from dask.distributed import performance_report"
   ]
  },
  {
   "cell_type": "code",
   "execution_count": 6,
   "metadata": {},
   "outputs": [],
   "source": [
    "nc_path = '/Users/wu-jung/code_git/ooi_sonar/zplsc_data_2015fall/nc_raw/'\n",
    "nc_files = sorted(glob.glob(nc_path+'*.nc'))   # sort to order by date in filename"
   ]
  },
  {
   "cell_type": "markdown",
   "metadata": {},
   "source": [
    "## Load multiple data files"
   ]
  },
  {
   "cell_type": "code",
   "execution_count": 7,
   "metadata": {},
   "outputs": [],
   "source": [
    "nc_path = '/Users/wu-jung/code_git/ooi_sonar/zplsc_data_2015fall/nc_Sv/'\n",
    "nc_Sv_files = sorted(glob.glob(nc_path+'*_Sv.nc'))   # sort to order by date in filename"
   ]
  },
  {
   "cell_type": "markdown",
   "metadata": {},
   "source": [
    "Let's first try this with 1 file."
   ]
  },
  {
   "cell_type": "code",
   "execution_count": 12,
   "metadata": {},
   "outputs": [
    {
     "data": {
      "text/plain": [
       "<xarray.Dataset>\n",
       "Dimensions:    (frequency: 3, ping_time: 28718, range_bin: 1046)\n",
       "Coordinates:\n",
       "  * frequency  (frequency) float32 120000.0 38000.0 200000.0\n",
       "  * ping_time  (ping_time) datetime64[ns] 2015-08-17T00:00:00.088000 ... 2015-08-17T23:19:59.703000\n",
       "  * range_bin  (range_bin) int64 0 1 2 3 4 5 6 ... 1040 1041 1042 1043 1044 1045\n",
       "Data variables:\n",
       "    Sv         (frequency, ping_time, range_bin) float64 dask.array<chunksize=(3, 28718, 1046), meta=np.ndarray>\n",
       "    range      (frequency, range_bin) float64 dask.array<chunksize=(3, 1046), meta=np.ndarray>"
      ]
     },
     "execution_count": 12,
     "metadata": {},
     "output_type": "execute_result"
    }
   ],
   "source": [
    "ds_mf = xr.open_mfdataset(nc_Sv_files[0], combine='by_coords')\n",
    "ds_mf"
   ]
  },
  {
   "cell_type": "code",
   "execution_count": 13,
   "metadata": {},
   "outputs": [
    {
     "data": {
      "text/plain": [
       "<xarray.Dataset>\n",
       "Dimensions:    (frequency: 3, ping_time: 28718, range_bin: 1046)\n",
       "Coordinates:\n",
       "  * frequency  (frequency) float32 120000.0 38000.0 200000.0\n",
       "  * ping_time  (ping_time) datetime64[ns] 2015-08-17T00:00:00.088000 ... 2015-08-17T23:19:59.703000\n",
       "  * range_bin  (range_bin) int64 0 1 2 3 4 5 6 ... 1040 1041 1042 1043 1044 1045\n",
       "Data variables:\n",
       "    Sv         (frequency, ping_time, range_bin) float64 dask.array<chunksize=(3, 4000, 1046), meta=np.ndarray>\n",
       "    range      (frequency, range_bin) float64 dask.array<chunksize=(3, 1046), meta=np.ndarray>"
      ]
     },
     "execution_count": 13,
     "metadata": {},
     "output_type": "execute_result"
    }
   ],
   "source": [
    "ds_mf_chunk = xr.open_mfdataset(nc_Sv_files[0], combine='by_coords').chunk({'ping_time': 4000})\n",
    "ds_mf_chunk"
   ]
  },
  {
   "cell_type": "code",
   "execution_count": 14,
   "metadata": {},
   "outputs": [
    {
     "data": {
      "text/plain": [
       "Frozen(SortedKeysDict({'frequency': (3,), 'ping_time': (4000, 4000, 4000, 4000, 4000, 4000, 4000, 718), 'range_bin': (1046,)}))"
      ]
     },
     "execution_count": 14,
     "metadata": {},
     "output_type": "execute_result"
    }
   ],
   "source": [
    "ds_mf_chunk.chunks"
   ]
  },
  {
   "cell_type": "code",
   "execution_count": 15,
   "metadata": {},
   "outputs": [
    {
     "data": {
      "text/html": [
       "<table>\n",
       "<tr>\n",
       "<td>\n",
       "<table>\n",
       "  <thead>\n",
       "    <tr><td> </td><th> Array </th><th> Chunk </th></tr>\n",
       "  </thead>\n",
       "  <tbody>\n",
       "    <tr><th> Bytes </th><td> 720.94 MB </td> <td> 100.42 MB </td></tr>\n",
       "    <tr><th> Shape </th><td> (3, 28718, 1046) </td> <td> (3, 4000, 1046) </td></tr>\n",
       "    <tr><th> Count </th><td> 19 Tasks </td><td> 8 Chunks </td></tr>\n",
       "    <tr><th> Type </th><td> float64 </td><td> numpy.ndarray </td></tr>\n",
       "  </tbody>\n",
       "</table>\n",
       "</td>\n",
       "<td>\n",
       "<svg width=\"107\" height=\"184\" style=\"stroke:rgb(0,0,0);stroke-width:1\" >\n",
       "\n",
       "  <!-- Horizontal lines -->\n",
       "  <line x1=\"10\" y1=\"0\" x2=\"24\" y2=\"14\" style=\"stroke-width:2\" />\n",
       "  <line x1=\"10\" y1=\"16\" x2=\"24\" y2=\"31\" />\n",
       "  <line x1=\"10\" y1=\"33\" x2=\"24\" y2=\"48\" />\n",
       "  <line x1=\"10\" y1=\"50\" x2=\"24\" y2=\"65\" />\n",
       "  <line x1=\"10\" y1=\"66\" x2=\"24\" y2=\"81\" />\n",
       "  <line x1=\"10\" y1=\"83\" x2=\"24\" y2=\"98\" />\n",
       "  <line x1=\"10\" y1=\"100\" x2=\"24\" y2=\"115\" />\n",
       "  <line x1=\"10\" y1=\"116\" x2=\"24\" y2=\"131\" />\n",
       "  <line x1=\"10\" y1=\"120\" x2=\"24\" y2=\"134\" style=\"stroke-width:2\" />\n",
       "\n",
       "  <!-- Vertical lines -->\n",
       "  <line x1=\"10\" y1=\"0\" x2=\"10\" y2=\"120\" style=\"stroke-width:2\" />\n",
       "  <line x1=\"24\" y1=\"14\" x2=\"24\" y2=\"134\" style=\"stroke-width:2\" />\n",
       "\n",
       "  <!-- Colored Rectangle -->\n",
       "  <polygon points=\"10.000000,0.000000 24.948598,14.948598 24.948598,134.948598 10.000000,120.000000\" style=\"fill:#ECB172A0;stroke-width:0\"/>\n",
       "\n",
       "  <!-- Horizontal lines -->\n",
       "  <line x1=\"10\" y1=\"0\" x2=\"42\" y2=\"0\" style=\"stroke-width:2\" />\n",
       "  <line x1=\"24\" y1=\"14\" x2=\"57\" y2=\"14\" style=\"stroke-width:2\" />\n",
       "\n",
       "  <!-- Vertical lines -->\n",
       "  <line x1=\"10\" y1=\"0\" x2=\"24\" y2=\"14\" style=\"stroke-width:2\" />\n",
       "  <line x1=\"42\" y1=\"0\" x2=\"57\" y2=\"14\" style=\"stroke-width:2\" />\n",
       "\n",
       "  <!-- Colored Rectangle -->\n",
       "  <polygon points=\"10.000000,0.000000 42.562245,0.000000 57.510843,14.948598 24.948598,14.948598\" style=\"fill:#ECB172A0;stroke-width:0\"/>\n",
       "\n",
       "  <!-- Horizontal lines -->\n",
       "  <line x1=\"24\" y1=\"14\" x2=\"57\" y2=\"14\" style=\"stroke-width:2\" />\n",
       "  <line x1=\"24\" y1=\"31\" x2=\"57\" y2=\"31\" />\n",
       "  <line x1=\"24\" y1=\"48\" x2=\"57\" y2=\"48\" />\n",
       "  <line x1=\"24\" y1=\"65\" x2=\"57\" y2=\"65\" />\n",
       "  <line x1=\"24\" y1=\"81\" x2=\"57\" y2=\"81\" />\n",
       "  <line x1=\"24\" y1=\"98\" x2=\"57\" y2=\"98\" />\n",
       "  <line x1=\"24\" y1=\"115\" x2=\"57\" y2=\"115\" />\n",
       "  <line x1=\"24\" y1=\"131\" x2=\"57\" y2=\"131\" />\n",
       "  <line x1=\"24\" y1=\"134\" x2=\"57\" y2=\"134\" style=\"stroke-width:2\" />\n",
       "\n",
       "  <!-- Vertical lines -->\n",
       "  <line x1=\"24\" y1=\"14\" x2=\"24\" y2=\"134\" style=\"stroke-width:2\" />\n",
       "  <line x1=\"57\" y1=\"14\" x2=\"57\" y2=\"134\" style=\"stroke-width:2\" />\n",
       "\n",
       "  <!-- Colored Rectangle -->\n",
       "  <polygon points=\"24.948598,14.948598 57.510843,14.948598 57.510843,134.948598 24.948598,134.948598\" style=\"fill:#ECB172A0;stroke-width:0\"/>\n",
       "\n",
       "  <!-- Text -->\n",
       "  <text x=\"41.229721\" y=\"154.948598\" font-size=\"1.0rem\" font-weight=\"100\" text-anchor=\"middle\" >1046</text>\n",
       "  <text x=\"77.510843\" y=\"74.948598\" font-size=\"1.0rem\" font-weight=\"100\" text-anchor=\"middle\" transform=\"rotate(-90,77.510843,74.948598)\">28718</text>\n",
       "  <text x=\"7.474299\" y=\"147.474299\" font-size=\"1.0rem\" font-weight=\"100\" text-anchor=\"middle\" transform=\"rotate(45,7.474299,147.474299)\">3</text>\n",
       "</svg>\n",
       "</td>\n",
       "</tr>\n",
       "</table>"
      ],
      "text/plain": [
       "dask.array<rechunk-merge, shape=(3, 28718, 1046), dtype=float64, chunksize=(3, 4000, 1046), chunktype=numpy.ndarray>"
      ]
     },
     "execution_count": 15,
     "metadata": {},
     "output_type": "execute_result"
    }
   ],
   "source": [
    "ds_mf_chunk.Sv.data"
   ]
  },
  {
   "cell_type": "code",
   "execution_count": 16,
   "metadata": {},
   "outputs": [
    {
     "data": {
      "text/html": [
       "<table>\n",
       "<tr>\n",
       "<td>\n",
       "<table>\n",
       "  <thead>\n",
       "    <tr><td> </td><th> Array </th><th> Chunk </th></tr>\n",
       "  </thead>\n",
       "  <tbody>\n",
       "    <tr><th> Bytes </th><td> 720.94 MB </td> <td> 720.94 MB </td></tr>\n",
       "    <tr><th> Shape </th><td> (3, 28718, 1046) </td> <td> (3, 28718, 1046) </td></tr>\n",
       "    <tr><th> Count </th><td> 2 Tasks </td><td> 1 Chunks </td></tr>\n",
       "    <tr><th> Type </th><td> float64 </td><td> numpy.ndarray </td></tr>\n",
       "  </tbody>\n",
       "</table>\n",
       "</td>\n",
       "<td>\n",
       "<svg width=\"107\" height=\"184\" style=\"stroke:rgb(0,0,0);stroke-width:1\" >\n",
       "\n",
       "  <!-- Horizontal lines -->\n",
       "  <line x1=\"10\" y1=\"0\" x2=\"24\" y2=\"14\" style=\"stroke-width:2\" />\n",
       "  <line x1=\"10\" y1=\"120\" x2=\"24\" y2=\"134\" style=\"stroke-width:2\" />\n",
       "\n",
       "  <!-- Vertical lines -->\n",
       "  <line x1=\"10\" y1=\"0\" x2=\"10\" y2=\"120\" style=\"stroke-width:2\" />\n",
       "  <line x1=\"24\" y1=\"14\" x2=\"24\" y2=\"134\" style=\"stroke-width:2\" />\n",
       "\n",
       "  <!-- Colored Rectangle -->\n",
       "  <polygon points=\"10.000000,0.000000 24.948598,14.948598 24.948598,134.948598 10.000000,120.000000\" style=\"fill:#ECB172A0;stroke-width:0\"/>\n",
       "\n",
       "  <!-- Horizontal lines -->\n",
       "  <line x1=\"10\" y1=\"0\" x2=\"42\" y2=\"0\" style=\"stroke-width:2\" />\n",
       "  <line x1=\"24\" y1=\"14\" x2=\"57\" y2=\"14\" style=\"stroke-width:2\" />\n",
       "\n",
       "  <!-- Vertical lines -->\n",
       "  <line x1=\"10\" y1=\"0\" x2=\"24\" y2=\"14\" style=\"stroke-width:2\" />\n",
       "  <line x1=\"42\" y1=\"0\" x2=\"57\" y2=\"14\" style=\"stroke-width:2\" />\n",
       "\n",
       "  <!-- Colored Rectangle -->\n",
       "  <polygon points=\"10.000000,0.000000 42.562245,0.000000 57.510843,14.948598 24.948598,14.948598\" style=\"fill:#ECB172A0;stroke-width:0\"/>\n",
       "\n",
       "  <!-- Horizontal lines -->\n",
       "  <line x1=\"24\" y1=\"14\" x2=\"57\" y2=\"14\" style=\"stroke-width:2\" />\n",
       "  <line x1=\"24\" y1=\"134\" x2=\"57\" y2=\"134\" style=\"stroke-width:2\" />\n",
       "\n",
       "  <!-- Vertical lines -->\n",
       "  <line x1=\"24\" y1=\"14\" x2=\"24\" y2=\"134\" style=\"stroke-width:2\" />\n",
       "  <line x1=\"57\" y1=\"14\" x2=\"57\" y2=\"134\" style=\"stroke-width:2\" />\n",
       "\n",
       "  <!-- Colored Rectangle -->\n",
       "  <polygon points=\"24.948598,14.948598 57.510843,14.948598 57.510843,134.948598 24.948598,134.948598\" style=\"fill:#ECB172A0;stroke-width:0\"/>\n",
       "\n",
       "  <!-- Text -->\n",
       "  <text x=\"41.229721\" y=\"154.948598\" font-size=\"1.0rem\" font-weight=\"100\" text-anchor=\"middle\" >1046</text>\n",
       "  <text x=\"77.510843\" y=\"74.948598\" font-size=\"1.0rem\" font-weight=\"100\" text-anchor=\"middle\" transform=\"rotate(-90,77.510843,74.948598)\">28718</text>\n",
       "  <text x=\"7.474299\" y=\"147.474299\" font-size=\"1.0rem\" font-weight=\"100\" text-anchor=\"middle\" transform=\"rotate(45,7.474299,147.474299)\">3</text>\n",
       "</svg>\n",
       "</td>\n",
       "</tr>\n",
       "</table>"
      ],
      "text/plain": [
       "dask.array<open_dataset-492e4ddb3f794769b9513d2936132204Sv, shape=(3, 28718, 1046), dtype=float64, chunksize=(3, 28718, 1046), chunktype=numpy.ndarray>"
      ]
     },
     "execution_count": 16,
     "metadata": {},
     "output_type": "execute_result"
    }
   ],
   "source": [
    "ds_mf.Sv.data"
   ]
  },
  {
   "cell_type": "markdown",
   "metadata": {},
   "source": [
    "## Get various variables for MVBS calculation"
   ]
  },
  {
   "cell_type": "markdown",
   "metadata": {},
   "source": [
    "Calculating sample thickness, which will be used to determine the number of range bins used for each MVBS tile."
   ]
  },
  {
   "cell_type": "code",
   "execution_count": 17,
   "metadata": {},
   "outputs": [
    {
     "data": {
      "text/plain": [
       "<xarray.DataArray (frequency: 3)>\n",
       "array([0.19121777, 0.19121777, 0.19121777], dtype=float32)\n",
       "Coordinates:\n",
       "  * frequency  (frequency) float32 120000.0 38000.0 200000.0"
      ]
     },
     "execution_count": 17,
     "metadata": {},
     "output_type": "execute_result"
    }
   ],
   "source": [
    "with xr.open_dataset(nc_files[0], group=\"Beam\") as ds_beam:\n",
    "    with xr.open_dataset(nc_files[0], group=\"Environment\") as ds_env:\n",
    "        sample_thickness = ds_env.sound_speed_indicative * ds_beam.sample_interval / 2  # sample thickness\n",
    "sample_thickness"
   ]
  },
  {
   "cell_type": "markdown",
   "metadata": {},
   "source": [
    "Set range bin (depth) and ping number sizes for each MVBS tile."
   ]
  },
  {
   "cell_type": "code",
   "execution_count": 18,
   "metadata": {},
   "outputs": [],
   "source": [
    "MVBS_range_bin_size = 5  # [m]\n",
    "MVBS_ping_size = 40      # ping number"
   ]
  },
  {
   "cell_type": "markdown",
   "metadata": {},
   "source": [
    "Adjust tile range bin size so that it is an integer multiple of the sample thickness."
   ]
  },
  {
   "cell_type": "code",
   "execution_count": 19,
   "metadata": {},
   "outputs": [
    {
     "name": "stdout",
     "output_type": "stream",
     "text": [
      "There are 26 range bins in each MVBS tile.\n",
      "There are a total of 41 range_bin bins for each Sv tile.\n"
     ]
    }
   ],
   "source": [
    "# Adjust noise_est_range_bin_size because range_bin_size may be an inconvenient value\n",
    "r_data_sz = ds_mf_chunk['range_bin'].size   # dimension of range_bin in data file\n",
    "num_r_per_tile = (np.round(MVBS_range_bin_size / sample_thickness).\n",
    "                  astype(int)).values.max()  # num of range_bin per tile\n",
    "MVBS_range_bin_size = (num_r_per_tile * sample_thickness).values\n",
    "\n",
    "num_tile_range_bin = np.ceil(r_data_sz / num_r_per_tile).astype(int)\n",
    "\n",
    "print(f'There are {num_r_per_tile} range bins in each MVBS tile.')\n",
    "print(f'There are a total of {num_tile_range_bin} range_bin bins for each Sv tile.')"
   ]
  },
  {
   "cell_type": "markdown",
   "metadata": {},
   "source": [
    "Below are the bin edges we will use to group values along the `range_bin` dimension:"
   ]
  },
  {
   "cell_type": "code",
   "execution_count": 20,
   "metadata": {},
   "outputs": [
    {
     "data": {
      "text/plain": [
       "array([  -1,   25,   51,   77,  103,  129,  155,  181,  207,  233,  259,\n",
       "        285,  311,  337,  363,  389,  415,  441,  467,  493,  519,  545,\n",
       "        571,  597,  623,  649,  675,  701,  727,  753,  779,  805,  831,\n",
       "        857,  883,  909,  935,  961,  987, 1013, 1039, 1065])"
      ]
     },
     "execution_count": 20,
     "metadata": {},
     "output_type": "execute_result"
    }
   ],
   "source": [
    "r_tile_bin_edge = np.arange(num_tile_range_bin+1) * num_r_per_tile - 1\n",
    "r_tile_bin_edge"
   ]
  },
  {
   "cell_type": "code",
   "execution_count": 39,
   "metadata": {},
   "outputs": [
    {
     "data": {
      "text/plain": [
       "28718"
      ]
     },
     "execution_count": 39,
     "metadata": {},
     "output_type": "execute_result"
    }
   ],
   "source": [
    "p_data_sz = ds_mf_chunk['ping_time'].size   # dimension of ping_time in data file\n",
    "p_data_sz"
   ]
  },
  {
   "cell_type": "code",
   "execution_count": 43,
   "metadata": {
    "scrolled": true
   },
   "outputs": [
    {
     "data": {
      "text/plain": [
       "array([   -1,    39,    79,   119,   159,   199,   239,   279,   319,\n",
       "         359,   399,   439,   479,   519,   559,   599,   639,   679,\n",
       "         719,   759,   799,   839,   879,   919,   959,   999,  1039,\n",
       "        1079,  1119,  1159,  1199,  1239,  1279,  1319,  1359,  1399,\n",
       "        1439,  1479,  1519,  1559,  1599,  1639,  1679,  1719,  1759,\n",
       "        1799,  1839,  1879,  1919,  1959,  1999,  2039,  2079,  2119,\n",
       "        2159,  2199,  2239,  2279,  2319,  2359,  2399,  2439,  2479,\n",
       "        2519,  2559,  2599,  2639,  2679,  2719,  2759,  2799,  2839,\n",
       "        2879,  2919,  2959,  2999,  3039,  3079,  3119,  3159,  3199,\n",
       "        3239,  3279,  3319,  3359,  3399,  3439,  3479,  3519,  3559,\n",
       "        3599,  3639,  3679,  3719,  3759,  3799,  3839,  3879,  3919,\n",
       "        3959,  3999,  4039,  4079,  4119,  4159,  4199,  4239,  4279,\n",
       "        4319,  4359,  4399,  4439,  4479,  4519,  4559,  4599,  4639,\n",
       "        4679,  4719,  4759,  4799,  4839,  4879,  4919,  4959,  4999,\n",
       "        5039,  5079,  5119,  5159,  5199,  5239,  5279,  5319,  5359,\n",
       "        5399,  5439,  5479,  5519,  5559,  5599,  5639,  5679,  5719,\n",
       "        5759,  5799,  5839,  5879,  5919,  5959,  5999,  6039,  6079,\n",
       "        6119,  6159,  6199,  6239,  6279,  6319,  6359,  6399,  6439,\n",
       "        6479,  6519,  6559,  6599,  6639,  6679,  6719,  6759,  6799,\n",
       "        6839,  6879,  6919,  6959,  6999,  7039,  7079,  7119,  7159,\n",
       "        7199,  7239,  7279,  7319,  7359,  7399,  7439,  7479,  7519,\n",
       "        7559,  7599,  7639,  7679,  7719,  7759,  7799,  7839,  7879,\n",
       "        7919,  7959,  7999,  8039,  8079,  8119,  8159,  8199,  8239,\n",
       "        8279,  8319,  8359,  8399,  8439,  8479,  8519,  8559,  8599,\n",
       "        8639,  8679,  8719,  8759,  8799,  8839,  8879,  8919,  8959,\n",
       "        8999,  9039,  9079,  9119,  9159,  9199,  9239,  9279,  9319,\n",
       "        9359,  9399,  9439,  9479,  9519,  9559,  9599,  9639,  9679,\n",
       "        9719,  9759,  9799,  9839,  9879,  9919,  9959,  9999, 10039,\n",
       "       10079, 10119, 10159, 10199, 10239, 10279, 10319, 10359, 10399,\n",
       "       10439, 10479, 10519, 10559, 10599, 10639, 10679, 10719, 10759,\n",
       "       10799, 10839, 10879, 10919, 10959, 10999, 11039, 11079, 11119,\n",
       "       11159, 11199, 11239, 11279, 11319, 11359, 11399, 11439, 11479,\n",
       "       11519, 11559, 11599, 11639, 11679, 11719, 11759, 11799, 11839,\n",
       "       11879, 11919, 11959, 11999, 12039, 12079, 12119, 12159, 12199,\n",
       "       12239, 12279, 12319, 12359, 12399, 12439, 12479, 12519, 12559,\n",
       "       12599, 12639, 12679, 12719, 12759, 12799, 12839, 12879, 12919,\n",
       "       12959, 12999, 13039, 13079, 13119, 13159, 13199, 13239, 13279,\n",
       "       13319, 13359, 13399, 13439, 13479, 13519, 13559, 13599, 13639,\n",
       "       13679, 13719, 13759, 13799, 13839, 13879, 13919, 13959, 13999,\n",
       "       14039, 14079, 14119, 14159, 14199, 14239, 14279, 14319, 14359,\n",
       "       14399, 14439, 14479, 14519, 14559, 14599, 14639, 14679, 14719,\n",
       "       14759, 14799, 14839, 14879, 14919, 14959, 14999, 15039, 15079,\n",
       "       15119, 15159, 15199, 15239, 15279, 15319, 15359, 15399, 15439,\n",
       "       15479, 15519, 15559, 15599, 15639, 15679, 15719, 15759, 15799,\n",
       "       15839, 15879, 15919, 15959, 15999, 16039, 16079, 16119, 16159,\n",
       "       16199, 16239, 16279, 16319, 16359, 16399, 16439, 16479, 16519,\n",
       "       16559, 16599, 16639, 16679, 16719, 16759, 16799, 16839, 16879,\n",
       "       16919, 16959, 16999, 17039, 17079, 17119, 17159, 17199, 17239,\n",
       "       17279, 17319, 17359, 17399, 17439, 17479, 17519, 17559, 17599,\n",
       "       17639, 17679, 17719, 17759, 17799, 17839, 17879, 17919, 17959,\n",
       "       17999, 18039, 18079, 18119, 18159, 18199, 18239, 18279, 18319,\n",
       "       18359, 18399, 18439, 18479, 18519, 18559, 18599, 18639, 18679,\n",
       "       18719, 18759, 18799, 18839, 18879, 18919, 18959, 18999, 19039,\n",
       "       19079, 19119, 19159, 19199, 19239, 19279, 19319, 19359, 19399,\n",
       "       19439, 19479, 19519, 19559, 19599, 19639, 19679, 19719, 19759,\n",
       "       19799, 19839, 19879, 19919, 19959, 19999, 20039, 20079, 20119,\n",
       "       20159, 20199, 20239, 20279, 20319, 20359, 20399, 20439, 20479,\n",
       "       20519, 20559, 20599, 20639, 20679, 20719, 20759, 20799, 20839,\n",
       "       20879, 20919, 20959, 20999, 21039, 21079, 21119, 21159, 21199,\n",
       "       21239, 21279, 21319, 21359, 21399, 21439, 21479, 21519, 21559,\n",
       "       21599, 21639, 21679, 21719, 21759, 21799, 21839, 21879, 21919,\n",
       "       21959, 21999, 22039, 22079, 22119, 22159, 22199, 22239, 22279,\n",
       "       22319, 22359, 22399, 22439, 22479, 22519, 22559, 22599, 22639,\n",
       "       22679, 22719, 22759, 22799, 22839, 22879, 22919, 22959, 22999,\n",
       "       23039, 23079, 23119, 23159, 23199, 23239, 23279, 23319, 23359,\n",
       "       23399, 23439, 23479, 23519, 23559, 23599, 23639, 23679, 23719,\n",
       "       23759, 23799, 23839, 23879, 23919, 23959, 23999, 24039, 24079,\n",
       "       24119, 24159, 24199, 24239, 24279, 24319, 24359, 24399, 24439,\n",
       "       24479, 24519, 24559, 24599, 24639, 24679, 24719, 24759, 24799,\n",
       "       24839, 24879, 24919, 24959, 24999, 25039, 25079, 25119, 25159,\n",
       "       25199, 25239, 25279, 25319, 25359, 25399, 25439, 25479, 25519,\n",
       "       25559, 25599, 25639, 25679, 25719, 25759, 25799, 25839, 25879,\n",
       "       25919, 25959, 25999, 26039, 26079, 26119, 26159, 26199, 26239,\n",
       "       26279, 26319, 26359, 26399, 26439, 26479, 26519, 26559, 26599,\n",
       "       26639, 26679, 26719, 26759, 26799, 26839, 26879, 26919, 26959,\n",
       "       26999, 27039, 27079, 27119, 27159, 27199, 27239, 27279, 27319,\n",
       "       27359, 27399, 27439, 27479, 27519, 27559, 27599, 27639, 27679,\n",
       "       27719, 27759, 27799, 27839, 27879, 27919, 27959, 27999, 28039,\n",
       "       28079, 28119, 28159, 28199, 28239, 28279, 28319, 28359, 28399,\n",
       "       28439, 28479, 28519, 28559, 28599, 28639, 28679, 28719])"
      ]
     },
     "execution_count": 43,
     "metadata": {},
     "output_type": "execute_result"
    }
   ],
   "source": [
    "p_tile_bin_edge = np.arange(num_tile_ping) * MVBS_ping_size - 1\n",
    "p_tile_bin_edge"
   ]
  },
  {
   "cell_type": "code",
   "execution_count": 42,
   "metadata": {},
   "outputs": [
    {
     "data": {
      "text/plain": [
       "719"
      ]
     },
     "execution_count": 42,
     "metadata": {},
     "output_type": "execute_result"
    }
   ],
   "source": [
    "p_tile_bin_edge.size"
   ]
  },
  {
   "cell_type": "code",
   "execution_count": 37,
   "metadata": {},
   "outputs": [
    {
     "data": {
      "text/plain": [
       "719"
      ]
     },
     "execution_count": 37,
     "metadata": {},
     "output_type": "execute_result"
    }
   ],
   "source": [
    "num_tile_ping = np.ceil(p_data_sz / MVBS_ping_size).astype(int) + 1\n",
    "num_tile_ping"
   ]
  },
  {
   "cell_type": "code",
   "execution_count": 21,
   "metadata": {},
   "outputs": [],
   "source": [
    "# Produce a new coordinate for groupby operation\n",
    "p_data_sz = ds_mf_chunk['ping_time'].size   # dimension of ping_time in data file\n",
    "if np.mod(p_data_sz, MVBS_ping_size) == 0:\n",
    "    num_tile_ping = np.ceil(p_data_sz / MVBS_ping_size).astype(int) + 1\n",
    "    p_idx = np.array([np.arange(num_tile_ping - 1)] * MVBS_ping_size).squeeze().T.ravel()\n",
    "else:\n",
    "    num_tile_ping = np.ceil(p_data_sz / MVBS_ping_size).astype(int)\n",
    "    pad = np.ones(p_data_sz - (num_tile_ping - 1) * MVBS_ping_size, dtype=int) \\\n",
    "          * (num_tile_ping - 1)\n",
    "    p_idx = np.hstack(\n",
    "        (np.array([np.arange(num_tile_ping - 1)] * MVBS_ping_size).squeeze().T.ravel(), pad))"
   ]
  },
  {
   "cell_type": "code",
   "execution_count": 22,
   "metadata": {},
   "outputs": [
    {
     "data": {
      "text/plain": [
       "array([  0,   0,   0, ..., 717, 717, 717])"
      ]
     },
     "execution_count": 22,
     "metadata": {},
     "output_type": "execute_result"
    }
   ],
   "source": [
    "p_idx"
   ]
  },
  {
   "cell_type": "code",
   "execution_count": 23,
   "metadata": {},
   "outputs": [
    {
     "data": {
      "text/plain": [
       "717.95"
      ]
     },
     "execution_count": 23,
     "metadata": {},
     "output_type": "execute_result"
    }
   ],
   "source": [
    "p_data_sz/MVBS_ping_size"
   ]
  },
  {
   "cell_type": "markdown",
   "metadata": {},
   "source": [
    "Let's now calculate the actual range (in meters) for the data set."
   ]
  },
  {
   "cell_type": "code",
   "execution_count": 24,
   "metadata": {},
   "outputs": [],
   "source": [
    "tvg_correction_factor = 2\n",
    "with xr.open_dataset(nc_files[0], group=\"Beam\") as ds_beam:\n",
    "    range_meter = ds_beam.range_bin * sample_thickness - \\\n",
    "                  tvg_correction_factor * sample_thickness  # DataArray [frequency x range_bin]\n",
    "    range_meter = range_meter.where(range_meter > 0, other=0)"
   ]
  },
  {
   "cell_type": "code",
   "execution_count": 25,
   "metadata": {},
   "outputs": [
    {
     "data": {
      "text/plain": [
       "<xarray.DataArray (frequency: 3, range_bin: 1046)>\n",
       "array([[  0.        ,   0.        ,   0.        , ..., 199.05769359,\n",
       "        199.24891135, 199.44012912],\n",
       "       [  0.        ,   0.        ,   0.        , ..., 199.05769359,\n",
       "        199.24891135, 199.44012912],\n",
       "       [  0.        ,   0.        ,   0.        , ..., 199.05769359,\n",
       "        199.24891135, 199.44012912]])\n",
       "Coordinates:\n",
       "  * range_bin  (range_bin) int64 0 1 2 3 4 5 6 ... 1040 1041 1042 1043 1044 1045\n",
       "  * frequency  (frequency) float32 120000.0 38000.0 200000.0"
      ]
     },
     "execution_count": 25,
     "metadata": {},
     "output_type": "execute_result"
    }
   ],
   "source": [
    "range_meter.T"
   ]
  },
  {
   "cell_type": "markdown",
   "metadata": {},
   "source": [
    "## MVBS computation"
   ]
  },
  {
   "cell_type": "markdown",
   "metadata": {},
   "source": [
    "In the original code we needed to add one more coordinate variable `add_idx` in order to use `groupby` to calculate averages along the `ping_time` dimension. We also needed to do explicit `groupby_bins` operation to calculate averages along the `range_bin` dimension. \n",
    "\n",
    "Now with the `coarsen` function -- which was designed to perform multi-dimensional block-wise computations -- we don't need to do these explicitly, IF the average along `ping_time` is based on index. If the average along `ping_time` is based on the time itself, we can then use `resample` to perform the average first along `ping_time` and then use `groupby_bins` along `range_bin`."
   ]
  },
  {
   "cell_type": "markdown",
   "metadata": {},
   "source": [
    "### Based on index along `ping_time`"
   ]
  },
  {
   "cell_type": "markdown",
   "metadata": {},
   "source": [
    "In the above we also chunked the loaded Sv data into blocks of 4000, which would work well if the MVBS cell size along `ping_time` is 40. \n",
    "\n",
    "One thing we should try in echopype is to change the chunk size according to the specified desired MVBS cell size right before computing MVBS to see if it makes the computation more efficient."
   ]
  },
  {
   "cell_type": "code",
   "execution_count": 91,
   "metadata": {},
   "outputs": [
    {
     "data": {
      "text/plain": [
       "<xarray.Dataset>\n",
       "Dimensions:    (frequency: 3, ping_time: 24, range_bin: 41)\n",
       "Coordinates:\n",
       "  * frequency  (frequency) float32 120000.0 38000.0 200000.0\n",
       "  * ping_time  (ping_time) datetime64[ns] 2015-08-17T00:10:10.478174166 ... 2015-08-17T23:10:39.497937388\n",
       "  * range_bin  (range_bin) float64 12.5 38.5 64.5 ... 1e+03 1.026e+03 1.042e+03\n",
       "    ping_idx   (ping_time) float64 599.5 1.8e+03 3e+03 ... 2.7e+04 2.816e+04\n",
       "Data variables:\n",
       "    Sv         (frequency, ping_time, range_bin) float64 -62.33 ... -38.96\n",
       "    range      (frequency, range_bin) float64 2.03 6.979 11.95 ... 195.9 199.0"
      ]
     },
     "execution_count": 91,
     "metadata": {},
     "output_type": "execute_result"
    }
   ],
   "source": [
    "# We can simply use coarsen for this operation\n",
    "MVBS_coarsen_chunk = ds_mf_chunk.coarsen(ping_time=1200, \n",
    "                                         range_bin=num_r_per_tile, \n",
    "                                         boundary='pad').mean()\n",
    "MVBS_coarsen_chunk.compute()"
   ]
  },
  {
   "cell_type": "code",
   "execution_count": 92,
   "metadata": {},
   "outputs": [
    {
     "data": {
      "image/png": "[encoded data removed]",
      "text/plain": [
       "<Figure size 1080x216 with 2 Axes>"
      ]
     },
     "metadata": {
      "needs_background": "light"
     },
     "output_type": "display_data"
    }
   ],
   "source": [
    "fig, ax = plt.subplots(figsize=(15,3))\n",
    "MVBS_coarsen_chunk['Sv'].sel(frequency=38000).\\\n",
    "    plot(ax=ax, x='ping_time',cmap='magma',vmin=-50,vmax=-80)\n",
    "plt.show()"
   ]
  },
  {
   "cell_type": "code",
   "execution_count": 36,
   "metadata": {},
   "outputs": [],
   "source": [
    "MVBS_from_coarsen_values = MVBS_coarsen_chunk['Sv'].sel(frequency=38000).values"
   ]
  },
  {
   "cell_type": "markdown",
   "metadata": {},
   "source": [
    "One thing we should test is if the coarsen operation really produce the same results as the brute force `groupby` and `groupby_bins` operations used in the original code.\n",
    "\n",
    "Let's try to calculate MVBS using the original operation."
   ]
  },
  {
   "cell_type": "code",
   "execution_count": 54,
   "metadata": {},
   "outputs": [
    {
     "data": {
      "text/plain": [
       "<xarray.Dataset>\n",
       "Dimensions:    (frequency: 3, ping_idx: 28718, range_bin: 1046)\n",
       "Coordinates:\n",
       "  * frequency  (frequency) float32 120000.0 38000.0 200000.0\n",
       "    ping_time  (ping_idx) datetime64[ns] 2015-08-17T00:00:00.088000 ... 2015-08-17T23:19:59.703000\n",
       "  * range_bin  (range_bin) int64 0 1 2 3 4 5 6 ... 1040 1041 1042 1043 1044 1045\n",
       "  * ping_idx   (ping_idx) int64 0 1 2 3 4 5 ... 28713 28714 28715 28716 28717\n",
       "Data variables:\n",
       "    Sv         (frequency, ping_idx, range_bin) float64 dask.array<chunksize=(3, 4000, 1046), meta=np.ndarray>\n",
       "    range      (frequency, range_bin) float64 dask.array<chunksize=(3, 1046), meta=np.ndarray>"
      ]
     },
     "execution_count": 54,
     "metadata": {},
     "output_type": "execute_result"
    }
   ],
   "source": [
    "ds_mf_chunk.coords['ping_idx'] = ('ping_time', np.arange(ds_mf_chunk['ping_time'].size))\n",
    "ds_mf_chunk.swap_dims({'ping_time': 'ping_idx'})"
   ]
  },
  {
   "cell_type": "code",
   "execution_count": 58,
   "metadata": {},
   "outputs": [
    {
     "name": "stderr",
     "output_type": "stream",
     "text": [
      "distributed.utils_perf - WARNING - full garbage collections took 22% CPU time recently (threshold: 10%)\n",
      "distributed.utils_perf - WARNING - full garbage collections took 22% CPU time recently (threshold: 10%)\n",
      "distributed.utils_perf - WARNING - full garbage collections took 22% CPU time recently (threshold: 10%)\n",
      "distributed.utils_perf - WARNING - full garbage collections took 22% CPU time recently (threshold: 10%)\n",
      "distributed.utils_perf - WARNING - full garbage collections took 22% CPU time recently (threshold: 10%)\n",
      "distributed.utils_perf - WARNING - full garbage collections took 22% CPU time recently (threshold: 10%)\n",
      "distributed.utils_perf - WARNING - full garbage collections took 22% CPU time recently (threshold: 10%)\n",
      "distributed.utils_perf - WARNING - full garbage collections took 21% CPU time recently (threshold: 10%)\n",
      "distributed.utils_perf - WARNING - full garbage collections took 21% CPU time recently (threshold: 10%)\n",
      "distributed.utils_perf - WARNING - full garbage collections took 22% CPU time recently (threshold: 10%)\n",
      "distributed.utils_perf - WARNING - full garbage collections took 25% CPU time recently (threshold: 10%)\n",
      "distributed.utils_perf - WARNING - full garbage collections took 27% CPU time recently (threshold: 10%)\n",
      "distributed.utils_perf - WARNING - full garbage collections took 27% CPU time recently (threshold: 10%)\n",
      "distributed.utils_perf - WARNING - full garbage collections took 27% CPU time recently (threshold: 10%)\n",
      "distributed.utils_perf - WARNING - full garbage collections took 27% CPU time recently (threshold: 10%)\n",
      "distributed.utils_perf - WARNING - full garbage collections took 28% CPU time recently (threshold: 10%)\n",
      "distributed.utils_perf - WARNING - full garbage collections took 29% CPU time recently (threshold: 10%)\n",
      "distributed.utils_perf - WARNING - full garbage collections took 28% CPU time recently (threshold: 10%)\n",
      "distributed.utils_perf - WARNING - full garbage collections took 25% CPU time recently (threshold: 10%)\n",
      "distributed.utils_perf - WARNING - full garbage collections took 25% CPU time recently (threshold: 10%)\n"
     ]
    }
   ],
   "source": [
    "MVBS_chunk = ds_mf_chunk['Sv'].sel(frequency=38000).\\\n",
    "                groupby_bins('ping_idx',p_tile_bin_edge).mean('ping_time').\\\n",
    "                groupby_bins('range_bin', r_tile_bin_edge).mean('range_bin')\n",
    "MVBS_from_groupby_values = MVBS_chunk.values"
   ]
  },
  {
   "cell_type": "code",
   "execution_count": null,
   "metadata": {},
   "outputs": [],
   "source": []
  },
  {
   "cell_type": "code",
   "execution_count": null,
   "metadata": {},
   "outputs": [],
   "source": []
  },
  {
   "cell_type": "code",
   "execution_count": 224,
   "metadata": {},
   "outputs": [
    {
     "name": "stdout",
     "output_type": "stream",
     "text": [
      "CPU times: user 2 µs, sys: 1e+03 ns, total: 3 µs\n",
      "Wall time: 5.96 µs\n"
     ]
    },
    {
     "name": "stderr",
     "output_type": "stream",
     "text": [
      "distributed.utils_perf - WARNING - full garbage collections took 19% CPU time recently (threshold: 10%)\n",
      "distributed.utils_perf - WARNING - full garbage collections took 19% CPU time recently (threshold: 10%)\n",
      "distributed.utils_perf - WARNING - full garbage collections took 19% CPU time recently (threshold: 10%)\n",
      "distributed.utils_perf - WARNING - full garbage collections took 19% CPU time recently (threshold: 10%)\n",
      "distributed.utils_perf - WARNING - full garbage collections took 20% CPU time recently (threshold: 10%)\n",
      "distributed.utils_perf - WARNING - full garbage collections took 24% CPU time recently (threshold: 10%)\n",
      "distributed.utils_perf - WARNING - full garbage collections took 24% CPU time recently (threshold: 10%)\n",
      "distributed.utils_perf - WARNING - full garbage collections took 23% CPU time recently (threshold: 10%)\n",
      "distributed.utils_perf - WARNING - full garbage collections took 23% CPU time recently (threshold: 10%)\n",
      "distributed.utils_perf - WARNING - full garbage collections took 23% CPU time recently (threshold: 10%)\n",
      "distributed.utils_perf - WARNING - full garbage collections took 23% CPU time recently (threshold: 10%)\n",
      "distributed.utils_perf - WARNING - full garbage collections took 24% CPU time recently (threshold: 10%)\n"
     ]
    }
   ],
   "source": [
    "%time\n",
    "MVBS_chunk = ds_mf_chunk.Sv.sel(frequency=38000).groupby('add_idx').mean('ping_time').\\\n",
    "                groupby_bins('range_bin', r_tile_bin_edge).mean('range_bin')\n",
    "MVBS_chunk.compute()\n",
    "MVBS_from_groupby_values = MVBS_chunk.values"
   ]
  },
  {
   "cell_type": "code",
   "execution_count": 59,
   "metadata": {},
   "outputs": [
    {
     "data": {
      "text/plain": [
       "array([-46.15908517, -46.80226769, -46.79573241, -46.78587295,\n",
       "       -46.78649482, -46.65451153, -46.55760167, -45.81349541,\n",
       "       -45.58275927, -46.58851423])"
      ]
     },
     "execution_count": 59,
     "metadata": {},
     "output_type": "execute_result"
    }
   ],
   "source": [
    "MVBS_from_coarsen_values[:10,0]"
   ]
  },
  {
   "cell_type": "code",
   "execution_count": 60,
   "metadata": {},
   "outputs": [
    {
     "data": {
      "text/plain": [
       "array([-46.15908517, -46.80226769, -46.79573241, -46.78587295,\n",
       "       -46.78649482, -46.65451153, -46.55760167, -45.81349541,\n",
       "       -45.58275927, -46.58851423])"
      ]
     },
     "execution_count": 60,
     "metadata": {},
     "output_type": "execute_result"
    }
   ],
   "source": [
    "MVBS_from_groupby_values[:10,0]"
   ]
  },
  {
   "cell_type": "code",
   "execution_count": 64,
   "metadata": {},
   "outputs": [
    {
     "data": {
      "text/plain": [
       "array([ True,  True,  True,  True,  True,  True,  True,  True,  True,\n",
       "        True])"
      ]
     },
     "execution_count": 64,
     "metadata": {},
     "output_type": "execute_result"
    }
   ],
   "source": [
    "np.isclose(MVBS_from_coarsen_values[:10,0], MVBS_from_groupby_values[:10,0], atol=1e-13, rtol=0)"
   ]
  },
  {
   "cell_type": "code",
   "execution_count": 65,
   "metadata": {},
   "outputs": [
    {
     "data": {
      "text/plain": [
       "array([ True,  True, False,  True,  True, False,  True,  True,  True,\n",
       "        True])"
      ]
     },
     "execution_count": 65,
     "metadata": {},
     "output_type": "execute_result"
    }
   ],
   "source": [
    "np.isclose(MVBS_from_coarsen_values[:10,0], MVBS_from_groupby_values[:10,0], atol=1e-14, rtol=0)"
   ]
  },
  {
   "cell_type": "code",
   "execution_count": 66,
   "metadata": {},
   "outputs": [
    {
     "data": {
      "text/plain": [
       "-46.79573240806343"
      ]
     },
     "execution_count": 66,
     "metadata": {},
     "output_type": "execute_result"
    }
   ],
   "source": [
    "MVBS_from_coarsen_values[2,0]"
   ]
  },
  {
   "cell_type": "code",
   "execution_count": 67,
   "metadata": {},
   "outputs": [
    {
     "data": {
      "text/plain": [
       "-46.79573240806341"
      ]
     },
     "execution_count": 67,
     "metadata": {},
     "output_type": "execute_result"
    }
   ],
   "source": [
    "MVBS_from_groupby_values[2,0]"
   ]
  },
  {
   "cell_type": "markdown",
   "metadata": {},
   "source": [
    "The computations are pretty much equivalent with difference on the order of 1e-13."
   ]
  },
  {
   "cell_type": "markdown",
   "metadata": {},
   "source": [
    "### Based on time along ping_time"
   ]
  },
  {
   "cell_type": "markdown",
   "metadata": {},
   "source": [
    "The coarsen operation can only be based on index, so to compute MVBS based on the actual timestamp, we will need to combined `resample` and `groupby_bins` along the `ping_time` and `range_bin` dimensions, respectively.\n",
    "\n",
    "Let's do this by trying to produce MVBS with a cell size of 20 min x ~5 m."
   ]
  },
  {
   "cell_type": "code",
   "execution_count": 84,
   "metadata": {},
   "outputs": [
    {
     "data": {
      "text/plain": [
       "<xarray.DataArray 'Sv' (frequency: 3, ping_time: 24, range_bin: 1046)>\n",
       "dask.array<transpose, shape=(3, 24, 1046), dtype=float64, chunksize=(3, 1, 1046), chunktype=numpy.ndarray>\n",
       "Coordinates:\n",
       "  * ping_time  (ping_time) datetime64[ns] 2015-08-17 ... 2015-08-17T23:00:00\n",
       "  * frequency  (frequency) float32 120000.0 38000.0 200000.0\n",
       "  * range_bin  (range_bin) int64 0 1 2 3 4 5 6 ... 1040 1041 1042 1043 1044 1045"
      ]
     },
     "execution_count": 84,
     "metadata": {},
     "output_type": "execute_result"
    }
   ],
   "source": [
    "MVBS_time_chunk = ds_mf_chunk['Sv'].resample(ping_time='1H').mean()\n",
    "MVBS_time_chunk"
   ]
  },
  {
   "cell_type": "markdown",
   "metadata": {},
   "source": [
    "Let's check the ping time to make sure results of the resampling operation makes sens:"
   ]
  },
  {
   "cell_type": "code",
   "execution_count": 85,
   "metadata": {},
   "outputs": [
    {
     "data": {
      "text/plain": [
       "<xarray.DataArray 'ping_time' (ping_time: 24)>\n",
       "array(['2015-08-17T00:00:00.000000000', '2015-08-17T01:00:00.000000000',\n",
       "       '2015-08-17T02:00:00.000000000', '2015-08-17T03:00:00.000000000',\n",
       "       '2015-08-17T04:00:00.000000000', '2015-08-17T05:00:00.000000000',\n",
       "       '2015-08-17T06:00:00.000000000', '2015-08-17T07:00:00.000000000',\n",
       "       '2015-08-17T08:00:00.000000000', '2015-08-17T09:00:00.000000000',\n",
       "       '2015-08-17T10:00:00.000000000', '2015-08-17T11:00:00.000000000',\n",
       "       '2015-08-17T12:00:00.000000000', '2015-08-17T13:00:00.000000000',\n",
       "       '2015-08-17T14:00:00.000000000', '2015-08-17T15:00:00.000000000',\n",
       "       '2015-08-17T16:00:00.000000000', '2015-08-17T17:00:00.000000000',\n",
       "       '2015-08-17T18:00:00.000000000', '2015-08-17T19:00:00.000000000',\n",
       "       '2015-08-17T20:00:00.000000000', '2015-08-17T21:00:00.000000000',\n",
       "       '2015-08-17T22:00:00.000000000', '2015-08-17T23:00:00.000000000'],\n",
       "      dtype='datetime64[ns]')\n",
       "Coordinates:\n",
       "  * ping_time  (ping_time) datetime64[ns] 2015-08-17 ... 2015-08-17T23:00:00"
      ]
     },
     "execution_count": 85,
     "metadata": {},
     "output_type": "execute_result"
    }
   ],
   "source": [
    "MVBS_time_chunk['ping_time']"
   ]
  },
  {
   "cell_type": "code",
   "execution_count": 86,
   "metadata": {},
   "outputs": [
    {
     "data": {
      "text/plain": [
       "<xarray.DataArray 'Sv' (frequency: 3, ping_time: 24, range_bin_bins: 41)>\n",
       "dask.array<transpose, shape=(3, 24, 41), dtype=float64, chunksize=(3, 1, 1), chunktype=numpy.ndarray>\n",
       "Coordinates:\n",
       "  * range_bin_bins  (range_bin_bins) object (-1, 25] (25, 51] ... (1039, 1065]\n",
       "  * ping_time       (ping_time) datetime64[ns] 2015-08-17 ... 2015-08-17T23:00:00\n",
       "  * frequency       (frequency) float32 120000.0 38000.0 200000.0"
      ]
     },
     "execution_count": 86,
     "metadata": {},
     "output_type": "execute_result"
    }
   ],
   "source": [
    "MVBS_time_range_chunk = MVBS_time_chunk.groupby_bins('range_bin',r_tile_bin_edge).mean()\n",
    "MVBS_time_range_chunk"
   ]
  },
  {
   "cell_type": "code",
   "execution_count": 87,
   "metadata": {},
   "outputs": [
    {
     "name": "stderr",
     "output_type": "stream",
     "text": [
      "distributed.utils_perf - WARNING - full garbage collections took 17% CPU time recently (threshold: 10%)\n"
     ]
    }
   ],
   "source": [
    "MVBS_time_range_chunk_values = MVBS_time_range_chunk.sel(frequency=38000).compute().values"
   ]
  },
  {
   "cell_type": "code",
   "execution_count": 88,
   "metadata": {},
   "outputs": [
    {
     "name": "stderr",
     "output_type": "stream",
     "text": [
      "distributed.utils_perf - WARNING - full garbage collections took 17% CPU time recently (threshold: 10%)\n"
     ]
    },
    {
     "data": {
      "text/plain": [
       "<matplotlib.collections.QuadMesh at 0x13bf49fd0>"
      ]
     },
     "execution_count": 88,
     "metadata": {},
     "output_type": "execute_result"
    },
    {
     "data": {
      "image/png": "[encoded data removed]",
      "text/plain": [
       "<Figure size 1080x216 with 2 Axes>"
      ]
     },
     "metadata": {
      "needs_background": "light"
     },
     "output_type": "display_data"
    }
   ],
   "source": [
    "fig, ax = plt.subplots(figsize=(15,3))\n",
    "MVBS_time_range_chunk.sel(frequency=38000).\\\n",
    "    plot(ax=ax, x='ping_time',cmap='magma',vmin=-50,vmax=-80)"
   ]
  },
  {
   "cell_type": "code",
   "execution_count": null,
   "metadata": {},
   "outputs": [],
   "source": []
  },
  {
   "cell_type": "code",
   "execution_count": null,
   "metadata": {},
   "outputs": [],
   "source": []
  }
 ],
 "metadata": {
  "kernelspec": {
   "display_name": "Python 3",
   "language": "python",
   "name": "python3"
  },
  "language_info": {
   "codemirror_mode": {
    "name": "ipython",
    "version": 3
   },
   "file_extension": ".py",
   "mimetype": "text/x-python",
   "name": "python",
   "nbconvert_exporter": "python",
   "pygments_lexer": "ipython3",
   "version": "3.7.3"
  }
 },
 "nbformat": 4,
 "nbformat_minor": 2
}
