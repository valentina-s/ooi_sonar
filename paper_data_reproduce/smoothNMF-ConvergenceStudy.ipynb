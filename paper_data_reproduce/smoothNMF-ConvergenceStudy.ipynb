{
 "cells": [
  {
   "cell_type": "code",
   "execution_count": 1,
   "metadata": {},
   "outputs": [],
   "source": [
    "import os\n",
    "import xarray as xr\n",
    "import matplotlib.pyplot as plt\n",
    "from sklearn.decomposition import NMF\n",
    "import tensorly as tl\n",
    "import numpy as np"
   ]
  },
  {
   "cell_type": "code",
   "execution_count": 2,
   "metadata": {},
   "outputs": [],
   "source": [
    "MVBS_path = '/Users/wu-jung/code_git/ooi_sonar/zplsc_data_2015fall/nc_MVBS_envFromFile/'\n",
    "MVBS_path = '../data/reproduced_MVBS_files/'\n",
    "MVBS_file = '20150817-20151017_MVBS_time_from_Sv_rangeBin5_all.nc'"
   ]
  },
  {
   "cell_type": "code",
   "execution_count": 3,
   "metadata": {},
   "outputs": [
    {
     "data": {
      "text/html": [
       "<pre>&lt;xarray.Dataset&gt;\n",
       "Dimensions:    (frequency: 3, ping_time: 8928, range_bin: 41)\n",
       "Coordinates:\n",
       "  * range_bin  (range_bin) int64 0 1 2 3 4 5 6 7 8 ... 33 34 35 36 37 38 39 40\n",
       "  * frequency  (frequency) float32 120000.0 38000.0 200000.0\n",
       "  * ping_time  (ping_time) datetime64[ns] 2015-08-17 ... 2015-10-17T23:16:40\n",
       "Data variables:\n",
       "    MVBS       (range_bin, ping_time, frequency) float64 ...\n",
       "    range      (ping_time, range_bin) float64 ...</pre>"
      ],
      "text/plain": [
       "<xarray.Dataset>\n",
       "Dimensions:    (frequency: 3, ping_time: 8928, range_bin: 41)\n",
       "Coordinates:\n",
       "  * range_bin  (range_bin) int64 0 1 2 3 4 5 6 7 8 ... 33 34 35 36 37 38 39 40\n",
       "  * frequency  (frequency) float32 120000.0 38000.0 200000.0\n",
       "  * ping_time  (ping_time) datetime64[ns] 2015-08-17 ... 2015-10-17T23:16:40\n",
       "Data variables:\n",
       "    MVBS       (range_bin, ping_time, frequency) float64 ...\n",
       "    range      (ping_time, range_bin) float64 ..."
      ]
     },
     "execution_count": 3,
     "metadata": {},
     "output_type": "execute_result"
    }
   ],
   "source": [
    "MVBS = xr.open_dataset(os.path.join(MVBS_path, MVBS_file))\n",
    "MVBS"
   ]
  },
  {
   "cell_type": "code",
   "execution_count": 4,
   "metadata": {},
   "outputs": [],
   "source": [
    "#MVBS_PCP_path = '/Users/wu-jung/code_git/ooi_sonar/zplsc_data_2015fall/nc_PCP_envFromFile/'\n",
    "MVBS_PCP_path = '../data/reproduced_MVBS_files/'\n",
    "MVBS_rpca_file = '20150817-20151017_MVBS_time_from_Sv_rangeBin5_rpca.nc'"
   ]
  },
  {
   "cell_type": "code",
   "execution_count": 5,
   "metadata": {},
   "outputs": [
    {
     "data": {
      "text/html": [
       "<pre>&lt;xarray.Dataset&gt;\n",
       "Dimensions:    (date: 62, depth: 37, frequency: 3, hour: 144)\n",
       "Coordinates:\n",
       "  * date       (date) datetime64[ns] 2015-08-17 2015-08-18 ... 2015-10-17\n",
       "  * frequency  (frequency) int64 38000 120000 200000\n",
       "  * depth      (depth) float64 184.0 179.0 174.0 169.0 ... 14.91 9.943 4.972\n",
       "  * hour       (hour) float64 0.0 0.1667 0.3333 0.5 ... 23.33 23.5 23.67 23.83\n",
       "Data variables:\n",
       "    low_rank   (date, frequency, depth, hour) float64 ...\n",
       "    sparse     (date, frequency, depth, hour) float64 ...</pre>"
      ],
      "text/plain": [
       "<xarray.Dataset>\n",
       "Dimensions:    (date: 62, depth: 37, frequency: 3, hour: 144)\n",
       "Coordinates:\n",
       "  * date       (date) datetime64[ns] 2015-08-17 2015-08-18 ... 2015-10-17\n",
       "  * frequency  (frequency) int64 38000 120000 200000\n",
       "  * depth      (depth) float64 184.0 179.0 174.0 169.0 ... 14.91 9.943 4.972\n",
       "  * hour       (hour) float64 0.0 0.1667 0.3333 0.5 ... 23.33 23.5 23.67 23.83\n",
       "Data variables:\n",
       "    low_rank   (date, frequency, depth, hour) float64 ...\n",
       "    sparse     (date, frequency, depth, hour) float64 ..."
      ]
     },
     "execution_count": 5,
     "metadata": {},
     "output_type": "execute_result"
    }
   ],
   "source": [
    "MVBS_rpca = xr.open_dataset(os.path.join(MVBS_PCP_path, MVBS_rpca_file))\n",
    "MVBS_rpca"
   ]
  },
  {
   "cell_type": "code",
   "execution_count": 6,
   "metadata": {},
   "outputs": [
    {
     "data": {
      "text/plain": [
       "(62, 3, 37, 144)"
      ]
     },
     "execution_count": 6,
     "metadata": {},
     "output_type": "execute_result"
    }
   ],
   "source": [
    "low_rank = MVBS_rpca['low_rank']\n",
    "low_rank.shape"
   ]
  },
  {
   "cell_type": "code",
   "execution_count": 7,
   "metadata": {},
   "outputs": [],
   "source": [
    "#low_rank = low_rank.sel(frequency=[38000])"
   ]
  },
  {
   "cell_type": "code",
   "execution_count": 8,
   "metadata": {},
   "outputs": [],
   "source": [
    "n_observations, n_frequencies, n_depth_levels, n_pins = low_rank.shape"
   ]
  },
  {
   "cell_type": "code",
   "execution_count": 9,
   "metadata": {
    "scrolled": true
   },
   "outputs": [
    {
     "data": {
      "text/plain": [
       "(62, 15984)"
      ]
     },
     "execution_count": 9,
     "metadata": {},
     "output_type": "execute_result"
    }
   ],
   "source": [
    "low_rank = low_rank.values.reshape([n_observations,-1])\n",
    "low_rank.shape"
   ]
  },
  {
   "cell_type": "code",
   "execution_count": 10,
   "metadata": {},
   "outputs": [],
   "source": [
    "low_rank_nonneg = low_rank - low_rank.min()"
   ]
  },
  {
   "cell_type": "code",
   "execution_count": 11,
   "metadata": {},
   "outputs": [],
   "source": [
    "low_rank_nonneg_scaled = (low_rank_nonneg/np.std(low_rank_nonneg.T, axis=1)).T"
   ]
  },
  {
   "cell_type": "markdown",
   "metadata": {},
   "source": [
    "## Classic NMF"
   ]
  },
  {
   "cell_type": "code",
   "execution_count": null,
   "metadata": {},
   "outputs": [],
   "source": [
    "model = NMF(n_components=3, init='random', random_state=0)"
   ]
  },
  {
   "cell_type": "code",
   "execution_count": null,
   "metadata": {},
   "outputs": [],
   "source": [
    "H = model.fit_transform(low_rank_nonneg_scaled.T)\n",
    "W = model.components_"
   ]
  },
  {
   "cell_type": "code",
   "execution_count": null,
   "metadata": {},
   "outputs": [],
   "source": [
    "(W.shape, H.shape)"
   ]
  },
  {
   "cell_type": "code",
   "execution_count": null,
   "metadata": {},
   "outputs": [],
   "source": [
    "hlines = plt.plot(H)"
   ]
  },
  {
   "cell_type": "code",
   "execution_count": null,
   "metadata": {},
   "outputs": [],
   "source": [
    "W_reorg = W.reshape(3,37,144)"
   ]
  },
  {
   "cell_type": "code",
   "execution_count": null,
   "metadata": {},
   "outputs": [],
   "source": [
    "fig, ax = plt.subplots(1,3,figsize=(15,6))\n",
    "for icomp in range(3):\n",
    "    ax[icomp].imshow(tl.unfold(tl.tensor(W_reorg[icomp,:,:].squeeze()),mode=1).T,\n",
    "                     aspect='auto')"
   ]
  },
  {
   "cell_type": "code",
   "execution_count": null,
   "metadata": {},
   "outputs": [],
   "source": []
  },
  {
   "cell_type": "code",
   "execution_count": null,
   "metadata": {},
   "outputs": [],
   "source": [
    "fig, ax = plt.subplots(1,3,figsize=(15,6))\n",
    "for icomp in range(3):\n",
    "    ax[icomp].imshow(tl.unfold(tl.tensor(W_reorg[icomp,:,:,:].squeeze()),mode=2).T,\n",
    "                     aspect='auto')"
   ]
  },
  {
   "cell_type": "code",
   "execution_count": null,
   "metadata": {},
   "outputs": [],
   "source": [
    "model_scaled = NMF(n_components=3, init='random', random_state=0)\n",
    "H = model_scaled.fit_transform(low_rank_nonneg)\n",
    "W = model_scaled.components_\n",
    "W_reorg = W.reshape(3,3,37,144)"
   ]
  },
  {
   "cell_type": "code",
   "execution_count": null,
   "metadata": {},
   "outputs": [],
   "source": [
    "hlines = plt.plot(H)\n",
    "fig, ax = plt.subplots(1,3,figsize=(15,6))\n",
    "for icomp in range(3):\n",
    "    ax[icomp].imshow(tl.unfold(tl.tensor(W_reorg[icomp,:,:,:].squeeze()),mode=2).T,\n",
    "                     aspect='auto')"
   ]
  },
  {
   "cell_type": "markdown",
   "metadata": {},
   "source": [
    "## Check similarity between days"
   ]
  },
  {
   "cell_type": "code",
   "execution_count": null,
   "metadata": {},
   "outputs": [],
   "source": [
    "from scipy.spatial.distance import pdist, squareform"
   ]
  },
  {
   "cell_type": "code",
   "execution_count": null,
   "metadata": {},
   "outputs": [],
   "source": [
    "# Normalize the activation coefficients\n",
    "k = H.T\n",
    "k_norm = k.T-k.min(axis=1)\n",
    "k_norm = k_norm/k_norm.max(axis=0)\n",
    "D = pdist(k_norm, 'euclidean')\n",
    "D_square = squareform(D)\n",
    "similarity_m = 1-D_square/D_square.max()\n",
    "\n",
    "# Check similarity between any two days within the observation period\n",
    "fig = plt.figure(figsize=(6,4))\n",
    "ax = fig.add_subplot(111)\n",
    "plt.imshow(similarity_m,cmap='RdYlBu_r')\n",
    "plt.xticks(np.arange(0,62,10),fontsize=14)\n",
    "plt.yticks(np.arange(0,62,10),fontsize=14)\n",
    "plt.xlabel('Day',fontsize=16)\n",
    "plt.ylabel('Day',fontsize=16)\n",
    "\n",
    "cbaxes = fig.add_axes([0.8, 0.125, 0.03, 0.755]) \n",
    "cbar = plt.colorbar(cax = cbaxes)  \n",
    "cbar.ax.tick_params(labelsize=14) \n",
    "cbar.ax.set_ylabel('Similarity', rotation=90, fontsize=16)\n",
    "plt.show()\n"
   ]
  },
  {
   "cell_type": "markdown",
   "metadata": {},
   "source": [
    "## Check reconstruction error"
   ]
  },
  {
   "cell_type": "code",
   "execution_count": null,
   "metadata": {},
   "outputs": [],
   "source": [
    "recon = (W.T@H.T).T"
   ]
  },
  {
   "cell_type": "code",
   "execution_count": null,
   "metadata": {},
   "outputs": [],
   "source": [
    "recon_da = xr.DataArray(np.moveaxis(recon.reshape([62, 3, 37, 144]),[0,1,2],[2,0,1]).reshape([3,37,-1]),\n",
    "                        coords=[('frequency', MVBS_rpca['frequency']),\n",
    "                                ('depth', MVBS_rpca['depth']),\n",
    "                                ('ping_time', MVBS['ping_time'])])"
   ]
  },
  {
   "cell_type": "code",
   "execution_count": null,
   "metadata": {},
   "outputs": [],
   "source": [
    "rpca_da = xr.DataArray(np.moveaxis(MVBS_rpca['low_rank'].values,[0,1,2],[2,0,1]).reshape([3,37,-1])-\n",
    "                       MVBS_rpca['low_rank'].values.min(),\n",
    "                       coords=[('frequency', MVBS_rpca['frequency']),\n",
    "                                ('depth', MVBS_rpca['depth']),\n",
    "                                ('ping_time', MVBS['ping_time'])])"
   ]
  },
  {
   "cell_type": "code",
   "execution_count": null,
   "metadata": {},
   "outputs": [],
   "source": [
    "fig, ax = plt.subplots(3, 1, figsize=(20,6), sharex=True)\n",
    "for ifreq, freq in enumerate([38000,120000,200000]):\n",
    "    (recon_da-rpca_da).sel(frequency=freq).plot(ax=ax[ifreq], yincrease=False)"
   ]
  },
  {
   "cell_type": "markdown",
   "metadata": {},
   "source": [
    "# Smooth NMF"
   ]
  },
  {
   "cell_type": "markdown",
   "metadata": {},
   "source": [
    "Next we run the smooth NMF which imposes smoothness (in time) on the activations by adding a Tikhonov regularization term on the gradient of $H$."
   ]
  },
  {
   "cell_type": "code",
   "execution_count": null,
   "metadata": {},
   "outputs": [],
   "source": [
    "# perform this step once to install the ssnmf package\n",
    "!pip install --upgrade git+https://github.com/valentina-s/ss-nmf.git"
   ]
  },
  {
   "cell_type": "code",
   "execution_count": 12,
   "metadata": {},
   "outputs": [
    {
     "name": "stdout",
     "output_type": "stream",
     "text": [
      "Processing /Users/valentina/projects/ss-nmf\n",
      "Requirement already satisfied, skipping upgrade: scipy in /Users/valentina/anaconda/envs/sonar-paper/lib/python3.7/site-packages (from ss-nmf===VERSION) (1.4.1)\n",
      "Requirement already satisfied, skipping upgrade: numpy in /Users/valentina/anaconda/envs/sonar-paper/lib/python3.7/site-packages (from ss-nmf===VERSION) (1.17.3)\n",
      "Building wheels for collected packages: ss-nmf\n",
      "  Building wheel for ss-nmf (setup.py) ... \u001b[?25ldone\n",
      "\u001b[?25h  Created wheel for ss-nmf: filename=ss_nmf-VERSION-cp37-none-any.whl size=8525964 sha256=bd95759ca0906143812795ecdeaf4f6b5c3ca358598359d73f264dd522d7a262\n",
      "  Stored in directory: /Users/valentina/Library/Caches/pip/wheels/d7/7c/ba/b54f0f3eb5c7145fb79e786f902b02752012e20b2c512b1619\n",
      "Successfully built ss-nmf\n",
      "Installing collected packages: ss-nmf\n",
      "  Found existing installation: ss-nmf VERSION\n",
      "    Uninstalling ss-nmf-VERSION:\n",
      "      Successfully uninstalled ss-nmf-VERSION\n",
      "Successfully installed ss-nmf-VERSION\n"
     ]
    }
   ],
   "source": [
    "!pip install --upgrade ~/projects/ss-nmf"
   ]
  },
  {
   "cell_type": "code",
   "execution_count": 13,
   "metadata": {},
   "outputs": [],
   "source": [
    "import ssnmf\n",
    "model = ssnmf.smoothNMF(n_components=3, max_iter=200, smoothness=5000000)"
   ]
  },
  {
   "cell_type": "code",
   "execution_count": 14,
   "metadata": {
    "scrolled": true
   },
   "outputs": [
    {
     "name": "stdout",
     "output_type": "stream",
     "text": [
      "CPU times: user 5.6 s, sys: 1.76 s, total: 7.35 s\n",
      "Wall time: 2.07 s\n"
     ]
    }
   ],
   "source": [
    "%%time\n",
    "model.fit(low_rank_nonneg.T, init='random', checkpoint_idx=range(200))"
   ]
  },
  {
   "cell_type": "code",
   "execution_count": 21,
   "metadata": {},
   "outputs": [
    {
     "name": "stdout",
     "output_type": "stream",
     "text": [
      "InitializationComparison.ipynb\r\n",
      "PCP_sPCP_low-rank_data_distribution.ipynb\r\n",
      "Untitled.ipynb\r\n",
      "apply_PCP_sPCP_to_MVBS.ipynb\r\n",
      "calibration_with_without_comparison.ipynb\r\n",
      "chkpt-2020-01-04 02:53:40.871915.db\r\n",
      "chkpt-2020-01-04-03:26:29.218704.db\r\n",
      "chkpt-2020-01-04-03:33:05.926934.db\r\n",
      "chkpt-2020-01-04-03:34:25.711101.db\r\n",
      "chkpt-2020-01-04-03:42:23.327772.db\r\n",
      "chkpt.db\r\n",
      "cophenetic_rank_estimation_classicNMF.ipynb\r\n",
      "cophenetic_rank_estimation_smoothNMF.ipynb\r\n",
      "cophenetic_smoothNMF\r\n",
      "cophenetic_smoothNMF.pkl\r\n",
      "load_PCP_for_NMF.ipynb\r\n",
      "load_PCP_for_smoothNMF.ipynb\r\n",
      "load_PCP_for_tensor.ipynb\r\n",
      "mvbs_200sec_loop_through_SvClean_files.ipynb\r\n",
      "mvbs_200sec_loop_through_Sv_file.ipynb\r\n",
      "mvbs_5min_chunk_filesize.ipynb\r\n",
      "mvbs_multiple_files.ipynb\r\n",
      "mvbs_single_file.ipynb\r\n",
      "reproduce_noise_removal.ipynb\r\n",
      "smoothNMF-ConvergenceStudy.ipynb\r\n"
     ]
    }
   ],
   "source": [
    "ls"
   ]
  },
  {
   "cell_type": "code",
   "execution_count": 18,
   "metadata": {},
   "outputs": [],
   "source": [
    "import shelve\n",
    "chkpt_data = shelve.open('chkpt-2020-01-04-03:42:23.327772')\n",
    "#chkpt_data = pickle.load(f)"
   ]
  },
  {
   "cell_type": "code",
   "execution_count": 20,
   "metadata": {},
   "outputs": [
    {
     "name": "stdout",
     "output_type": "stream",
     "text": [
      "{'H': array([[0.36521301, 0.65084793, 0.73185693, 0.73188908, 0.9184741 ,\n",
      "        0.79906472, 0.53379266, 0.16141139, 0.8532697 , 0.82371047,\n",
      "        0.64515619, 0.69941631, 0.15192833, 0.21893258, 0.19288519,\n",
      "        0.23106233, 0.5417792 , 0.35152098, 0.15417955, 0.4131557 ,\n",
      "        0.81515252, 0.89339197, 0.79894743, 0.81430134, 0.99588875,\n",
      "        0.93004175, 0.69285669, 0.17740341, 0.88851605, 0.27905588,\n",
      "        0.92067194, 0.51384212, 0.65934419, 0.67851418, 0.56320372,\n",
      "        0.4799584 , 0.63368933, 0.57830266, 0.27568146, 0.71028589,\n",
      "        0.59657755, 0.88118811, 0.67367585, 0.2120636 , 0.47232588,\n",
      "        0.7928573 , 0.41411867, 0.7903859 , 0.50327792, 0.50958114,\n",
      "        0.51145969, 0.85526826, 0.28440952, 0.13935172, 0.63809407,\n",
      "        0.06876922, 0.30033331, 0.3873784 , 0.36868469, 0.19252428,\n",
      "        0.47946065, 0.49117439],\n",
      "       [0.65719266, 0.05422065, 0.2941991 , 0.85636491, 0.32847586,\n",
      "        0.54720803, 0.49760346, 0.61166733, 0.58331766, 0.72872993,\n",
      "        0.11280049, 0.35843033, 0.70461691, 0.59047806, 0.42408874,\n",
      "        0.22023103, 0.60760552, 0.38729842, 0.91661994, 0.4773066 ,\n",
      "        0.8926459 , 0.80369987, 0.74854251, 0.68546389, 0.11875362,\n",
      "        0.83654305, 0.11827401, 0.94513705, 0.427649  , 0.41769309,\n",
      "        0.1955372 , 0.46985158, 0.25120692, 0.45592896, 0.42113143,\n",
      "        0.65245751, 0.86237675, 0.66274014, 0.22007336, 0.91646692,\n",
      "        0.81231422, 0.29354658, 0.84376998, 0.49010325, 0.09829643,\n",
      "        0.42522403, 0.72145399, 0.65897411, 0.86680233, 0.49796117,\n",
      "        0.58907689, 0.43884476, 0.96692419, 0.91765608, 0.27365511,\n",
      "        0.84992119, 0.25029372, 0.89538563, 0.57750665, 0.66827687,\n",
      "        0.49403696, 0.25996539],\n",
      "       [0.43395719, 0.93252982, 0.43722996, 0.67735507, 0.65563611,\n",
      "        0.62909721, 0.79883564, 0.89301384, 0.15242865, 0.59225305,\n",
      "        0.2821972 , 0.89993092, 0.53601575, 0.50923075, 0.1486041 ,\n",
      "        0.47122611, 0.48802117, 0.17556125, 0.87271397, 0.79420939,\n",
      "        0.92950974, 0.6178816 , 0.80472523, 0.65836342, 0.58105125,\n",
      "        0.91127789, 0.80591801, 0.23546777, 0.54916822, 0.36528943,\n",
      "        0.2754665 , 0.41352165, 0.27090485, 0.17896743, 0.51510269,\n",
      "        0.11046993, 0.42821756, 0.91280937, 0.56094267, 0.37054779,\n",
      "        0.56156797, 0.68200792, 0.11176665, 0.12328052, 0.09164142,\n",
      "        0.45660338, 0.84429971, 0.7070205 , 0.38239342, 0.23969935,\n",
      "        0.92494054, 0.62504988, 0.13922852, 0.1922512 , 0.57457417,\n",
      "        0.59402318, 0.95143089, 0.75269264, 0.58357103, 0.13986744,\n",
      "        0.82697079, 0.58325663]]), 'W': array([[17.39034277, 17.13862922, 17.21722353],\n",
      "       [17.46433439, 17.52808885, 16.57212133],\n",
      "       [17.08384   , 17.26353341, 16.63791214],\n",
      "       ...,\n",
      "       [14.56504547, 15.05791622, 13.71798876],\n",
      "       [15.07478345, 15.13086131, 14.39719457],\n",
      "       [14.25054174, 15.11038863, 13.73271222]])}\n"
     ]
    }
   ],
   "source": [
    "# display H and W for iteration 0\n",
    "print(chkpt_data['0'])"
   ]
  },
  {
   "cell_type": "code",
   "execution_count": null,
   "metadata": {},
   "outputs": [],
   "source": [
    "# set W and H\n",
    "H = model.H.T\n",
    "W = model.W.T"
   ]
  },
  {
   "cell_type": "code",
   "execution_count": null,
   "metadata": {},
   "outputs": [],
   "source": [
    "(W.shape, H.shape)"
   ]
  },
  {
   "cell_type": "code",
   "execution_count": null,
   "metadata": {},
   "outputs": [],
   "source": [
    "hlines = plt.plot(H)"
   ]
  },
  {
   "cell_type": "code",
   "execution_count": null,
   "metadata": {},
   "outputs": [],
   "source": [
    "low_rank_nonneg.shape"
   ]
  },
  {
   "cell_type": "code",
   "execution_count": null,
   "metadata": {},
   "outputs": [],
   "source": [
    "W_reorg = W.reshape(3,3,37,144)"
   ]
  },
  {
   "cell_type": "code",
   "execution_count": null,
   "metadata": {},
   "outputs": [],
   "source": [
    "fig, ax = plt.subplots(1,3,figsize=(15,6))\n",
    "for icomp in range(3):\n",
    "    ax[icomp].imshow(tl.unfold(tl.tensor(W_reorg[icomp,:,:,:].squeeze()),mode=2).T,\n",
    "                     aspect='auto')"
   ]
  },
  {
   "cell_type": "markdown",
   "metadata": {},
   "source": [
    "## Check similarity between days"
   ]
  },
  {
   "cell_type": "code",
   "execution_count": null,
   "metadata": {},
   "outputs": [],
   "source": [
    "from scipy.spatial.distance import pdist, squareform"
   ]
  },
  {
   "cell_type": "code",
   "execution_count": null,
   "metadata": {},
   "outputs": [],
   "source": [
    "# Normalize the activation coefficients\n",
    "k = H.T\n",
    "k_norm = k.T-k.min(axis=1)\n",
    "k_norm = k_norm/k_norm.max(axis=0)\n",
    "D = pdist(k_norm, 'euclidean')\n",
    "D_square = squareform(D)\n",
    "similarity_m = 1-D_square/D_square.max()\n",
    "\n",
    "# Check similarity between any two days within the observation period\n",
    "fig = plt.figure(figsize=(6,4))\n",
    "ax = fig.add_subplot(111)\n",
    "plt.imshow(similarity_m,cmap='RdYlBu_r')\n",
    "plt.xticks(np.arange(0,62,10),fontsize=14)\n",
    "plt.yticks(np.arange(0,62,10),fontsize=14)\n",
    "plt.xlabel('Day',fontsize=16)\n",
    "plt.ylabel('Day',fontsize=16)\n",
    "\n",
    "cbaxes = fig.add_axes([0.8, 0.125, 0.03, 0.755]) \n",
    "cbar = plt.colorbar(cax = cbaxes)  \n",
    "cbar.ax.tick_params(labelsize=14) \n",
    "cbar.ax.set_ylabel('Similarity', rotation=90, fontsize=16)\n",
    "plt.show()"
   ]
  },
  {
   "cell_type": "markdown",
   "metadata": {},
   "source": [
    "## Check reconstruction error"
   ]
  },
  {
   "cell_type": "code",
   "execution_count": null,
   "metadata": {},
   "outputs": [],
   "source": [
    "recon = (W.T@H.T).T\n"
   ]
  },
  {
   "cell_type": "code",
   "execution_count": null,
   "metadata": {},
   "outputs": [],
   "source": [
    "recon_da = xr.DataArray(np.moveaxis(recon.reshape([62, 3, 37, 144]),[0,1,2],[2,0,1]).reshape([3,37,-1]),\n",
    "                        coords=[('frequency', MVBS_rpca['frequency']),\n",
    "                                ('depth', MVBS_rpca['depth']),\n",
    "                                ('ping_time', MVBS['ping_time'])])"
   ]
  },
  {
   "cell_type": "code",
   "execution_count": null,
   "metadata": {},
   "outputs": [],
   "source": [
    "rpca_da = xr.DataArray(np.moveaxis(MVBS_rpca['low_rank'].values,[0,1,2],[2,0,1]).reshape([3,37,-1])-\n",
    "                       MVBS_rpca['low_rank'].values.min(),\n",
    "                       coords=[('frequency', MVBS_rpca['frequency']),\n",
    "                                ('depth', MVBS_rpca['depth']),\n",
    "                                ('ping_time', MVBS['ping_time'])])"
   ]
  },
  {
   "cell_type": "code",
   "execution_count": null,
   "metadata": {},
   "outputs": [],
   "source": [
    "fig, ax = plt.subplots(3, 1, figsize=(20,6), sharex=True)\n",
    "for ifreq, freq in enumerate([38000,120000,200000]):\n",
    "    (recon_da-rpca_da).sel(frequency=freq).plot(ax=ax[ifreq], yincrease=False)"
   ]
  },
  {
   "cell_type": "code",
   "execution_count": null,
   "metadata": {},
   "outputs": [],
   "source": []
  }
 ],
 "metadata": {
  "kernelspec": {
   "display_name": "Python 3",
   "language": "python",
   "name": "python3"
  },
  "language_info": {
   "codemirror_mode": {
    "name": "ipython",
    "version": 3
   },
   "file_extension": ".py",
   "mimetype": "text/x-python",
   "name": "python",
   "nbconvert_exporter": "python",
   "pygments_lexer": "ipython3",
   "version": "3.7.6"
  }
 },
 "nbformat": 4,
 "nbformat_minor": 2
}
