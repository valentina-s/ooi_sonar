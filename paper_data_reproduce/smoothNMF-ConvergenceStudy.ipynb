{
 "cells": [
  {
   "cell_type": "code",
   "execution_count": 1,
   "metadata": {},
   "outputs": [],
   "source": [
    "import os\n",
    "import xarray as xr\n",
    "import matplotlib.pyplot as plt\n",
    "from sklearn.decomposition import NMF\n",
    "import tensorly as tl\n",
    "import numpy as np"
   ]
  },
  {
   "cell_type": "code",
   "execution_count": 2,
   "metadata": {},
   "outputs": [],
   "source": [
    "MVBS_path = '/Users/wu-jung/code_git/ooi_sonar/zplsc_data_2015fall/nc_MVBS_envFromFile/'\n",
    "MVBS_path = '../data/reproduced_MVBS_files/'\n",
    "MVBS_file = '20150817-20151017_MVBS_time_from_Sv_rangeBin5_all.nc'"
   ]
  },
  {
   "cell_type": "code",
   "execution_count": 3,
   "metadata": {},
   "outputs": [
    {
     "data": {
      "text/html": [
       "<pre>&lt;xarray.Dataset&gt;\n",
       "Dimensions:    (frequency: 3, ping_time: 8928, range_bin: 41)\n",
       "Coordinates:\n",
       "  * range_bin  (range_bin) int64 0 1 2 3 4 5 6 7 8 ... 33 34 35 36 37 38 39 40\n",
       "  * frequency  (frequency) float32 120000.0 38000.0 200000.0\n",
       "  * ping_time  (ping_time) datetime64[ns] 2015-08-17 ... 2015-10-17T23:16:40\n",
       "Data variables:\n",
       "    MVBS       (range_bin, ping_time, frequency) float64 ...\n",
       "    range      (ping_time, range_bin) float64 ...</pre>"
      ],
      "text/plain": [
       "<xarray.Dataset>\n",
       "Dimensions:    (frequency: 3, ping_time: 8928, range_bin: 41)\n",
       "Coordinates:\n",
       "  * range_bin  (range_bin) int64 0 1 2 3 4 5 6 7 8 ... 33 34 35 36 37 38 39 40\n",
       "  * frequency  (frequency) float32 120000.0 38000.0 200000.0\n",
       "  * ping_time  (ping_time) datetime64[ns] 2015-08-17 ... 2015-10-17T23:16:40\n",
       "Data variables:\n",
       "    MVBS       (range_bin, ping_time, frequency) float64 ...\n",
       "    range      (ping_time, range_bin) float64 ..."
      ]
     },
     "execution_count": 3,
     "metadata": {},
     "output_type": "execute_result"
    }
   ],
   "source": [
    "MVBS = xr.open_dataset(os.path.join(MVBS_path, MVBS_file))\n",
    "MVBS"
   ]
  },
  {
   "cell_type": "code",
   "execution_count": 4,
   "metadata": {},
   "outputs": [],
   "source": [
    "#MVBS_PCP_path = '/Users/wu-jung/code_git/ooi_sonar/zplsc_data_2015fall/nc_PCP_envFromFile/'\n",
    "MVBS_PCP_path = '../data/reproduced_MVBS_files/'\n",
    "MVBS_rpca_file = '20150817-20151017_MVBS_time_from_Sv_rangeBin5_rpca.nc'"
   ]
  },
  {
   "cell_type": "code",
   "execution_count": 5,
   "metadata": {},
   "outputs": [
    {
     "data": {
      "text/html": [
       "<pre>&lt;xarray.Dataset&gt;\n",
       "Dimensions:    (date: 62, depth: 37, frequency: 3, hour: 144)\n",
       "Coordinates:\n",
       "  * date       (date) datetime64[ns] 2015-08-17 2015-08-18 ... 2015-10-17\n",
       "  * frequency  (frequency) int64 38000 120000 200000\n",
       "  * depth      (depth) float64 184.0 179.0 174.0 169.0 ... 14.91 9.943 4.972\n",
       "  * hour       (hour) float64 0.0 0.1667 0.3333 0.5 ... 23.33 23.5 23.67 23.83\n",
       "Data variables:\n",
       "    low_rank   (date, frequency, depth, hour) float64 ...\n",
       "    sparse     (date, frequency, depth, hour) float64 ...</pre>"
      ],
      "text/plain": [
       "<xarray.Dataset>\n",
       "Dimensions:    (date: 62, depth: 37, frequency: 3, hour: 144)\n",
       "Coordinates:\n",
       "  * date       (date) datetime64[ns] 2015-08-17 2015-08-18 ... 2015-10-17\n",
       "  * frequency  (frequency) int64 38000 120000 200000\n",
       "  * depth      (depth) float64 184.0 179.0 174.0 169.0 ... 14.91 9.943 4.972\n",
       "  * hour       (hour) float64 0.0 0.1667 0.3333 0.5 ... 23.33 23.5 23.67 23.83\n",
       "Data variables:\n",
       "    low_rank   (date, frequency, depth, hour) float64 ...\n",
       "    sparse     (date, frequency, depth, hour) float64 ..."
      ]
     },
     "execution_count": 5,
     "metadata": {},
     "output_type": "execute_result"
    }
   ],
   "source": [
    "MVBS_rpca = xr.open_dataset(os.path.join(MVBS_PCP_path, MVBS_rpca_file))\n",
    "MVBS_rpca"
   ]
  },
  {
   "cell_type": "code",
   "execution_count": 6,
   "metadata": {},
   "outputs": [
    {
     "data": {
      "text/plain": [
       "(62, 3, 37, 144)"
      ]
     },
     "execution_count": 6,
     "metadata": {},
     "output_type": "execute_result"
    }
   ],
   "source": [
    "low_rank = MVBS_rpca['low_rank']\n",
    "low_rank.shape"
   ]
  },
  {
   "cell_type": "code",
   "execution_count": 7,
   "metadata": {},
   "outputs": [],
   "source": [
    "#low_rank = low_rank.sel(frequency=[38000])"
   ]
  },
  {
   "cell_type": "code",
   "execution_count": 8,
   "metadata": {},
   "outputs": [],
   "source": [
    "n_observations, n_frequencies, n_depth_levels, n_pins = low_rank.shape"
   ]
  },
  {
   "cell_type": "code",
   "execution_count": 9,
   "metadata": {
    "scrolled": true
   },
   "outputs": [
    {
     "data": {
      "text/plain": [
       "(62, 15984)"
      ]
     },
     "execution_count": 9,
     "metadata": {},
     "output_type": "execute_result"
    }
   ],
   "source": [
    "low_rank = low_rank.values.reshape([n_observations,-1])\n",
    "low_rank.shape"
   ]
  },
  {
   "cell_type": "code",
   "execution_count": 10,
   "metadata": {},
   "outputs": [],
   "source": [
    "low_rank_nonneg = low_rank - low_rank.min()"
   ]
  },
  {
   "cell_type": "code",
   "execution_count": 11,
   "metadata": {},
   "outputs": [],
   "source": [
    "low_rank_nonneg_scaled = (low_rank_nonneg/np.std(low_rank_nonneg.T, axis=1)).T"
   ]
  },
  {
   "cell_type": "markdown",
   "metadata": {},
   "source": [
    "## Classic NMF"
   ]
  },
  {
   "cell_type": "code",
   "execution_count": null,
   "metadata": {},
   "outputs": [],
   "source": [
    "model = NMF(n_components=3, init='random', random_state=0)"
   ]
  },
  {
   "cell_type": "code",
   "execution_count": null,
   "metadata": {},
   "outputs": [],
   "source": [
    "H = model.fit_transform(low_rank_nonneg_scaled.T)\n",
    "W = model.components_"
   ]
  },
  {
   "cell_type": "code",
   "execution_count": null,
   "metadata": {},
   "outputs": [],
   "source": [
    "(W.shape, H.shape)"
   ]
  },
  {
   "cell_type": "code",
   "execution_count": null,
   "metadata": {},
   "outputs": [],
   "source": [
    "hlines = plt.plot(H)"
   ]
  },
  {
   "cell_type": "code",
   "execution_count": null,
   "metadata": {},
   "outputs": [],
   "source": [
    "W_reorg = W.reshape(3,37,144)"
   ]
  },
  {
   "cell_type": "code",
   "execution_count": null,
   "metadata": {},
   "outputs": [],
   "source": [
    "fig, ax = plt.subplots(1,3,figsize=(15,6))\n",
    "for icomp in range(3):\n",
    "    ax[icomp].imshow(tl.unfold(tl.tensor(W_reorg[icomp,:,:].squeeze()),mode=1).T,\n",
    "                     aspect='auto')"
   ]
  },
  {
   "cell_type": "code",
   "execution_count": null,
   "metadata": {},
   "outputs": [],
   "source": []
  },
  {
   "cell_type": "code",
   "execution_count": null,
   "metadata": {},
   "outputs": [],
   "source": [
    "fig, ax = plt.subplots(1,3,figsize=(15,6))\n",
    "for icomp in range(3):\n",
    "    ax[icomp].imshow(tl.unfold(tl.tensor(W_reorg[icomp,:,:,:].squeeze()),mode=2).T,\n",
    "                     aspect='auto')"
   ]
  },
  {
   "cell_type": "code",
   "execution_count": null,
   "metadata": {},
   "outputs": [],
   "source": [
    "model_scaled = NMF(n_components=3, init='random', random_state=0)\n",
    "H = model_scaled.fit_transform(low_rank_nonneg)\n",
    "W = model_scaled.components_\n",
    "W_reorg = W.reshape(3,3,37,144)"
   ]
  },
  {
   "cell_type": "code",
   "execution_count": null,
   "metadata": {},
   "outputs": [],
   "source": [
    "hlines = plt.plot(H)\n",
    "fig, ax = plt.subplots(1,3,figsize=(15,6))\n",
    "for icomp in range(3):\n",
    "    ax[icomp].imshow(tl.unfold(tl.tensor(W_reorg[icomp,:,:,:].squeeze()),mode=2).T,\n",
    "                     aspect='auto')"
   ]
  },
  {
   "cell_type": "markdown",
   "metadata": {},
   "source": [
    "## Check similarity between days"
   ]
  },
  {
   "cell_type": "code",
   "execution_count": null,
   "metadata": {},
   "outputs": [],
   "source": [
    "from scipy.spatial.distance import pdist, squareform"
   ]
  },
  {
   "cell_type": "code",
   "execution_count": null,
   "metadata": {},
   "outputs": [],
   "source": [
    "# Normalize the activation coefficients\n",
    "k = H.T\n",
    "k_norm = k.T-k.min(axis=1)\n",
    "k_norm = k_norm/k_norm.max(axis=0)\n",
    "D = pdist(k_norm, 'euclidean')\n",
    "D_square = squareform(D)\n",
    "similarity_m = 1-D_square/D_square.max()\n",
    "\n",
    "# Check similarity between any two days within the observation period\n",
    "fig = plt.figure(figsize=(6,4))\n",
    "ax = fig.add_subplot(111)\n",
    "plt.imshow(similarity_m,cmap='RdYlBu_r')\n",
    "plt.xticks(np.arange(0,62,10),fontsize=14)\n",
    "plt.yticks(np.arange(0,62,10),fontsize=14)\n",
    "plt.xlabel('Day',fontsize=16)\n",
    "plt.ylabel('Day',fontsize=16)\n",
    "\n",
    "cbaxes = fig.add_axes([0.8, 0.125, 0.03, 0.755]) \n",
    "cbar = plt.colorbar(cax = cbaxes)  \n",
    "cbar.ax.tick_params(labelsize=14) \n",
    "cbar.ax.set_ylabel('Similarity', rotation=90, fontsize=16)\n",
    "plt.show()\n"
   ]
  },
  {
   "cell_type": "markdown",
   "metadata": {},
   "source": [
    "## Check reconstruction error"
   ]
  },
  {
   "cell_type": "code",
   "execution_count": null,
   "metadata": {},
   "outputs": [],
   "source": [
    "recon = (W.T@H.T).T"
   ]
  },
  {
   "cell_type": "code",
   "execution_count": null,
   "metadata": {},
   "outputs": [],
   "source": [
    "recon_da = xr.DataArray(np.moveaxis(recon.reshape([62, 3, 37, 144]),[0,1,2],[2,0,1]).reshape([3,37,-1]),\n",
    "                        coords=[('frequency', MVBS_rpca['frequency']),\n",
    "                                ('depth', MVBS_rpca['depth']),\n",
    "                                ('ping_time', MVBS['ping_time'])])"
   ]
  },
  {
   "cell_type": "code",
   "execution_count": null,
   "metadata": {},
   "outputs": [],
   "source": [
    "rpca_da = xr.DataArray(np.moveaxis(MVBS_rpca['low_rank'].values,[0,1,2],[2,0,1]).reshape([3,37,-1])-\n",
    "                       MVBS_rpca['low_rank'].values.min(),\n",
    "                       coords=[('frequency', MVBS_rpca['frequency']),\n",
    "                                ('depth', MVBS_rpca['depth']),\n",
    "                                ('ping_time', MVBS['ping_time'])])"
   ]
  },
  {
   "cell_type": "code",
   "execution_count": null,
   "metadata": {},
   "outputs": [],
   "source": [
    "fig, ax = plt.subplots(3, 1, figsize=(20,6), sharex=True)\n",
    "for ifreq, freq in enumerate([38000,120000,200000]):\n",
    "    (recon_da-rpca_da).sel(frequency=freq).plot(ax=ax[ifreq], yincrease=False)"
   ]
  },
  {
   "cell_type": "markdown",
   "metadata": {},
   "source": [
    "# Smooth NMF"
   ]
  },
  {
   "cell_type": "markdown",
   "metadata": {},
   "source": [
    "Next we run the smooth NMF which imposes smoothness (in time) on the activations by adding a Tikhonov regularization term on the gradient of $H$."
   ]
  },
  {
   "cell_type": "code",
   "execution_count": null,
   "metadata": {},
   "outputs": [],
   "source": [
    "# perform this step once to install the ssnmf package\n",
    "!pip install --upgrade git+https://github.com/valentina-s/ss-nmf.git"
   ]
  },
  {
   "cell_type": "code",
   "execution_count": 14,
   "metadata": {},
   "outputs": [
    {
     "name": "stdout",
     "output_type": "stream",
     "text": [
      "Processing /Users/valentina/projects/ss-nmf\n",
      "Requirement already satisfied, skipping upgrade: scipy in /Users/valentina/anaconda/envs/sonar-paper/lib/python3.7/site-packages (from ss-nmf===VERSION) (1.4.1)\n",
      "Requirement already satisfied, skipping upgrade: numpy in /Users/valentina/anaconda/envs/sonar-paper/lib/python3.7/site-packages (from ss-nmf===VERSION) (1.17.3)\n",
      "Building wheels for collected packages: ss-nmf\n",
      "  Building wheel for ss-nmf (setup.py) ... \u001b[?25ldone\n",
      "\u001b[?25h  Created wheel for ss-nmf: filename=ss_nmf-VERSION-cp37-none-any.whl size=8526378 sha256=bd7fa54bf5469b10da42975884bc93d4bf8176e430cb28731c0869a7e6e3206f\n",
      "  Stored in directory: /Users/valentina/Library/Caches/pip/wheels/d7/7c/ba/b54f0f3eb5c7145fb79e786f902b02752012e20b2c512b1619\n",
      "Successfully built ss-nmf\n",
      "Installing collected packages: ss-nmf\n",
      "  Found existing installation: ss-nmf VERSION\n",
      "    Uninstalling ss-nmf-VERSION:\n",
      "      Successfully uninstalled ss-nmf-VERSION\n",
      "Successfully installed ss-nmf-VERSION\n"
     ]
    }
   ],
   "source": [
    "!pip install --upgrade ~/projects/ss-nmf"
   ]
  },
  {
   "cell_type": "code",
   "execution_count": 15,
   "metadata": {},
   "outputs": [],
   "source": [
    "import ssnmf\n",
    "model = ssnmf.smoothNMF(n_components=3, max_iter=200, smoothness=5000000)"
   ]
  },
  {
   "cell_type": "code",
   "execution_count": 16,
   "metadata": {},
   "outputs": [
    {
     "name": "stdout",
     "output_type": "stream",
     "text": [
      "mkdir: checkpoints: File exists\r\n"
     ]
    }
   ],
   "source": [
    "!mkdir checkpoints"
   ]
  },
  {
   "cell_type": "code",
   "execution_count": 28,
   "metadata": {
    "scrolled": true
   },
   "outputs": [
    {
     "name": "stdout",
     "output_type": "stream",
     "text": [
      "CPU times: user 5.49 s, sys: 1.85 s, total: 7.34 s\n",
      "Wall time: 2.01 s\n"
     ]
    }
   ],
   "source": [
    "%%time\n",
    "model.fit(low_rank_nonneg.T, init='random', checkpoint_idx=range(200), checkpoint_dir='./checkpoints')"
   ]
  },
  {
   "cell_type": "code",
   "execution_count": 22,
   "metadata": {},
   "outputs": [
    {
     "name": "stdout",
     "output_type": "stream",
     "text": [
      "chkpt-2020-01-04-19:25:54.294395.db\r\n"
     ]
    }
   ],
   "source": [
    "ls checkpoints"
   ]
  },
  {
   "cell_type": "code",
   "execution_count": null,
   "metadata": {},
   "outputs": [],
   "source": []
  },
  {
   "cell_type": "code",
   "execution_count": 25,
   "metadata": {},
   "outputs": [],
   "source": [
    "import shelve\n",
    "# note: do not use the .db extension when opening\n",
    "chkpt_data = shelve.open('./checkpoints/chkpt-2020-01-04-19:25:54.294395')\n"
   ]
  },
  {
   "cell_type": "code",
   "execution_count": 24,
   "metadata": {},
   "outputs": [
    {
     "name": "stdout",
     "output_type": "stream",
     "text": [
      "{'H': array([[0.74441527, 0.25883616, 0.29606357, 0.2618198 , 0.67483027,\n",
      "        0.40053551, 0.1355557 , 0.48577188, 0.95044621, 0.39910981,\n",
      "        0.48518362, 0.56872403, 0.7192917 , 0.63569631, 0.24062707,\n",
      "        0.71286757, 0.36736188, 0.26045187, 0.33173395, 0.59913353,\n",
      "        0.94599763, 0.59575765, 0.15840071, 0.77353418, 0.45169876,\n",
      "        0.48229674, 0.18152523, 0.65520947, 0.27829216, 0.52834016,\n",
      "        0.91931638, 0.65759791, 0.74590604, 0.96634514, 0.58748376,\n",
      "        0.47264468, 0.50026384, 0.82162832, 0.25815672, 0.25719532,\n",
      "        0.87404874, 0.45467883, 0.21234013, 0.67701353, 0.79115411,\n",
      "        0.44803404, 0.14691335, 0.29308487, 0.73653791, 0.33428112,\n",
      "        0.33738193, 0.12942535, 0.79623141, 0.67605352, 0.80261227,\n",
      "        0.38149407, 0.79014231, 0.31167767, 0.48705158, 0.53753171,\n",
      "        0.32835519, 0.9129617 ],\n",
      "       [0.21066478, 0.90315011, 0.37459952, 0.46080242, 0.19263532,\n",
      "        0.47659064, 0.27180467, 0.73546275, 0.33796336, 0.44953831,\n",
      "        0.12189268, 0.74587453, 0.15605885, 0.25708012, 0.24931433,\n",
      "        0.77420167, 0.37911869, 0.81431633, 0.75143808, 0.81363823,\n",
      "        0.53142462, 0.57313492, 0.65193157, 0.72015855, 0.1865411 ,\n",
      "        0.88065639, 0.92798904, 0.90871264, 0.83622171, 0.17204329,\n",
      "        0.29712612, 0.1777307 , 0.67488347, 0.25300566, 0.88405441,\n",
      "        0.803281  , 0.59195545, 0.63969294, 0.92964019, 0.79248617,\n",
      "        0.74089245, 0.61437292, 0.5338214 , 0.82400324, 0.07877515,\n",
      "        0.6243203 , 0.33592189, 0.81269609, 0.74561288, 0.6654715 ,\n",
      "        0.92648482, 0.80219267, 0.30624426, 0.6684358 , 0.57791966,\n",
      "        0.1457635 , 0.5769865 , 0.21073365, 0.91531939, 0.88830891,\n",
      "        0.21561548, 0.41896765],\n",
      "       [0.83417328, 0.53421614, 0.32774413, 0.18130943, 0.5985144 ,\n",
      "        0.85942135, 0.67769621, 0.66725929, 0.20804283, 0.29529373,\n",
      "        0.57722028, 0.81768034, 0.49632011, 0.34354827, 0.84768694,\n",
      "        0.89475561, 0.36182342, 0.78261211, 0.24039693, 0.42764523,\n",
      "        0.05593903, 0.19227611, 0.61981686, 0.16220862, 0.59613982,\n",
      "        0.42967729, 0.7621229 , 0.47372187, 0.5538112 , 0.65440668,\n",
      "        0.55228317, 0.29637662, 0.59799317, 0.607586  , 0.82325438,\n",
      "        0.1595591 , 0.17569047, 0.698143  , 0.44833243, 0.42846948,\n",
      "        0.3158572 , 0.05400751, 0.14399533, 0.09237517, 0.83414339,\n",
      "        0.56907293, 0.64474853, 0.12376696, 0.34912056, 0.1028906 ,\n",
      "        0.54263563, 0.90554282, 0.20013705, 0.60432679, 0.37254929,\n",
      "        0.60472023, 0.80327257, 0.54355911, 0.45043045, 0.73810631,\n",
      "        0.96163319, 0.67065384]]), 'W': array([[17.89849306, 18.9668409 , 17.18972235],\n",
      "       [17.66356512, 18.83931441, 17.30604546],\n",
      "       [17.44665679, 18.95956729, 16.73573736],\n",
      "       ...,\n",
      "       [15.23053725, 16.57518858, 14.30090217],\n",
      "       [15.42913074, 16.98481119, 14.85270547],\n",
      "       [15.39580751, 15.88612326, 14.67426007]])}\n"
     ]
    }
   ],
   "source": [
    "# display H and W for iteration 0\n",
    "print(chkpt_data['0'])"
   ]
  },
  {
   "cell_type": "code",
   "execution_count": null,
   "metadata": {},
   "outputs": [],
   "source": []
  },
  {
   "cell_type": "code",
   "execution_count": null,
   "metadata": {},
   "outputs": [],
   "source": [
    "# set W and H\n",
    "H = model.H.T\n",
    "W = model.W.T"
   ]
  },
  {
   "cell_type": "code",
   "execution_count": null,
   "metadata": {},
   "outputs": [],
   "source": [
    "(W.shape, H.shape)"
   ]
  },
  {
   "cell_type": "code",
   "execution_count": null,
   "metadata": {},
   "outputs": [],
   "source": [
    "hlines = plt.plot(H)"
   ]
  },
  {
   "cell_type": "code",
   "execution_count": null,
   "metadata": {},
   "outputs": [],
   "source": [
    "low_rank_nonneg.shape"
   ]
  },
  {
   "cell_type": "code",
   "execution_count": null,
   "metadata": {},
   "outputs": [],
   "source": [
    "W_reorg = W.reshape(3,3,37,144)"
   ]
  },
  {
   "cell_type": "code",
   "execution_count": null,
   "metadata": {},
   "outputs": [],
   "source": [
    "fig, ax = plt.subplots(1,3,figsize=(15,6))\n",
    "for icomp in range(3):\n",
    "    ax[icomp].imshow(tl.unfold(tl.tensor(W_reorg[icomp,:,:,:].squeeze()),mode=2).T,\n",
    "                     aspect='auto')"
   ]
  },
  {
   "cell_type": "markdown",
   "metadata": {},
   "source": [
    "## Check similarity between days"
   ]
  },
  {
   "cell_type": "code",
   "execution_count": null,
   "metadata": {},
   "outputs": [],
   "source": [
    "from scipy.spatial.distance import pdist, squareform"
   ]
  },
  {
   "cell_type": "code",
   "execution_count": null,
   "metadata": {},
   "outputs": [],
   "source": [
    "# Normalize the activation coefficients\n",
    "k = H.T\n",
    "k_norm = k.T-k.min(axis=1)\n",
    "k_norm = k_norm/k_norm.max(axis=0)\n",
    "D = pdist(k_norm, 'euclidean')\n",
    "D_square = squareform(D)\n",
    "similarity_m = 1-D_square/D_square.max()\n",
    "\n",
    "# Check similarity between any two days within the observation period\n",
    "fig = plt.figure(figsize=(6,4))\n",
    "ax = fig.add_subplot(111)\n",
    "plt.imshow(similarity_m,cmap='RdYlBu_r')\n",
    "plt.xticks(np.arange(0,62,10),fontsize=14)\n",
    "plt.yticks(np.arange(0,62,10),fontsize=14)\n",
    "plt.xlabel('Day',fontsize=16)\n",
    "plt.ylabel('Day',fontsize=16)\n",
    "\n",
    "cbaxes = fig.add_axes([0.8, 0.125, 0.03, 0.755]) \n",
    "cbar = plt.colorbar(cax = cbaxes)  \n",
    "cbar.ax.tick_params(labelsize=14) \n",
    "cbar.ax.set_ylabel('Similarity', rotation=90, fontsize=16)\n",
    "plt.show()"
   ]
  },
  {
   "cell_type": "markdown",
   "metadata": {},
   "source": [
    "## Check reconstruction error"
   ]
  },
  {
   "cell_type": "code",
   "execution_count": null,
   "metadata": {},
   "outputs": [],
   "source": [
    "recon = (W.T@H.T).T\n"
   ]
  },
  {
   "cell_type": "code",
   "execution_count": null,
   "metadata": {},
   "outputs": [],
   "source": [
    "recon_da = xr.DataArray(np.moveaxis(recon.reshape([62, 3, 37, 144]),[0,1,2],[2,0,1]).reshape([3,37,-1]),\n",
    "                        coords=[('frequency', MVBS_rpca['frequency']),\n",
    "                                ('depth', MVBS_rpca['depth']),\n",
    "                                ('ping_time', MVBS['ping_time'])])"
   ]
  },
  {
   "cell_type": "code",
   "execution_count": null,
   "metadata": {},
   "outputs": [],
   "source": [
    "rpca_da = xr.DataArray(np.moveaxis(MVBS_rpca['low_rank'].values,[0,1,2],[2,0,1]).reshape([3,37,-1])-\n",
    "                       MVBS_rpca['low_rank'].values.min(),\n",
    "                       coords=[('frequency', MVBS_rpca['frequency']),\n",
    "                                ('depth', MVBS_rpca['depth']),\n",
    "                                ('ping_time', MVBS['ping_time'])])"
   ]
  },
  {
   "cell_type": "code",
   "execution_count": null,
   "metadata": {},
   "outputs": [],
   "source": [
    "fig, ax = plt.subplots(3, 1, figsize=(20,6), sharex=True)\n",
    "for ifreq, freq in enumerate([38000,120000,200000]):\n",
    "    (recon_da-rpca_da).sel(frequency=freq).plot(ax=ax[ifreq], yincrease=False)"
   ]
  },
  {
   "cell_type": "code",
   "execution_count": null,
   "metadata": {},
   "outputs": [],
   "source": []
  }
 ],
 "metadata": {
  "kernelspec": {
   "display_name": "Python 3",
   "language": "python",
   "name": "python3"
  },
  "language_info": {
   "codemirror_mode": {
    "name": "ipython",
    "version": 3
   },
   "file_extension": ".py",
   "mimetype": "text/x-python",
   "name": "python",
   "nbconvert_exporter": "python",
   "pygments_lexer": "ipython3",
   "version": "3.7.6"
  }
 },
 "nbformat": 4,
 "nbformat_minor": 2
}
