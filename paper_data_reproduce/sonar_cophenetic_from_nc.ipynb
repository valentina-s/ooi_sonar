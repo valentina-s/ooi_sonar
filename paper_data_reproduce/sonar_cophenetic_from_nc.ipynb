{
 "cells": [
  {
   "cell_type": "markdown",
   "metadata": {},
   "source": [
    "### Rank Selection & Cophenetic Correlation"
   ]
  },
  {
   "cell_type": "code",
   "execution_count": 253,
   "metadata": {},
   "outputs": [],
   "source": [
    "import matplotlib.pyplot as plt\n",
    "import numpy as np\n",
    "%matplotlib inline\n",
    "import os\n",
    "import xarray as xr\n",
    "import matplotlib.pyplot as plt\n",
    "from sklearn.decomposition import NMF\n",
    "import tensorly as tl"
   ]
  },
  {
   "cell_type": "markdown",
   "metadata": {},
   "source": [
    "### Loading the data"
   ]
  },
  {
   "cell_type": "code",
   "execution_count": 254,
   "metadata": {},
   "outputs": [],
   "source": [
    "MVBS_path = '/Users/wu-jung/code_git/ooi_sonar/zplsc_data_2015fall/nc_MVBS_envFromFile/'\n",
    "MVBS_path = '../data/reproduced_MVBS_files/'\n",
    "MVBS_file = '20150817-20151017_MVBS_time_from_Sv_rangeBin5_all.nc'"
   ]
  },
  {
   "cell_type": "code",
   "execution_count": 255,
   "metadata": {},
   "outputs": [
    {
     "data": {
      "text/html": [
       "<pre>&lt;xarray.Dataset&gt;\n",
       "Dimensions:    (frequency: 3, ping_time: 8928, range_bin: 41)\n",
       "Coordinates:\n",
       "  * range_bin  (range_bin) int64 0 1 2 3 4 5 6 7 8 ... 33 34 35 36 37 38 39 40\n",
       "  * frequency  (frequency) float32 120000.0 38000.0 200000.0\n",
       "  * ping_time  (ping_time) datetime64[ns] 2015-08-17 ... 2015-10-17T23:16:40\n",
       "Data variables:\n",
       "    MVBS       (range_bin, ping_time, frequency) float64 ...\n",
       "    range      (ping_time, range_bin) float64 ...</pre>"
      ],
      "text/plain": [
       "<xarray.Dataset>\n",
       "Dimensions:    (frequency: 3, ping_time: 8928, range_bin: 41)\n",
       "Coordinates:\n",
       "  * range_bin  (range_bin) int64 0 1 2 3 4 5 6 7 8 ... 33 34 35 36 37 38 39 40\n",
       "  * frequency  (frequency) float32 120000.0 38000.0 200000.0\n",
       "  * ping_time  (ping_time) datetime64[ns] 2015-08-17 ... 2015-10-17T23:16:40\n",
       "Data variables:\n",
       "    MVBS       (range_bin, ping_time, frequency) float64 ...\n",
       "    range      (ping_time, range_bin) float64 ..."
      ]
     },
     "execution_count": 255,
     "metadata": {},
     "output_type": "execute_result"
    }
   ],
   "source": [
    "MVBS = xr.open_dataset(os.path.join(MVBS_path, MVBS_file))\n",
    "MVBS"
   ]
  },
  {
   "cell_type": "code",
   "execution_count": 256,
   "metadata": {},
   "outputs": [],
   "source": [
    "#MVBS_PCP_path = '/Users/wu-jung/code_git/ooi_sonar/zplsc_data_2015fall/nc_PCP_envFromFile/'\n",
    "MVBS_PCP_path = '../data/reproduced_MVBS_files/'\n",
    "MVBS_rpca_file = '20150817-20151017_MVBS_time_from_Sv_rangeBin5_rpca.nc'"
   ]
  },
  {
   "cell_type": "code",
   "execution_count": 257,
   "metadata": {},
   "outputs": [
    {
     "data": {
      "text/html": [
       "<pre>&lt;xarray.Dataset&gt;\n",
       "Dimensions:    (date: 62, depth: 37, frequency: 3, hour: 144)\n",
       "Coordinates:\n",
       "  * date       (date) datetime64[ns] 2015-08-17 2015-08-18 ... 2015-10-17\n",
       "  * frequency  (frequency) int64 38000 120000 200000\n",
       "  * depth      (depth) float64 184.0 179.0 174.0 169.0 ... 14.91 9.943 4.972\n",
       "  * hour       (hour) float64 0.0 0.1667 0.3333 0.5 ... 23.33 23.5 23.67 23.83\n",
       "Data variables:\n",
       "    low_rank   (date, frequency, depth, hour) float64 ...\n",
       "    sparse     (date, frequency, depth, hour) float64 ...</pre>"
      ],
      "text/plain": [
       "<xarray.Dataset>\n",
       "Dimensions:    (date: 62, depth: 37, frequency: 3, hour: 144)\n",
       "Coordinates:\n",
       "  * date       (date) datetime64[ns] 2015-08-17 2015-08-18 ... 2015-10-17\n",
       "  * frequency  (frequency) int64 38000 120000 200000\n",
       "  * depth      (depth) float64 184.0 179.0 174.0 169.0 ... 14.91 9.943 4.972\n",
       "  * hour       (hour) float64 0.0 0.1667 0.3333 0.5 ... 23.33 23.5 23.67 23.83\n",
       "Data variables:\n",
       "    low_rank   (date, frequency, depth, hour) float64 ...\n",
       "    sparse     (date, frequency, depth, hour) float64 ..."
      ]
     },
     "execution_count": 257,
     "metadata": {},
     "output_type": "execute_result"
    }
   ],
   "source": [
    "MVBS_rpca = xr.open_dataset(os.path.join(MVBS_PCP_path, MVBS_rpca_file))\n",
    "MVBS_rpca"
   ]
  },
  {
   "cell_type": "code",
   "execution_count": 258,
   "metadata": {},
   "outputs": [
    {
     "data": {
      "text/plain": [
       "(62, 3, 37, 144)"
      ]
     },
     "execution_count": 258,
     "metadata": {},
     "output_type": "execute_result"
    }
   ],
   "source": [
    "low_rank = MVBS_rpca['low_rank']\n",
    "low_rank.shape"
   ]
  },
  {
   "cell_type": "code",
   "execution_count": 259,
   "metadata": {},
   "outputs": [],
   "source": [
    "n_observations, n_frequencies, n_depth_levels, n_pins = low_rank.shape"
   ]
  },
  {
   "cell_type": "code",
   "execution_count": 260,
   "metadata": {},
   "outputs": [
    {
     "data": {
      "text/plain": [
       "(62, 15984)"
      ]
     },
     "execution_count": 260,
     "metadata": {},
     "output_type": "execute_result"
    }
   ],
   "source": [
    "low_rank = low_rank.values.reshape([n_observations,-1])\n",
    "low_rank.shape"
   ]
  },
  {
   "cell_type": "code",
   "execution_count": 261,
   "metadata": {},
   "outputs": [],
   "source": [
    "low_rank_nonneg = low_rank - low_rank.min()"
   ]
  },
  {
   "cell_type": "code",
   "execution_count": 262,
   "metadata": {},
   "outputs": [
    {
     "data": {
      "text/plain": [
       "(62, 15984)"
      ]
     },
     "execution_count": 262,
     "metadata": {},
     "output_type": "execute_result"
    }
   ],
   "source": [
    "low_rank_nonneg.shape"
   ]
  },
  {
   "cell_type": "code",
   "execution_count": 263,
   "metadata": {},
   "outputs": [],
   "source": [
    "X = (low_rank_nonneg/np.std(low_rank_nonneg.T, axis=1)).T"
   ]
  },
  {
   "cell_type": "markdown",
   "metadata": {},
   "source": [
    "### Multiple Runs\n",
    "Here we run the decomposition multiple times with different initial conditions."
   ]
  },
  {
   "cell_type": "code",
   "execution_count": 264,
   "metadata": {},
   "outputs": [
    {
     "name": "stdout",
     "output_type": "stream",
     "text": [
      "Collecting git+https://github.com/valentina-s/ss-nmf.git\n",
      "  Cloning https://github.com/valentina-s/ss-nmf.git to /private/var/folders/fq/3s4jskh93cv0__zlk6lw0l780000gn/T/pip-req-build-betgvgvl\n",
      "  Running command git clone -q https://github.com/valentina-s/ss-nmf.git /private/var/folders/fq/3s4jskh93cv0__zlk6lw0l780000gn/T/pip-req-build-betgvgvl\n",
      "Requirement already satisfied, skipping upgrade: scipy in /Users/valentina/anaconda/envs/sonar-paper/lib/python3.7/site-packages (from ss-nmf===VERSION) (1.4.1)\n",
      "Requirement already satisfied, skipping upgrade: numpy in /Users/valentina/anaconda/envs/sonar-paper/lib/python3.7/site-packages (from ss-nmf===VERSION) (1.17.3)\n",
      "Building wheels for collected packages: ss-nmf\n",
      "  Building wheel for ss-nmf (setup.py) ... \u001b[?25ldone\n",
      "\u001b[?25h  Created wheel for ss-nmf: filename=ss_nmf-VERSION-cp37-none-any.whl size=464207 sha256=6e7c3f44fcc4efb60419bb337d9806044ddd2a4f650cd09451f0ee5f3e5273c1\n",
      "  Stored in directory: /private/var/folders/fq/3s4jskh93cv0__zlk6lw0l780000gn/T/pip-ephem-wheel-cache-dga3gtlh/wheels/ee/7c/86/e2ef077ff7db547ab1ac9304320edcb62ea9df3420f458b54c\n",
      "Successfully built ss-nmf\n",
      "Installing collected packages: ss-nmf\n",
      "  Found existing installation: ss-nmf VERSION\n",
      "    Uninstalling ss-nmf-VERSION:\n",
      "      Successfully uninstalled ss-nmf-VERSION\n",
      "Successfully installed ss-nmf-VERSION\n"
     ]
    }
   ],
   "source": [
    "# perform this step once to install the ssnmf package\n",
    "!pip install --upgrade git+https://github.com/valentina-s/ss-nmf.git"
   ]
  },
  {
   "cell_type": "code",
   "execution_count": 266,
   "metadata": {},
   "outputs": [
    {
     "name": "stdout",
     "output_type": "stream",
     "text": [
      "CPU times: user 65 µs, sys: 552 µs, total: 617 µs\n",
      "Wall time: 642 µs\n"
     ]
    }
   ],
   "source": [
    "%%time\n",
    "# setting the model parameters\n",
    "import ssnmf\n",
    "model = ssnmf.smoothNMF(n_components=3, max_iter=20000, betaW=0.1, betaH=0.1, smoothness=5000000, sparsity=0.5)\n",
    "# model.fit(X, init='random')"
   ]
  },
  {
   "cell_type": "markdown",
   "metadata": {},
   "source": [
    "#### Consensus Matrix "
   ]
  },
  {
   "cell_type": "code",
   "execution_count": 217,
   "metadata": {},
   "outputs": [],
   "source": [
    "import copy\n",
    "# consensus function\n",
    "# it does not work for model_save & parallel\n",
    "# should have an option to set the random state\n",
    "\n",
    "from itertools import repeat\n",
    "\n",
    "def consensus(n_runs, X, model, parallel=False, model_save=False):\n",
    "    \"\"\"\n",
    "    Compute consensus matrix as the mean connectivity matrix across multiple runs of the factorization. It has been\n",
    "    proposed by [Brunet2004]_ to help visualize and measure the stability of the clusters obtained by NMF.\n",
    "        \n",
    "    Tracking of matrix factors across multiple runs must be enabled for computing consensus matrix. For results\n",
    "    of a single NMF run, the consensus matrix reduces to the connectivity matrix.\n",
    "        \n",
    "    Inputs\n",
    "    ------\n",
    "    \n",
    "    n_runs:     the number of times to run the model\n",
    "    X:          the data array to decompose\n",
    "    model:      an instance of an NMF class, containing the fitting parameters\n",
    "    parallel:   if True, model runs are executed in parallel (threads)\n",
    "    model_save: if set to True, returns a list of the fitted models\n",
    "    \n",
    "    Returns\n",
    "    -------\n",
    "    \n",
    "    C           the consensus matrix of size (X.shape[1],X.shape[1])\n",
    "    models      if model_save is True, a list of fitted models\n",
    "    \n",
    "    \"\"\"    \n",
    "    \n",
    "    def get_connectivity(model):\n",
    "        model_out = copy.deepcopy(model)\n",
    "        model_out.fit(X, init='random')\n",
    "        return(model_out.connectivity(), model_out)\n",
    "        \n",
    "    models = []\n",
    "    if not parallel:\n",
    "        cons = []\n",
    "        for run in range(n_runs):\n",
    "            model_out = copy.deepcopy(model)\n",
    "            model_out.fit(X, init='random')\n",
    "            if model_save:\n",
    "                models.append(model_out)\n",
    "            cons.append(model_out.connectivity())\n",
    "        cons = np.array(cons)\n",
    "\n",
    "    else:         \n",
    "        from concurrent.futures import ThreadPoolExecutor\n",
    "        ex = ThreadPoolExecutor()\n",
    "        result = ex.map(get_connectivity, repeat(model,n_runs))\n",
    "        cons, models = zip(*result)\n",
    "        cons= np.array(list(cons))\n",
    "        \n",
    "    if model_save:\n",
    "        return(np.sum(cons, axis=0)/n_runs, models)\n",
    "    else:\n",
    "        return(np.sum(cons, axis=0)/n_runs)"
   ]
  },
  {
   "cell_type": "code",
   "execution_count": 246,
   "metadata": {},
   "outputs": [],
   "source": [
    "# coph_cor function (from Nimfa)\n",
    "from scipy.cluster.hierarchy import linkage, cophenet\n",
    "def coph_cor(X, model, n_runs = 1, parallel=False, model_save=False):\n",
    "        \"\"\"\n",
    "        Compute cophenetic correlation coefficient of consensus matrix, generally obtained from multiple NMF runs. \n",
    "        \n",
    "        The cophenetic correlation coefficient is measure which indicates the dispersion of the consensus matrix and is based \n",
    "        on the average of connectivity matrices. It measures the stability of the clusters obtained from NMF. \n",
    "        It is computed as the Pearson correlation of two distance matrices: the first is the distance between samples induced by the \n",
    "        consensus matrix; the second is the distance between samples induced by the linkage used in the reordering of the consensus \n",
    "        matrix [Brunet2004]_.\n",
    "        \n",
    "        Return real number. In a perfect consensus matrix, cophenetic correlation equals 1. When the entries in consensus matrix are\n",
    "        scattered between 0 and 1, the cophenetic correlation is < 1. We observe how this coefficient changes as factorization rank \n",
    "        increases. We select the first rank, where the magnitude of the cophenetic correlation coefficient begins to fall [Brunet2004]_.\n",
    "        \n",
    "        :param idx: Used in the multiple NMF model. In factorizations following standard NMF model or nonsmooth NMF model\n",
    "                    :param:`idx` is always None.\n",
    "        :type idx: None or `str` with values 'coef' or 'coef1' (`int` value of 0 or 1, respectively) \n",
    "        \"\"\"\n",
    "        if model_save:\n",
    "             A, models = consensus(n_runs, X, model, parallel = parallel, model_save=True)\n",
    "        else:\n",
    "            A = consensus(n_runs, X, model, parallel = parallel)\n",
    "        # upper diagonal elements of consensus\n",
    "        avec = np.array([A[i, j] for i in range(A.shape[0] - 1)\n",
    "                        for j in range(i + 1, A.shape[1])])\n",
    "        # consensus entries are similarities, conversion to distances\n",
    "        Y = 1 - avec\n",
    "        Z = linkage(Y, method='average')\n",
    "        # cophenetic correlation coefficient of a hierarchical clustering\n",
    "        # defined by the linkage matrix Z and matrix Y from which Z was\n",
    "        # generated\n",
    "        return (cophenet(Z, Y)[0], cophenet(Z,Y)[1], models)"
   ]
  },
  {
   "cell_type": "code",
   "execution_count": null,
   "metadata": {},
   "outputs": [],
   "source": [
    "C, models = consensus(X=X, model=model, n_runs=4, parallel=False, model_save=True)"
   ]
  },
  {
   "cell_type": "code",
   "execution_count": 218,
   "metadata": {},
   "outputs": [
    {
     "data": {
      "text/plain": [
       "<matplotlib.image.AxesImage at 0x126ce2c90>"
      ]
     },
     "execution_count": 218,
     "metadata": {},
     "output_type": "execute_result"
    },
    {
     "data": {
      "image/png": "[encoded data removed]",
      "text/plain": [
       "<Figure size 432x288 with 1 Axes>"
      ]
     },
     "metadata": {
      "needs_background": "light"
     },
     "output_type": "display_data"
    }
   ],
   "source": [
    "plt.imshow(C)"
   ]
  },
  {
   "cell_type": "markdown",
   "metadata": {},
   "source": [
    "### Variation in Activations"
   ]
  },
  {
   "cell_type": "code",
   "execution_count": 223,
   "metadata": {},
   "outputs": [],
   "source": [
    "Hs = [model.H for model in models]"
   ]
  },
  {
   "cell_type": "code",
   "execution_count": 241,
   "metadata": {},
   "outputs": [],
   "source": [
    "# ordering the activations based on their correlation\n",
    "def match_factors(Hs):\n",
    "    Hs_ref = Hs[0]\n",
    "    rank = Hs_ref.shape[0]\n",
    "    Hs_new = [Hs_ref]\n",
    "    for k in range(len(Hs)-1):\n",
    "        # rho = (Hs_ref-Hs_ref.mean(axis=1).reshape(3,1))@(Hs[(3*(k+1)):((k+2)*3),:].T - Hs[(3*(k+1)):((k+2)*3),:].mean(axis=1).reshape(3,1).T)\n",
    "        rho = np.corrcoef(Hs_ref, Hs[k+1])[:rank,rank:]  \n",
    "        index = [0 for r in range(rank)]\n",
    "        for p in range(rank):\n",
    "            index_max = np.argmax(rho)\n",
    "            # index = np.argsort(rho, axis=1)\n",
    "            i,j = np.unravel_index(index_max,(rank,rank))\n",
    "            rho[:,j] = -2\n",
    "            rho[i,:] = -2\n",
    "            index[i] = j\n",
    "        Hs_new.append(Hs[k+1][index,:])\n",
    "        \n",
    "    return(Hs_new)"
   ]
  },
  {
   "cell_type": "code",
   "execution_count": 242,
   "metadata": {},
   "outputs": [],
   "source": [
    "Hs_ordered = match_factors(Hs)"
   ]
  },
  {
   "cell_type": "code",
   "execution_count": 243,
   "metadata": {},
   "outputs": [
    {
     "data": {
      "image/png": "[encoded data removed]",
      "text/plain": [
       "<Figure size 432x288 with 1 Axes>"
      ]
     },
     "metadata": {
      "needs_background": "light"
     },
     "output_type": "display_data"
    }
   ],
   "source": [
    "# displaying the activations corresponding to different components\n",
    "g = plt.plot(np.vstack(Hs_ordered)[0::3].T,'c')\n",
    "g = plt.plot(np.vstack(Hs_ordered)[1::3].T, 'm') \n",
    "g = plt.plot(np.vstack(Hs_ordered)[2::3].T,'b')"
   ]
  },
  {
   "cell_type": "markdown",
   "metadata": {},
   "source": [
    "### Rank Estimation"
   ]
  },
  {
   "cell_type": "code",
   "execution_count": 251,
   "metadata": {},
   "outputs": [],
   "source": [
    "# a function to estimate rank based on cophenetic correlation\n",
    "def estimate_rank(ranks, X, model, n_runs=10, parallel=True):\n",
    "    # run for different ranks\n",
    "    c_dict = {}\n",
    "    D_dict = {}\n",
    "    for r in ranks:\n",
    "        print(r)\n",
    "        model.rank = r\n",
    "        c, D, models = coph_cor(X=X, model=model, n_runs=n_runs, parallel=parallel, model_save=True)\n",
    "        c_dict[r] = c\n",
    "        D_dict[r] = D\n",
    "    rank = max(c_dict.keys(), key=(lambda k: c_dict[k]))   \n",
    "    return(rank, c_dict, D_dict, models)    "
   ]
  },
  {
   "cell_type": "code",
   "execution_count": null,
   "metadata": {},
   "outputs": [
    {
     "name": "stdout",
     "output_type": "stream",
     "text": [
      "2\n",
      "3\n",
      "4\n",
      "5\n"
     ]
    }
   ],
   "source": [
    "%%time\n",
    "rank, c_dict, D_dict, models = estimate_rank(ranks=range(2,10), X=X, model=model, n_runs=40, parallel=True)"
   ]
  },
  {
   "cell_type": "code",
   "execution_count": null,
   "metadata": {},
   "outputs": [],
   "source": [
    "# just saving the last models: should I save them all??"
   ]
  },
  {
   "cell_type": "code",
   "execution_count": 250,
   "metadata": {},
   "outputs": [
    {
     "data": {
      "text/plain": [
       "dict_values([0.8862021256171556])"
      ]
     },
     "execution_count": 250,
     "metadata": {},
     "output_type": "execute_result"
    }
   ],
   "source": [
    "c_dict.values()"
   ]
  },
  {
   "cell_type": "code",
   "execution_count": 166,
   "metadata": {},
   "outputs": [
    {
     "data": {
      "text/plain": [
       "Text(0.5, 0, 'Rank')"
      ]
     },
     "execution_count": 166,
     "metadata": {},
     "output_type": "execute_result"
    },
    {
     "data": {
      "image/png": "[encoded data removed]",
      "text/plain": [
       "<Figure size 432x288 with 1 Axes>"
      ]
     },
     "metadata": {
      "needs_background": "light"
     },
     "output_type": "display_data"
    }
   ],
   "source": [
    "# plot the Cophenetic Correlation wrt to Rank\n",
    "plt.plot(np.array(list(c_dict.keys())),list(c_dict.values()),'ro-')\n",
    "plt.title(\"Cophenetic Correlation Distance\")\n",
    "plt.xlabel(\"Rank\")"
   ]
  },
  {
   "cell_type": "code",
   "execution_count": 167,
   "metadata": {},
   "outputs": [
    {
     "data": {
      "text/plain": [
       "(15984, 62)"
      ]
     },
     "execution_count": 167,
     "metadata": {},
     "output_type": "execute_result"
    }
   ],
   "source": [
    "X.shape"
   ]
  },
  {
   "cell_type": "code",
   "execution_count": null,
   "metadata": {},
   "outputs": [],
   "source": []
  }
 ],
 "metadata": {
  "kernelspec": {
   "display_name": "Python 3",
   "language": "python",
   "name": "python3"
  },
  "language_info": {
   "codemirror_mode": {
    "name": "ipython",
    "version": 3
   },
   "file_extension": ".py",
   "mimetype": "text/x-python",
   "name": "python",
   "nbconvert_exporter": "python",
   "pygments_lexer": "ipython3",
   "version": "3.7.6"
  }
 },
 "nbformat": 4,
 "nbformat_minor": 2
}
